{
 "cells": [
  {
   "cell_type": "code",
   "execution_count": 7,
   "id": "8053ed46",
   "metadata": {},
   "outputs": [
    {
     "name": "stdout",
     "output_type": "stream",
     "text": [
      "🎵 Top Emotions (Primary Only):\n",
      "primary_emotion\n",
      "aggressive    1000\n",
      "sleazy         958\n",
      "lonely         946\n",
      "angry          944\n",
      "lazy           935\n",
      "sarcastic      934\n",
      "intense        932\n",
      "fierce         931\n",
      "dreamy         926\n",
      "dark           920\n",
      "gloomy         915\n",
      "eerie          895\n",
      "fun            893\n",
      "cheerful       892\n",
      "organic        882\n",
      "romantic       882\n",
      "positive       880\n",
      "gentle         880\n",
      "uplifting      867\n",
      "erotic         858\n",
      "relaxed        852\n",
      "lyrical        850\n",
      "harsh          848\n",
      "gritty         843\n",
      "lush           840\n",
      "soothing       836\n",
      "exotic         834\n",
      "epic           820\n",
      "martial        813\n",
      "cold           806\n",
      "optimistic     804\n",
      "delicate       800\n",
      "playful        781\n",
      "mysterious     779\n",
      "intimate       778\n",
      "technical      777\n",
      "warm           776\n",
      "sexy           770\n",
      "nocturnal      761\n",
      "serious        760\n",
      "Name: count, dtype: int64\n"
     ]
    }
   ],
   "source": [
    "import pandas as pd\n",
    "import ast\n",
    "from collections import Counter\n",
    "\n",
    "# Load your dataset (adjust the path if needed)\n",
    "df = pd.read_csv(\"C:/Users/LENOVO/Desktop/LSRA/code/muse_v3.csv\")  # replace with your actual filename\n",
    "\n",
    "# If 'seeds' is a string of a list, convert it to a list using `ast.literal_eval`\n",
    "df['seeds'] = df['seeds'].apply(lambda x: ast.literal_eval(x) if isinstance(x, str) else x)\n",
    "\n",
    "# Extract first emotion tag\n",
    "df['primary_emotion'] = df['seeds'].apply(lambda x: x[0] if x else None)\n",
    "\n",
    "# Count how many songs per primary emotion\n",
    "emotion_counts = df['primary_emotion'].value_counts()\n",
    "\n",
    "# Display top 20 most common emotions\n",
    "print(\"🎵 Top Emotions (Primary Only):\")\n",
    "print(emotion_counts.head(40))\n",
    "\n",
    "# Optional: Save to CSV for review\n",
    "emotion_counts.to_csv(\"primary_emotion_counts.csv\")\n"
   ]
  },
  {
   "cell_type": "code",
   "execution_count": null,
   "id": "6a866dcb",
   "metadata": {},
   "outputs": [
    {
     "name": "stdout",
     "output_type": "stream",
     "text": [
      "🎵 Top Emotions (Primary Only):\n",
      "primary_emotion\n",
      "aggressive     1000\n",
      "sleazy          958\n",
      "lonely          946\n",
      "angry           944\n",
      "lazy            935\n",
      "               ... \n",
      "motoric           1\n",
      "knotty            1\n",
      "virile            1\n",
      "hymn-like         1\n",
      "translucent       1\n",
      "Name: count, Length: 273, dtype: int64\n"
     ]
    }
   ],
   "source": [
    "# Extract first emotion tag\n",
    "df['primary_emotion'] = df['seeds'].apply(lambda x: x[0] if x else None)\n",
    "\n",
    "# Count how many songs per primary emotion (this counts unique first seeds)\n",
    "emotion_counts = df['primary_emotion'].value_counts()\n",
    "\n",
    "# Display top 20 most common emotions\n",
    "print(\"🎵 Top Emotions (Primary Only):\")\n",
    "print(emotion_counts)"
   ]
  }
 ],
 "metadata": {
  "kernelspec": {
   "display_name": "Python 3",
   "language": "python",
   "name": "python3"
  },
  "language_info": {
   "codemirror_mode": {
    "name": "ipython",
    "version": 3
   },
   "file_extension": ".py",
   "mimetype": "text/x-python",
   "name": "python",
   "nbconvert_exporter": "python",
   "pygments_lexer": "ipython3",
   "version": "3.13.5"
  }
 },
 "nbformat": 4,
 "nbformat_minor": 5
}
