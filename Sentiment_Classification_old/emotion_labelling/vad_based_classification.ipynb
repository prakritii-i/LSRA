{
 "cells": [
  {
   "cell_type": "code",
   "execution_count": 2,
   "id": "e2904d50",
   "metadata": {},
   "outputs": [
    {
     "name": "stdout",
     "output_type": "stream",
     "text": [
      "✅ Done! Saved VAD-based emotion labels to songs_vad_emotion_labels.csv\n",
      "\n",
      "📊 Emotion distribution:\n",
      "emotion_vad\n",
      "neutral         51016\n",
      "trust           21488\n",
      "sadness          8993\n",
      "disgust          3375\n",
      "joy              2719\n",
      "anticipation     1366\n",
      "surprise          921\n",
      "anger              66\n",
      "fear               57\n",
      "Name: count, dtype: int64\n"
     ]
    }
   ],
   "source": [
    "import pandas as pd\n",
    "\n",
    "# --- STEP 1: Load dataset ---\n",
    "df = pd.read_csv(\"muse_v3.csv\")\n",
    "\n",
    "# Make sure numeric columns are floats\n",
    "df['valence_tags'] = pd.to_numeric(df['valence_tags'], errors='coerce')\n",
    "df['arousal_tags'] = pd.to_numeric(df['arousal_tags'], errors='coerce')\n",
    "df['dominance_tags'] = pd.to_numeric(df['dominance_tags'], errors='coerce')\n",
    "\n",
    "# --- STEP 2: Define VAD → Plutchik emotion mapping ---\n",
    "def map_vad_to_emotion(valence, arousal, dominance):\n",
    "    # Handle missing data\n",
    "    if pd.isna(valence) or pd.isna(arousal) or pd.isna(dominance):\n",
    "        return \"neutral\"\n",
    "\n",
    "    # Joy\n",
    "    if valence > 6.5 and arousal > 6 and dominance > 6:\n",
    "        return \"joy\"\n",
    "    # Trust\n",
    "    elif valence > 6 and arousal < 5 and dominance >= 5:\n",
    "        return \"trust\"\n",
    "    # Fear\n",
    "    elif valence < 4 and arousal > 6 and dominance < 4:\n",
    "        return \"fear\"\n",
    "    # Anger\n",
    "    elif valence < 4 and arousal > 6 and dominance >= 5:\n",
    "        return \"anger\"\n",
    "    # Sadness\n",
    "    elif valence < 4 and arousal < 4 and dominance < 4:\n",
    "        return \"sadness\"\n",
    "    # Disgust\n",
    "    elif valence < 4 and 4 <= arousal <= 5:\n",
    "        return \"disgust\"\n",
    "    # Surprise\n",
    "    elif 4.5 <= valence <= 6 and arousal > 6:\n",
    "        return \"surprise\"\n",
    "    # Anticipation\n",
    "    elif valence > 5 and arousal > 6 and 5 <= dominance <= 7:\n",
    "        return \"anticipation\"\n",
    "    else:\n",
    "        return \"neutral\"\n",
    "\n",
    "# --- STEP 3: Apply mapping ---\n",
    "df['emotion_vad'] = df.apply(\n",
    "    lambda row: map_vad_to_emotion(\n",
    "        row['valence_tags'],\n",
    "        row['arousal_tags'],\n",
    "        row['dominance_tags']\n",
    "    ),\n",
    "    axis=1\n",
    ")\n",
    "\n",
    "# --- STEP 4: Save track + artist + emotion ---\n",
    "output_df = df[['track', 'artist', 'emotion_vad']]\n",
    "output_df.to_csv(\"songs_vad_emotion_labels.csv\", index=False)\n",
    "\n",
    "print(\"✅ Done! Saved VAD-based emotion labels to songs_vad_emotion_labels.csv\")\n",
    "\n",
    "# Optional: quick distribution check\n",
    "print(\"\\n📊 Emotion distribution:\")\n",
    "print(output_df['emotion_vad'].value_counts())\n"
   ]
  }
 ],
 "metadata": {
  "kernelspec": {
   "display_name": "Python 3",
   "language": "python",
   "name": "python3"
  },
  "language_info": {
   "codemirror_mode": {
    "name": "ipython",
    "version": 3
   },
   "file_extension": ".py",
   "mimetype": "text/x-python",
   "name": "python",
   "nbconvert_exporter": "python",
   "pygments_lexer": "ipython3",
   "version": "3.13.5"
  }
 },
 "nbformat": 4,
 "nbformat_minor": 5
}
