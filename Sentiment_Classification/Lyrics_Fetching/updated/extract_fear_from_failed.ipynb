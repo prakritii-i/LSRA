{
 "cells": [
  {
   "cell_type": "code",
   "execution_count": 5,
   "id": "3815dc93",
   "metadata": {},
   "outputs": [
    {
     "name": "stdout",
     "output_type": "stream",
     "text": [
      "📄 Total songs in dataset: 37079\n",
      "😨 Number of 'fear' songs: 2245\n",
      "💾 'Fear' songs saved to: fear.csv\n"
     ]
    }
   ],
   "source": [
    "import pandas as pd\n",
    "\n",
    "# === File paths ===\n",
    "INPUT_CSV = \"failed_lyrics.csv\"  # or your latest CSV\n",
    "OUTPUT_CSV = \"fear.csv\"\n",
    "\n",
    "# === Load dataset ===\n",
    "df = pd.read_csv(INPUT_CSV)\n",
    "print(f\"📄 Total songs in dataset: {len(df)}\")\n",
    "\n",
    "# === Filter for 'fear' emotion ===\n",
    "fear_df = df[df['final_emotion'].str.lower() == 'fear']\n",
    "print(f\"😨 Number of 'fear' songs: {len(fear_df)}\")\n",
    "\n",
    "# === Save to CSV ===\n",
    "fear_df.to_csv(OUTPUT_CSV, index=False)\n",
    "print(f\"💾 'Fear' songs saved to: {OUTPUT_CSV}\")\n"
   ]
  },
  {
   "cell_type": "code",
   "execution_count": 4,
   "id": "6aac9acc",
   "metadata": {},
   "outputs": [
    {
     "name": "stdout",
     "output_type": "stream",
     "text": [
      "Index(['track', 'artist', 'final_emotion', 'reason', 'lyrics'], dtype='object')\n"
     ]
    }
   ],
   "source": [
    "import pandas as pd\n",
    "FAILED_CSV = \"failed_lyrics.csv\"                  # existing failed file\n",
    "\n",
    "fear_df = pd.read_csv(FAILED_CSV)\n",
    "\n",
    "print(fear_df.columns)"
   ]
  }
 ],
 "metadata": {
  "kernelspec": {
   "display_name": "Python 3",
   "language": "python",
   "name": "python3"
  },
  "language_info": {
   "codemirror_mode": {
    "name": "ipython",
    "version": 3
   },
   "file_extension": ".py",
   "mimetype": "text/x-python",
   "name": "python",
   "nbconvert_exporter": "python",
   "pygments_lexer": "ipython3",
   "version": "3.13.5"
  }
 },
 "nbformat": 4,
 "nbformat_minor": 5
}
