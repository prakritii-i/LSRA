{
 "cells": [
  {
   "cell_type": "code",
   "execution_count": 2,
   "id": "f3eee8c2",
   "metadata": {},
   "outputs": [
    {
     "name": "stdout",
     "output_type": "stream",
     "text": [
      "🔄 Loading original dataset...\n",
      "📊 Original total: 90001\n",
      "🔄 Loading fetched dataset...\n",
      "✅ Fetched total: 42322\n",
      "🔄 Loading failed dataset...\n",
      "❌ Failed total: 34645\n",
      "🚀 Unfetched total: 47679\n",
      "📝 Skipped (untouched) total: 13043\n",
      "💾 Skipped list written to: skipped_phase2.csv\n"
     ]
    }
   ],
   "source": [
    "import csv\n",
    "\n",
    "# === File paths ===\n",
    "ORIGINAL = \"muse_final_emotion_dataset.csv\"     # your 90k MUSE dataset\n",
    "FETCHED = \"muse_with_lyrics.csv\"   # final fetched dataset (success)\n",
    "FAILED = \"og_failed_ones.csv\"         # failed lyrics fetches\n",
    "SKIPPED_OUT = \"skipped_phase2.csv\"  # final skipped list\n",
    "\n",
    "def make_pair(track: str, artist: str) -> str:\n",
    "    return f\"{track.strip().lower()}|{artist.strip().lower()}\"\n",
    "\n",
    "# --- Load original ---\n",
    "print(\"🔄 Loading original dataset...\")\n",
    "original_pairs = set()\n",
    "with open(ORIGINAL, newline='', encoding='utf-8') as f:\n",
    "    reader = csv.DictReader(f)\n",
    "    for row in reader:\n",
    "        original_pairs.add(make_pair(row['track'], row['artist']))\n",
    "print(f\"📊 Original total: {len(original_pairs)}\")\n",
    "\n",
    "# --- Load fetched ---\n",
    "print(\"🔄 Loading fetched dataset...\")\n",
    "fetched_pairs = set()\n",
    "with open(FETCHED, newline='', encoding='utf-8') as f:\n",
    "    reader = csv.DictReader(f)\n",
    "    for row in reader:\n",
    "        # ensure lyrics exist\n",
    "        lyrics = row.get('lyrics', '').strip()\n",
    "        if lyrics and lyrics.lower() != 'lyrics_not_found':\n",
    "            fetched_pairs.add(make_pair(row['track'], row['artist']))\n",
    "print(f\"✅ Fetched total: {len(fetched_pairs)}\")\n",
    "\n",
    "# --- Load failed ---\n",
    "print(\"🔄 Loading failed dataset...\")\n",
    "failed_pairs = set()\n",
    "with open(FAILED, newline='', encoding='utf-8') as f:\n",
    "    reader = csv.DictReader(f)\n",
    "    for row in reader:\n",
    "        failed_pairs.add(make_pair(row['track'], row['artist']))\n",
    "print(f\"❌ Failed total: {len(failed_pairs)}\")\n",
    "\n",
    "# --- Subtract to get skipped ---\n",
    "unfetched_pairs = original_pairs - fetched_pairs\n",
    "skipped_pairs = unfetched_pairs - failed_pairs\n",
    "\n",
    "print(f\"🚀 Unfetched total: {len(unfetched_pairs)}\")\n",
    "print(f\"📝 Skipped (untouched) total: {len(skipped_pairs)}\")\n",
    "\n",
    "# --- Write skipped pairs back to CSV ---\n",
    "with open(SKIPPED_OUT, 'w', newline='', encoding='utf-8') as f:\n",
    "    writer = csv.writer(f)\n",
    "    writer.writerow(['track', 'artist'])\n",
    "    for p in sorted(skipped_pairs):\n",
    "        track, artist = p.split('|', 1)\n",
    "        writer.writerow([track, artist])\n",
    "\n",
    "print(f\"💾 Skipped list written to: {SKIPPED_OUT}\")\n"
   ]
  },
  {
   "cell_type": "code",
   "execution_count": null,
   "id": "7ab800ce",
   "metadata": {},
   "outputs": [],
   "source": [
    "import pandas as pd\n",
    "\n",
    "# Original dataset with emotion labels\n",
    "original = pd.read_csv(\"muse_final_emotion_dataset.csv\")\n",
    "\n",
    "# Skipped songs with newly fetched lyrics\n",
    "skipped_fetched = pd.read_csv(\"akipped_muse_with_lyrics.csv\")\n",
    "\n",
    "# Normalize columns for matching\n",
    "for df in [original, skipped_fetched]:\n",
    "    df['track'] = df['track'].astype(str).str.strip().str.lower()\n",
    "    df['artist'] = df['artist'].astype(str).str.strip().str.lower()\n",
    "\n",
    "# Merge lyrics with emotion labels\n",
    "merged = pd.merge(\n",
    "    skipped_fetched,\n",
    "    original[['track', 'artist', 'final_emotion']],  # add other columns if needed\n",
    "    on=['track', 'artist'],\n",
    "    how='left'  # left join keeps all fetched songs\n",
    ")\n",
    "\n",
    "merged.to_csv(\"skipped_phase2_fetched_with_labels.csv\", index=False)\n",
    "print(\"✅ Merged skipped songs with emotion labels\")\n"
   ]
  }
 ],
 "metadata": {
  "kernelspec": {
   "display_name": "Python 3",
   "language": "python",
   "name": "python3"
  },
  "language_info": {
   "codemirror_mode": {
    "name": "ipython",
    "version": 3
   },
   "file_extension": ".py",
   "mimetype": "text/x-python",
   "name": "python",
   "nbconvert_exporter": "python",
   "pygments_lexer": "ipython3",
   "version": "3.13.5"
  }
 },
 "nbformat": 4,
 "nbformat_minor": 5
}
