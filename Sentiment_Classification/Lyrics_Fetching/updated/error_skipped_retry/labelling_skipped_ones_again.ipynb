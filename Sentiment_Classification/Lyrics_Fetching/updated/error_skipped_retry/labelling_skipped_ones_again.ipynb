{
 "cells": [
  {
   "cell_type": "code",
   "execution_count": 1,
   "id": "e7529e97",
   "metadata": {},
   "outputs": [
    {
     "name": "stdout",
     "output_type": "stream",
     "text": [
      "✅ Merged skipped songs with emotion labels → skipped_phase2_fetched_with_labels.csv\n",
      "📊 Total rows: 3766\n",
      "⚠️ Missing emotion labels: 0\n"
     ]
    }
   ],
   "source": [
    "import pandas as pd\n",
    "\n",
    "# === File paths ===\n",
    "ORIGINAL_FILE = \"muse_final_emotion_dataset.csv\"       # source of emotion labels\n",
    "NEW_LYRICS_FILE = \"skipped_muse_with_lyrics.csv\"          # track,artist,_2,lyrics\n",
    "OUTPUT_FILE = \"skipped_phase2_fetched_with_labels.csv\"\n",
    "\n",
    "# === Load datasets ===\n",
    "original = pd.read_csv(ORIGINAL_FILE)\n",
    "new_fetched = pd.read_csv(NEW_LYRICS_FILE)\n",
    "\n",
    "# === Clean / normalize new fetched dataset ===\n",
    "# Drop the unnecessary '_2' column if present\n",
    "if '_2' in new_fetched.columns:\n",
    "    new_fetched = new_fetched.drop(columns=['_2'])\n",
    "\n",
    "# Ensure proper column naming (in case order is different)\n",
    "new_fetched.columns = ['track', 'artist', 'lyrics']\n",
    "\n",
    "# === Normalize columns for matching ===\n",
    "for df in [original, new_fetched]:\n",
    "    df['track'] = df['track'].astype(str).str.strip().str.lower()\n",
    "    df['artist'] = df['artist'].astype(str).str.strip().str.lower()\n",
    "\n",
    "# === Merge lyrics with emotion labels ===\n",
    "merged = pd.merge(\n",
    "    new_fetched,\n",
    "    original[['track', 'artist', 'final_emotion']],\n",
    "    on=['track', 'artist'],\n",
    "    how='left'  # keep all fetched songs\n",
    ")\n",
    "\n",
    "# === Save result ===\n",
    "merged.to_csv(OUTPUT_FILE, index=False)\n",
    "print(f\"✅ Merged skipped songs with emotion labels → {OUTPUT_FILE}\")\n",
    "print(f\"📊 Total rows: {len(merged)}\")\n",
    "missing_emotion = merged['final_emotion'].isna().sum()\n",
    "print(f\"⚠️ Missing emotion labels: {missing_emotion}\")\n"
   ]
  },
  {
   "cell_type": "code",
   "execution_count": 2,
   "id": "7e92e1cf",
   "metadata": {},
   "outputs": [
    {
     "data": {
      "text/plain": [
       "Index(['track', 'artist', 'lyrics', 'final_emotion'], dtype='object')"
      ]
     },
     "execution_count": 2,
     "metadata": {},
     "output_type": "execute_result"
    }
   ],
   "source": [
    "df2 = pd.read_csv(\"skipped_phase2_fetched_with_labels.csv\")\n",
    "\n",
    "df2.columns"
   ]
  },
  {
   "cell_type": "code",
   "execution_count": 3,
   "id": "5115a762",
   "metadata": {},
   "outputs": [
    {
     "name": "stdout",
     "output_type": "stream",
     "text": [
      "\n",
      "📊 Emotion distribution after first fetching:\n",
      "final_emotion\n",
      "sadness       680\n",
      "reflective    617\n",
      "joy           612\n",
      "calm          512\n",
      "excitement    480\n",
      "romantic      441\n",
      "neutral       323\n",
      "fear           56\n",
      "anger          45\n",
      "Name: count, dtype: int64\n"
     ]
    }
   ],
   "source": [
    "\n",
    "print(\"\\n📊 Emotion distribution after first fetching:\")\n",
    "print(df2['final_emotion'].value_counts())"
   ]
  },
  {
   "cell_type": "code",
   "execution_count": 13,
   "id": "efe8f212",
   "metadata": {},
   "outputs": [
    {
     "name": "stdout",
     "output_type": "stream",
     "text": [
      "✅ Merged CSV saved → merged_clean.csv\n",
      "📊 Total rows: 3371\n"
     ]
    }
   ],
   "source": [
    "import pandas as pd\n",
    "\n",
    "# === File paths ===\n",
    "FILE1 = \"skipped_phase2_fetched_with_labels.csv\"   # track,artist,lyrics,final_emotion\n",
    "FILE2 = \"skipped_lyrics.csv\"   # track,artist,final_emotion,reason,lyrics\n",
    "OUTPUT = \"merged_clean.csv\"\n",
    "\n",
    "# === Load both CSVs ===\n",
    "df1 = pd.read_csv(FILE1)\n",
    "df2 = pd.read_csv(FILE2)\n",
    "\n",
    "# === Standardize both to common columns ===\n",
    "df1_clean = df1[[\"track\", \"artist\", \"final_emotion\", \"lyrics\"]]\n",
    "\n",
    "# df2 may have 'reason' column — ignore it\n",
    "df2_clean = df2[[\"track\", \"artist\", \"final_emotion\", \"lyrics\"]]\n",
    "\n",
    "# === Merge them together ===\n",
    "merged_df = pd.concat([df1_clean, df2_clean], ignore_index=True)\n",
    "\n",
    "# === Optional: drop duplicates based on (track, artist) ===\n",
    "merged_df.drop_duplicates(subset=[\"track\", \"artist\"], inplace=True)\n",
    "\n",
    "# === Save merged CSV ===\n",
    "merged_df.to_csv(OUTPUT, index=False)\n",
    "\n",
    "print(f\"✅ Merged CSV saved → {OUTPUT}\")\n",
    "print(f\"📊 Total rows: {len(merged_df)}\")\n"
   ]
  },
  {
   "cell_type": "code",
   "execution_count": 16,
   "id": "6c5e8043",
   "metadata": {},
   "outputs": [
    {
     "name": "stdout",
     "output_type": "stream",
     "text": [
      "\n",
      "📊 Emotion distribution after first fetching:\n",
      "final_emotion\n",
      "sadness       622\n",
      "joy           531\n",
      "reflective    508\n",
      "excitement    491\n",
      "calm          486\n",
      "romantic      366\n",
      "neutral       313\n",
      "fear           36\n",
      "anger          18\n",
      "Name: count, dtype: int64\n"
     ]
    }
   ],
   "source": [
    "\n",
    "print(\"\\n📊 Emotion distribution after first fetching:\")\n",
    "print(merged_df['final_emotion'].value_counts())"
   ]
  },
  {
   "cell_type": "code",
   "execution_count": null,
   "id": "54455890",
   "metadata": {},
   "outputs": [],
   "source": [
    "import pandas as pd\n",
    "\n",
    "# === File paths ===\n",
    "FILE1 = \"muse_final_emo.csv\"   # track,artist,lyrics,final_emotion\n",
    "FILE2 = \"merged_clean.csv\"   # track,artist,final_emotion,reason,lyrics\n",
    "OUTPUT = \"merged_clean.csv\"\n",
    "\n",
    "# === Load both CSVs ===\n",
    "df1 = pd.read_csv(FILE1)\n",
    "df2 = pd.read_csv(FILE2)\n",
    "\n",
    "# === Standardize both to common columns ===\n",
    "df1_clean = df1[[\"track\", \"artist\", \"final_emotion\", \"lyrics\"]]\n",
    "\n",
    "# df2 may have 'reason' column — ignore it\n",
    "df2_clean = df2[[\"track\", \"artist\", \"final_emotion\", \"lyrics\"]]\n",
    "\n",
    "# === Merge them together ===\n",
    "merged_df = pd.concat([df1_clean, df2_clean], ignore_index=True)\n",
    "\n",
    "# === Optional: drop duplicates based on (track, artist) ===\n",
    "merged_df.drop_duplicates(subset=[\"track\", \"artist\"], inplace=True)\n",
    "\n",
    "# === Save merged CSV ===\n",
    "merged_df.to_csv(OUTPUT, index=False)\n",
    "\n",
    "print(f\"✅ Merged CSV saved → {OUTPUT}\")\n",
    "print(f\"📊 Total rows: {len(merged_df)}\")\n"
   ]
  }
 ],
 "metadata": {
  "kernelspec": {
   "display_name": "Python 3",
   "language": "python",
   "name": "python3"
  },
  "language_info": {
   "codemirror_mode": {
    "name": "ipython",
    "version": 3
   },
   "file_extension": ".py",
   "mimetype": "text/x-python",
   "name": "python",
   "nbconvert_exporter": "python",
   "pygments_lexer": "ipython3",
   "version": "3.13.5"
  }
 },
 "nbformat": 4,
 "nbformat_minor": 5
}
