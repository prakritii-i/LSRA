{
 "cells": [
  {
   "cell_type": "code",
   "execution_count": 4,
   "id": "91611679",
   "metadata": {},
   "outputs": [
    {
     "name": "stdout",
     "output_type": "stream",
     "text": [
      "✅ Merged CSV saved → muse_with_lyrics_merged2.csv\n",
      "📊 Total rows: 49458\n"
     ]
    }
   ],
   "source": [
    "import pandas as pd\n",
    "\n",
    "# === File paths ===\n",
    "FILE1 = \"muse_with_lyrics_merged.csv\"   # track,artist,lyrics,final_emotion\n",
    "FILE2 = \"skipped_phase2_fetched_with_labels.csv\"   # track,artist,final_emotion,reason,lyrics\n",
    "OUTPUT = \"muse_with_lyrics_merged2.csv\"\n",
    "\n",
    "# === Load both CSVs ===\n",
    "df1 = pd.read_csv(FILE1)\n",
    "df2 = pd.read_csv(FILE2)\n",
    "\n",
    "# === Standardize both to common columns ===\n",
    "df1_clean = df1[[\"track\", \"artist\", \"final_emotion\", \"lyrics\"]]\n",
    "\n",
    "# df2 may have 'reason' column — ignore it\n",
    "df2_clean = df2[[\"track\", \"artist\", \"final_emotion\", \"lyrics\"]]\n",
    "\n",
    "# === Merge them together ===\n",
    "merged_df = pd.concat([df1_clean, df2_clean], ignore_index=True)\n",
    "\n",
    "# === Optional: drop duplicates based on (track, artist) ===\n",
    "merged_df.drop_duplicates(subset=[\"track\", \"artist\"], inplace=True)\n",
    "\n",
    "# === Save merged CSV ===\n",
    "merged_df.to_csv(OUTPUT, index=False)\n",
    "\n",
    "print(f\"✅ Merged CSV saved → {OUTPUT}\")\n",
    "print(f\"📊 Total rows: {len(merged_df)}\")\n"
   ]
  },
  {
   "cell_type": "code",
   "execution_count": 3,
   "id": "97a86a8d",
   "metadata": {},
   "outputs": [
    {
     "name": "stdout",
     "output_type": "stream",
     "text": [
      "\n",
      "📊 Emotion distribution after all fetching:\n",
      "final_emotion\n",
      "sadness       7602\n",
      "joy           7447\n",
      "reflective    6635\n",
      "excitement    6456\n",
      "calm          5100\n",
      "neutral       4910\n",
      "romantic      3656\n",
      "anger         2725\n",
      "fear          1162\n",
      "Name: count, dtype: int64\n"
     ]
    }
   ],
   "source": [
    "\n",
    "merged_df=pd.read_csv(\"muse_with_lyrics_merged.csv\")\n",
    "print(\"\\n📊 Emotion distribution after all fetching:\")\n",
    "print(merged_df['final_emotion'].value_counts())"
   ]
  },
  {
   "cell_type": "code",
   "execution_count": 5,
   "id": "af26ed1d",
   "metadata": {},
   "outputs": [
    {
     "name": "stdout",
     "output_type": "stream",
     "text": [
      "\n",
      "📊 Emotion distribution after all fetching:\n",
      "final_emotion\n",
      "sadness       8282\n",
      "joy           8059\n",
      "reflective    7252\n",
      "excitement    6935\n",
      "calm          5612\n",
      "neutral       5233\n",
      "romantic      4097\n",
      "anger         2770\n",
      "fear          1218\n",
      "Name: count, dtype: int64\n"
     ]
    }
   ],
   "source": [
    "\n",
    "merged_df=pd.read_csv(\"muse_with_lyrics_merged2.csv\")\n",
    "print(\"\\n📊 Emotion distribution after all fetching:\")\n",
    "print(merged_df['final_emotion'].value_counts())"
   ]
  }
 ],
 "metadata": {
  "kernelspec": {
   "display_name": "Python 3",
   "language": "python",
   "name": "python3"
  },
  "language_info": {
   "codemirror_mode": {
    "name": "ipython",
    "version": 3
   },
   "file_extension": ".py",
   "mimetype": "text/x-python",
   "name": "python",
   "nbconvert_exporter": "python",
   "pygments_lexer": "ipython3",
   "version": "3.13.5"
  }
 },
 "nbformat": 4,
 "nbformat_minor": 5
}
