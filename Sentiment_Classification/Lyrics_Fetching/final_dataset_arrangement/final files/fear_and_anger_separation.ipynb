{
 "cells": [
  {
   "cell_type": "code",
   "execution_count": 1,
   "id": "e1ca1dfc",
   "metadata": {},
   "outputs": [
    {
     "name": "stdout",
     "output_type": "stream",
     "text": [
      "✅ Saved anger+fear subset for Genius fetching → failed_anger_fear_subset.csv\n",
      "🎯 Total songs to retry: 4522\n"
     ]
    }
   ],
   "source": [
    "import pandas as pd\n",
    "\n",
    "# === File paths ===\n",
    "FAILED_CSV = \"failed_merged_with_emotion_cleaned.csv\"   # your merged failed file\n",
    "ANGER_FEAR_CSV = \"failed_anger_fear_subset.csv\" # output for Genius fetching\n",
    "\n",
    "# === Load and filter ===\n",
    "df = pd.read_csv(FAILED_CSV)\n",
    "\n",
    "# Normalize emotion column just in case\n",
    "df['final_emotion'] = df['final_emotion'].astype(str).str.strip().str.lower()\n",
    "\n",
    "# Filter only anger and fear\n",
    "subset = df[df['final_emotion'].isin(['anger', 'fear'])].copy()\n",
    "\n",
    "# Drop duplicates on (track, artist) to avoid extra API calls\n",
    "subset.drop_duplicates(subset=['track', 'artist'], inplace=True)\n",
    "\n",
    "# Save the filtered file\n",
    "subset.to_csv(ANGER_FEAR_CSV, index=False)\n",
    "print(f\"✅ Saved anger+fear subset for Genius fetching → {ANGER_FEAR_CSV}\")\n",
    "print(f\"🎯 Total songs to retry: {len(subset)}\")\n"
   ]
  },
  {
   "cell_type": "code",
   "execution_count": 5,
   "id": "f295e88c",
   "metadata": {},
   "outputs": [
    {
     "name": "stdout",
     "output_type": "stream",
     "text": [
      "final_emotion\n",
      "fear     2383\n",
      "anger    2139\n",
      "Name: count, dtype: int64\n"
     ]
    },
    {
     "data": {
      "text/html": [
       "<div>\n",
       "<style scoped>\n",
       "    .dataframe tbody tr th:only-of-type {\n",
       "        vertical-align: middle;\n",
       "    }\n",
       "\n",
       "    .dataframe tbody tr th {\n",
       "        vertical-align: top;\n",
       "    }\n",
       "\n",
       "    .dataframe thead th {\n",
       "        text-align: right;\n",
       "    }\n",
       "</style>\n",
       "<table border=\"1\" class=\"dataframe\">\n",
       "  <thead>\n",
       "    <tr style=\"text-align: right;\">\n",
       "      <th></th>\n",
       "      <th>track</th>\n",
       "      <th>artist</th>\n",
       "      <th>track_clean</th>\n",
       "      <th>artist_clean</th>\n",
       "      <th>final_emotion</th>\n",
       "    </tr>\n",
       "  </thead>\n",
       "  <tbody>\n",
       "    <tr>\n",
       "      <th>3</th>\n",
       "      <td>05</td>\n",
       "      <td>panda bear</td>\n",
       "      <td>NaN</td>\n",
       "      <td>panda bear</td>\n",
       "      <td>fear</td>\n",
       "    </tr>\n",
       "    <tr>\n",
       "      <th>10</th>\n",
       "      <td>5</td>\n",
       "      <td>gas</td>\n",
       "      <td>NaN</td>\n",
       "      <td>gas</td>\n",
       "      <td>fear</td>\n",
       "    </tr>\n",
       "    <tr>\n",
       "      <th>17</th>\n",
       "      <td>a ghost story</td>\n",
       "      <td>memphis</td>\n",
       "      <td>a ghost story</td>\n",
       "      <td>memphis</td>\n",
       "      <td>fear</td>\n",
       "    </tr>\n",
       "    <tr>\n",
       "      <th>41</th>\n",
       "      <td>agnus dei</td>\n",
       "      <td>akiko shikata (志方 あきこ)</td>\n",
       "      <td>agnus dei</td>\n",
       "      <td>akiko shikata 志方 あきこ</td>\n",
       "      <td>anger</td>\n",
       "    </tr>\n",
       "    <tr>\n",
       "      <th>80</th>\n",
       "      <td>anxiety</td>\n",
       "      <td>temperament</td>\n",
       "      <td>anxiety</td>\n",
       "      <td>temperament</td>\n",
       "      <td>fear</td>\n",
       "    </tr>\n",
       "  </tbody>\n",
       "</table>\n",
       "</div>"
      ],
      "text/plain": [
       "            track                  artist    track_clean  \\\n",
       "3              05              panda bear            NaN   \n",
       "10              5                     gas            NaN   \n",
       "17  a ghost story                 memphis  a ghost story   \n",
       "41      agnus dei  akiko shikata (志方 あきこ)      agnus dei   \n",
       "80        anxiety             temperament        anxiety   \n",
       "\n",
       "            artist_clean final_emotion  \n",
       "3             panda bear          fear  \n",
       "10                   gas          fear  \n",
       "17               memphis          fear  \n",
       "41  akiko shikata 志方 あきこ         anger  \n",
       "80           temperament          fear  "
      ]
     },
     "execution_count": 5,
     "metadata": {},
     "output_type": "execute_result"
    }
   ],
   "source": [
    "print(subset['final_emotion'].value_counts())\n",
    "subset.head(5)\n",
    "\n",
    "# subset.columns\n"
   ]
  }
 ],
 "metadata": {
  "kernelspec": {
   "display_name": "Python 3",
   "language": "python",
   "name": "python3"
  },
  "language_info": {
   "codemirror_mode": {
    "name": "ipython",
    "version": 3
   },
   "file_extension": ".py",
   "mimetype": "text/x-python",
   "name": "python",
   "nbconvert_exporter": "python",
   "pygments_lexer": "ipython3",
   "version": "3.13.5"
  }
 },
 "nbformat": 4,
 "nbformat_minor": 5
}
