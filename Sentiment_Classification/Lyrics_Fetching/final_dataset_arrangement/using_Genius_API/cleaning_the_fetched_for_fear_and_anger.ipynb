{
 "cells": [
  {
   "cell_type": "code",
   "execution_count": 1,
   "id": "08b828a4",
   "metadata": {},
   "outputs": [
    {
     "name": "stdout",
     "output_type": "stream",
     "text": [
      "\n",
      "📊 Emotion distribution after all fetching:\n",
      "final_emotion\n",
      "fear     460\n",
      "anger    419\n",
      "Name: count, dtype: int64\n"
     ]
    }
   ],
   "source": [
    "import pandas as pd\n",
    "merged_df=pd.read_csv(\"fear_and_anger_lyrics.csv\")\n",
    "print(\"\\n📊 Emotion distribution after all fetching:\")\n",
    "print(merged_df['final_emotion'].value_counts())"
   ]
  }
 ],
 "metadata": {
  "kernelspec": {
   "display_name": "Python 3",
   "language": "python",
   "name": "python3"
  },
  "language_info": {
   "codemirror_mode": {
    "name": "ipython",
    "version": 3
   },
   "file_extension": ".py",
   "mimetype": "text/x-python",
   "name": "python",
   "nbconvert_exporter": "python",
   "pygments_lexer": "ipython3",
   "version": "3.13.5"
  }
 },
 "nbformat": 4,
 "nbformat_minor": 5
}
