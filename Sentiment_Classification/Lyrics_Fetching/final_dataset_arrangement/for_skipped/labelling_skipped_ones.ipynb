{
 "cells": [
  {
   "cell_type": "code",
   "execution_count": 5,
   "id": "e7529e97",
   "metadata": {},
   "outputs": [
    {
     "name": "stdout",
     "output_type": "stream",
     "text": [
      "✅ Merged skipped songs with emotion labels\n"
     ]
    }
   ],
   "source": [
    "import pandas as pd\n",
    "\n",
    "# Original dataset with emotion labels\n",
    "original = pd.read_csv(\"muse_final_emotion_dataset.csv\")\n",
    "\n",
    "# Skipped songs with newly fetched lyrics\n",
    "skipped_fetched = pd.read_csv(\"skipped_muse_with_lyrics_cleaned.csv\")\n",
    "\n",
    "# Normalize columns for matching\n",
    "for df in [original, skipped_fetched]:\n",
    "    df['track'] = df['track'].astype(str).str.strip().str.lower()\n",
    "    df['artist'] = df['artist'].astype(str).str.strip().str.lower()\n",
    "\n",
    "# Merge lyrics with emotion labels\n",
    "merged = pd.merge(\n",
    "    skipped_fetched,\n",
    "    original[['track', 'artist', 'final_emotion']],  # add other columns if needed\n",
    "    on=['track', 'artist'],\n",
    "    how='left'  # left join keeps all fetched songs\n",
    ")\n",
    "\n",
    "merged.to_csv(\"skipped_phase2_fetched_with_labels.csv\", index=False)\n",
    "print(\"✅ Merged skipped songs with emotion labels\")\n"
   ]
  },
  {
   "cell_type": "code",
   "execution_count": 11,
   "id": "7e92e1cf",
   "metadata": {},
   "outputs": [
    {
     "data": {
      "text/plain": [
       "Index(['track', 'artist', 'lyrics', 'final_emotion'], dtype='object')"
      ]
     },
     "execution_count": 11,
     "metadata": {},
     "output_type": "execute_result"
    }
   ],
   "source": [
    "df2 = pd.read_csv(\"skipped_phase2_fetched_with_labels.csv\")\n",
    "\n",
    "df2.columns"
   ]
  },
  {
   "cell_type": "code",
   "execution_count": 12,
   "id": "5115a762",
   "metadata": {},
   "outputs": [
    {
     "name": "stdout",
     "output_type": "stream",
     "text": [
      "\n",
      "📊 Emotion distribution after first fetching:\n",
      "final_emotion\n",
      "sadness       617\n",
      "joy           531\n",
      "reflective    505\n",
      "excitement    491\n",
      "calm          486\n",
      "romantic      366\n",
      "neutral       307\n",
      "fear           32\n",
      "anger          18\n",
      "Name: count, dtype: int64\n"
     ]
    }
   ],
   "source": [
    "\n",
    "print(\"\\n📊 Emotion distribution after first fetching:\")\n",
    "print(df2['final_emotion'].value_counts())"
   ]
  },
  {
   "cell_type": "code",
   "execution_count": 13,
   "id": "efe8f212",
   "metadata": {},
   "outputs": [
    {
     "name": "stdout",
     "output_type": "stream",
     "text": [
      "✅ Merged CSV saved → merged_clean.csv\n",
      "📊 Total rows: 3371\n"
     ]
    }
   ],
   "source": [
    "import pandas as pd\n",
    "\n",
    "# === File paths ===\n",
    "FILE1 = \"skipped_phase2_fetched_with_labels.csv\"   # track,artist,lyrics,final_emotion\n",
    "FILE2 = \"skipped_lyrics.csv\"   # track,artist,final_emotion,reason,lyrics\n",
    "OUTPUT = \"merged_clean.csv\"\n",
    "\n",
    "# === Load both CSVs ===\n",
    "df1 = pd.read_csv(FILE1)\n",
    "df2 = pd.read_csv(FILE2)\n",
    "\n",
    "# === Standardize both to common columns ===\n",
    "df1_clean = df1[[\"track\", \"artist\", \"final_emotion\", \"lyrics\"]]\n",
    "\n",
    "# df2 may have 'reason' column — ignore it\n",
    "df2_clean = df2[[\"track\", \"artist\", \"final_emotion\", \"lyrics\"]]\n",
    "\n",
    "# === Merge them together ===\n",
    "merged_df = pd.concat([df1_clean, df2_clean], ignore_index=True)\n",
    "\n",
    "# === Optional: drop duplicates based on (track, artist) ===\n",
    "merged_df.drop_duplicates(subset=[\"track\", \"artist\"], inplace=True)\n",
    "\n",
    "# === Save merged CSV ===\n",
    "merged_df.to_csv(OUTPUT, index=False)\n",
    "\n",
    "print(f\"✅ Merged CSV saved → {OUTPUT}\")\n",
    "print(f\"📊 Total rows: {len(merged_df)}\")\n"
   ]
  },
  {
   "cell_type": "code",
   "execution_count": 16,
   "id": "6c5e8043",
   "metadata": {},
   "outputs": [
    {
     "name": "stdout",
     "output_type": "stream",
     "text": [
      "\n",
      "📊 Emotion distribution after first fetching:\n",
      "final_emotion\n",
      "sadness       622\n",
      "joy           531\n",
      "reflective    508\n",
      "excitement    491\n",
      "calm          486\n",
      "romantic      366\n",
      "neutral       313\n",
      "fear           36\n",
      "anger          18\n",
      "Name: count, dtype: int64\n"
     ]
    }
   ],
   "source": [
    "\n",
    "print(\"\\n📊 Emotion distribution after first fetching:\")\n",
    "print(merged_df['final_emotion'].value_counts())"
   ]
  },
  {
   "cell_type": "code",
   "execution_count": null,
   "id": "54455890",
   "metadata": {},
   "outputs": [],
   "source": [
    "import pandas as pd\n",
    "\n",
    "# === File paths ===\n",
    "FILE1 = \"muse_final_emo.csv\"   # track,artist,lyrics,final_emotion\n",
    "FILE2 = \"merged_clean.csv\"   # track,artist,final_emotion,reason,lyrics\n",
    "OUTPUT = \"merged_clean.csv\"\n",
    "\n",
    "# === Load both CSVs ===\n",
    "df1 = pd.read_csv(FILE1)\n",
    "df2 = pd.read_csv(FILE2)\n",
    "\n",
    "# === Standardize both to common columns ===\n",
    "df1_clean = df1[[\"track\", \"artist\", \"final_emotion\", \"lyrics\"]]\n",
    "\n",
    "# df2 may have 'reason' column — ignore it\n",
    "df2_clean = df2[[\"track\", \"artist\", \"final_emotion\", \"lyrics\"]]\n",
    "\n",
    "# === Merge them together ===\n",
    "merged_df = pd.concat([df1_clean, df2_clean], ignore_index=True)\n",
    "\n",
    "# === Optional: drop duplicates based on (track, artist) ===\n",
    "merged_df.drop_duplicates(subset=[\"track\", \"artist\"], inplace=True)\n",
    "\n",
    "# === Save merged CSV ===\n",
    "merged_df.to_csv(OUTPUT, index=False)\n",
    "\n",
    "print(f\"✅ Merged CSV saved → {OUTPUT}\")\n",
    "print(f\"📊 Total rows: {len(merged_df)}\")\n"
   ]
  }
 ],
 "metadata": {
  "kernelspec": {
   "display_name": "Python 3",
   "language": "python",
   "name": "python3"
  },
  "language_info": {
   "codemirror_mode": {
    "name": "ipython",
    "version": 3
   },
   "file_extension": ".py",
   "mimetype": "text/x-python",
   "name": "python",
   "nbconvert_exporter": "python",
   "pygments_lexer": "ipython3",
   "version": "3.13.5"
  }
 },
 "nbformat": 4,
 "nbformat_minor": 5
}
