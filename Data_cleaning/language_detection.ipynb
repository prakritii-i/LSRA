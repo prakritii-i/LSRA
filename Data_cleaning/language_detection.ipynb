{
 "cells": [
  {
   "cell_type": "code",
   "execution_count": 2,
   "id": "ae2580f5",
   "metadata": {},
   "outputs": [
    {
     "data": {
      "text/html": [
       "<div>\n",
       "<style scoped>\n",
       "    .dataframe tbody tr th:only-of-type {\n",
       "        vertical-align: middle;\n",
       "    }\n",
       "\n",
       "    .dataframe tbody tr th {\n",
       "        vertical-align: top;\n",
       "    }\n",
       "\n",
       "    .dataframe thead th {\n",
       "        text-align: right;\n",
       "    }\n",
       "</style>\n",
       "<table border=\"1\" class=\"dataframe\">\n",
       "  <thead>\n",
       "    <tr style=\"text-align: right;\">\n",
       "      <th></th>\n",
       "      <th>track</th>\n",
       "      <th>artist</th>\n",
       "      <th>final_emotion</th>\n",
       "      <th>lyrics</th>\n",
       "    </tr>\n",
       "  </thead>\n",
       "  <tbody>\n",
       "    <tr>\n",
       "      <th>0</th>\n",
       "      <td>'Till I Collapse</td>\n",
       "      <td>Eminem</td>\n",
       "      <td>anger</td>\n",
       "      <td>'Cause sometimes you just feel tired, feel wea...</td>\n",
       "    </tr>\n",
       "    <tr>\n",
       "      <th>1</th>\n",
       "      <td>St. Anger</td>\n",
       "      <td>Metallica</td>\n",
       "      <td>anger</td>\n",
       "      <td>St. Anger 'round my neck\\nSt. Anger 'round my ...</td>\n",
       "    </tr>\n",
       "    <tr>\n",
       "      <th>2</th>\n",
       "      <td>Speedin'</td>\n",
       "      <td>Rick Ross</td>\n",
       "      <td>anger</td>\n",
       "      <td>Legendary\\nRunners\\nYou know me\\n\\nTrilla\\n\\nE...</td>\n",
       "    </tr>\n",
       "    <tr>\n",
       "      <th>3</th>\n",
       "      <td>Bamboo Banga</td>\n",
       "      <td>M.I.A.</td>\n",
       "      <td>anger</td>\n",
       "      <td>Road runner, road runner\\nGoing hundred mile p...</td>\n",
       "    </tr>\n",
       "    <tr>\n",
       "      <th>4</th>\n",
       "      <td>Die MF Die</td>\n",
       "      <td>Dope</td>\n",
       "      <td>anger</td>\n",
       "      <td>I don't need your forgiveness\\nI don't need yo...</td>\n",
       "    </tr>\n",
       "  </tbody>\n",
       "</table>\n",
       "</div>"
      ],
      "text/plain": [
       "              track     artist final_emotion  \\\n",
       "0  'Till I Collapse     Eminem         anger   \n",
       "1         St. Anger  Metallica         anger   \n",
       "2          Speedin'  Rick Ross         anger   \n",
       "3      Bamboo Banga     M.I.A.         anger   \n",
       "4        Die MF Die       Dope         anger   \n",
       "\n",
       "                                              lyrics  \n",
       "0  'Cause sometimes you just feel tired, feel wea...  \n",
       "1  St. Anger 'round my neck\\nSt. Anger 'round my ...  \n",
       "2  Legendary\\nRunners\\nYou know me\\n\\nTrilla\\n\\nE...  \n",
       "3  Road runner, road runner\\nGoing hundred mile p...  \n",
       "4  I don't need your forgiveness\\nI don't need yo...  "
      ]
     },
     "execution_count": 2,
     "metadata": {},
     "output_type": "execute_result"
    }
   ],
   "source": [
    "import pandas as pd\n",
    "df = pd.read_csv('muse_with_lyrics_merged_final.csv')\n",
    "df.head()"
   ]
  },
  {
   "cell_type": "code",
   "execution_count": 3,
   "id": "454594d2",
   "metadata": {},
   "outputs": [],
   "source": [
    "from langdetect import detect, DetectorFactory\n",
    "DetectorFactory.seed = 0  # ensures consistent results\n",
    "\n",
    "def detect_lang_safe(text):\n",
    "    try:\n",
    "        return detect(text)\n",
    "    except:\n",
    "        return \"unknown\"\n",
    "\n",
    "df[\"lang\"] = df[\"lyrics\"].apply(lambda x: detect_lang_safe(str(x)))\n"
   ]
  },
  {
   "cell_type": "code",
   "execution_count": 5,
   "id": "238469b2",
   "metadata": {},
   "outputs": [
    {
     "data": {
      "text/plain": [
       "lang\n",
       "en         45492\n",
       "de           906\n",
       "fr           597\n",
       "es           576\n",
       "ja           532\n",
       "pt           313\n",
       "ru           292\n",
       "it           217\n",
       "pl           175\n",
       "nl           140\n",
       "fi           134\n",
       "ko           113\n",
       "id           101\n",
       "sv            99\n",
       "no            72\n",
       "so            68\n",
       "ca            61\n",
       "sw            49\n",
       "tr            40\n",
       "hu            37\n",
       "tl            35\n",
       "af            29\n",
       "ro            27\n",
       "da            26\n",
       "hr            25\n",
       "cs            23\n",
       "et            21\n",
       "cy            16\n",
       "ar            16\n",
       "fa            14\n",
       "sl            13\n",
       "hi            10\n",
       "el             9\n",
       "he             6\n",
       "zh-cn          5\n",
       "sq             5\n",
       "sk             5\n",
       "vi             5\n",
       "lv             5\n",
       "uk             4\n",
       "lt             3\n",
       "mr             3\n",
       "zh-tw          3\n",
       "bg             2\n",
       "bn             2\n",
       "th             1\n",
       "kn             1\n",
       "gu             1\n",
       "pa             1\n",
       "ur             1\n",
       "ne             1\n",
       "unknown        1\n",
       "Name: count, dtype: int64"
      ]
     },
     "execution_count": 5,
     "metadata": {},
     "output_type": "execute_result"
    }
   ],
   "source": [
    "df[\"lang\"].value_counts()\n"
   ]
  },
  {
   "cell_type": "code",
   "execution_count": null,
   "id": "c7ebaddf",
   "metadata": {},
   "outputs": [],
   "source": [
    "import fasttext\n",
    "\n",
    "model = fasttext.load_model(\"lid.176.ftz\")\n",
    "\n",
    "def detect_fasttext(text):\n",
    "    pred = model.predict(text.replace(\"\\n\", \" \"))\n",
    "    return pred[0][0].replace(\"__label__\", \"\")\n",
    "\n",
    "df[\"lang\"] = df[\"lyrics\"].apply(detect_fasttext)\n"
   ]
  },
  {
   "cell_type": "code",
   "execution_count": 1,
   "id": "8998ce25",
   "metadata": {},
   "outputs": [
    {
     "ename": "NameError",
     "evalue": "name 'df' is not defined",
     "output_type": "error",
     "traceback": [
      "\u001b[31m---------------------------------------------------------------------------\u001b[39m",
      "\u001b[31mNameError\u001b[39m                                 Traceback (most recent call last)",
      "\u001b[36mCell\u001b[39m\u001b[36m \u001b[39m\u001b[32mIn[1]\u001b[39m\u001b[32m, line 1\u001b[39m\n\u001b[32m----> \u001b[39m\u001b[32m1\u001b[39m df_en = \u001b[43mdf\u001b[49m[df[\u001b[33m\"\u001b[39m\u001b[33mlang\u001b[39m\u001b[33m\"\u001b[39m] == \u001b[33m\"\u001b[39m\u001b[33men\u001b[39m\u001b[33m\"\u001b[39m].copy()\n",
      "\u001b[31mNameError\u001b[39m: name 'df' is not defined"
     ]
    }
   ],
   "source": [
    "df_en = df[df[\"lang\"] == \"en\"].copy()\n"
   ]
  },
  {
   "cell_type": "code",
   "execution_count": 7,
   "id": "52d95b4b",
   "metadata": {},
   "outputs": [
    {
     "data": {
      "text/html": [
       "<div>\n",
       "<style scoped>\n",
       "    .dataframe tbody tr th:only-of-type {\n",
       "        vertical-align: middle;\n",
       "    }\n",
       "\n",
       "    .dataframe tbody tr th {\n",
       "        vertical-align: top;\n",
       "    }\n",
       "\n",
       "    .dataframe thead th {\n",
       "        text-align: right;\n",
       "    }\n",
       "</style>\n",
       "<table border=\"1\" class=\"dataframe\">\n",
       "  <thead>\n",
       "    <tr style=\"text-align: right;\">\n",
       "      <th></th>\n",
       "      <th>track</th>\n",
       "      <th>artist</th>\n",
       "      <th>final_emotion</th>\n",
       "      <th>lyrics</th>\n",
       "      <th>lang</th>\n",
       "    </tr>\n",
       "  </thead>\n",
       "  <tbody>\n",
       "    <tr>\n",
       "      <th>0</th>\n",
       "      <td>'Till I Collapse</td>\n",
       "      <td>Eminem</td>\n",
       "      <td>anger</td>\n",
       "      <td>'Cause sometimes you just feel tired, feel wea...</td>\n",
       "      <td>en</td>\n",
       "    </tr>\n",
       "    <tr>\n",
       "      <th>1</th>\n",
       "      <td>St. Anger</td>\n",
       "      <td>Metallica</td>\n",
       "      <td>anger</td>\n",
       "      <td>St. Anger 'round my neck\\nSt. Anger 'round my ...</td>\n",
       "      <td>en</td>\n",
       "    </tr>\n",
       "    <tr>\n",
       "      <th>2</th>\n",
       "      <td>Speedin'</td>\n",
       "      <td>Rick Ross</td>\n",
       "      <td>anger</td>\n",
       "      <td>Legendary\\nRunners\\nYou know me\\n\\nTrilla\\n\\nE...</td>\n",
       "      <td>en</td>\n",
       "    </tr>\n",
       "    <tr>\n",
       "      <th>3</th>\n",
       "      <td>Bamboo Banga</td>\n",
       "      <td>M.I.A.</td>\n",
       "      <td>anger</td>\n",
       "      <td>Road runner, road runner\\nGoing hundred mile p...</td>\n",
       "      <td>en</td>\n",
       "    </tr>\n",
       "    <tr>\n",
       "      <th>4</th>\n",
       "      <td>Die MF Die</td>\n",
       "      <td>Dope</td>\n",
       "      <td>anger</td>\n",
       "      <td>I don't need your forgiveness\\nI don't need yo...</td>\n",
       "      <td>en</td>\n",
       "    </tr>\n",
       "  </tbody>\n",
       "</table>\n",
       "</div>"
      ],
      "text/plain": [
       "              track     artist final_emotion  \\\n",
       "0  'Till I Collapse     Eminem         anger   \n",
       "1         St. Anger  Metallica         anger   \n",
       "2          Speedin'  Rick Ross         anger   \n",
       "3      Bamboo Banga     M.I.A.         anger   \n",
       "4        Die MF Die       Dope         anger   \n",
       "\n",
       "                                              lyrics lang  \n",
       "0  'Cause sometimes you just feel tired, feel wea...   en  \n",
       "1  St. Anger 'round my neck\\nSt. Anger 'round my ...   en  \n",
       "2  Legendary\\nRunners\\nYou know me\\n\\nTrilla\\n\\nE...   en  \n",
       "3  Road runner, road runner\\nGoing hundred mile p...   en  \n",
       "4  I don't need your forgiveness\\nI don't need yo...   en  "
      ]
     },
     "execution_count": 7,
     "metadata": {},
     "output_type": "execute_result"
    }
   ],
   "source": [
    "df_en.head()"
   ]
  },
  {
   "cell_type": "code",
   "execution_count": 8,
   "id": "6ee966bc",
   "metadata": {},
   "outputs": [
    {
     "data": {
      "text/plain": [
       "lang\n",
       "en    45492\n",
       "Name: count, dtype: int64"
      ]
     },
     "execution_count": 8,
     "metadata": {},
     "output_type": "execute_result"
    }
   ],
   "source": [
    "df_en[\"lang\"].value_counts()\n"
   ]
  },
  {
   "cell_type": "code",
   "execution_count": 10,
   "id": "391e15b2",
   "metadata": {},
   "outputs": [
    {
     "data": {
      "text/plain": [
       "final_emotion\n",
       "sadness       7582\n",
       "joy           7257\n",
       "reflective    6504\n",
       "excitement    6237\n",
       "calm          5170\n",
       "neutral       4761\n",
       "romantic      3670\n",
       "anger         2843\n",
       "fear          1468\n",
       "Name: count, dtype: int64"
      ]
     },
     "execution_count": 10,
     "metadata": {},
     "output_type": "execute_result"
    }
   ],
   "source": [
    "df_en[\"final_emotion\"].value_counts()\n"
   ]
  },
  {
   "cell_type": "code",
   "execution_count": 12,
   "id": "5c306b5a",
   "metadata": {},
   "outputs": [
    {
     "data": {
      "text/plain": [
       "final_emotion\n",
       "sadness       8282\n",
       "joy           8059\n",
       "reflective    7252\n",
       "excitement    6935\n",
       "calm          5612\n",
       "neutral       5233\n",
       "romantic      4097\n",
       "anger         3185\n",
       "fear          1678\n",
       "Name: count, dtype: int64"
      ]
     },
     "execution_count": 12,
     "metadata": {},
     "output_type": "execute_result"
    }
   ],
   "source": [
    "df[\"final_emotion\"].value_counts()"
   ]
  },
  {
   "cell_type": "code",
   "execution_count": null,
   "id": "fac2cc3a",
   "metadata": {},
   "outputs": [],
   "source": [
    "df_en.to_csv(\"muse_with_english_lyrics_only.csv\", index=False)"
   ]
  },
  {
   "cell_type": "code",
   "execution_count": 14,
   "id": "37226ce0",
   "metadata": {},
   "outputs": [
    {
     "data": {
      "text/html": [
       "<div>\n",
       "<style scoped>\n",
       "    .dataframe tbody tr th:only-of-type {\n",
       "        vertical-align: middle;\n",
       "    }\n",
       "\n",
       "    .dataframe tbody tr th {\n",
       "        vertical-align: top;\n",
       "    }\n",
       "\n",
       "    .dataframe thead th {\n",
       "        text-align: right;\n",
       "    }\n",
       "</style>\n",
       "<table border=\"1\" class=\"dataframe\">\n",
       "  <thead>\n",
       "    <tr style=\"text-align: right;\">\n",
       "      <th></th>\n",
       "      <th>track</th>\n",
       "      <th>artist</th>\n",
       "      <th>final_emotion</th>\n",
       "      <th>lyrics</th>\n",
       "      <th>lang</th>\n",
       "    </tr>\n",
       "  </thead>\n",
       "  <tbody>\n",
       "    <tr>\n",
       "      <th>0</th>\n",
       "      <td>'Till I Collapse</td>\n",
       "      <td>Eminem</td>\n",
       "      <td>anger</td>\n",
       "      <td>'Cause sometimes you just feel tired, feel wea...</td>\n",
       "      <td>en</td>\n",
       "    </tr>\n",
       "    <tr>\n",
       "      <th>1</th>\n",
       "      <td>St. Anger</td>\n",
       "      <td>Metallica</td>\n",
       "      <td>anger</td>\n",
       "      <td>St. Anger 'round my neck\\nSt. Anger 'round my ...</td>\n",
       "      <td>en</td>\n",
       "    </tr>\n",
       "    <tr>\n",
       "      <th>2</th>\n",
       "      <td>Speedin'</td>\n",
       "      <td>Rick Ross</td>\n",
       "      <td>anger</td>\n",
       "      <td>Legendary\\nRunners\\nYou know me\\n\\nTrilla\\n\\nE...</td>\n",
       "      <td>en</td>\n",
       "    </tr>\n",
       "    <tr>\n",
       "      <th>3</th>\n",
       "      <td>Bamboo Banga</td>\n",
       "      <td>M.I.A.</td>\n",
       "      <td>anger</td>\n",
       "      <td>Road runner, road runner\\nGoing hundred mile p...</td>\n",
       "      <td>en</td>\n",
       "    </tr>\n",
       "    <tr>\n",
       "      <th>4</th>\n",
       "      <td>Die MF Die</td>\n",
       "      <td>Dope</td>\n",
       "      <td>anger</td>\n",
       "      <td>I don't need your forgiveness\\nI don't need yo...</td>\n",
       "      <td>en</td>\n",
       "    </tr>\n",
       "  </tbody>\n",
       "</table>\n",
       "</div>"
      ],
      "text/plain": [
       "              track     artist final_emotion  \\\n",
       "0  'Till I Collapse     Eminem         anger   \n",
       "1         St. Anger  Metallica         anger   \n",
       "2          Speedin'  Rick Ross         anger   \n",
       "3      Bamboo Banga     M.I.A.         anger   \n",
       "4        Die MF Die       Dope         anger   \n",
       "\n",
       "                                              lyrics lang  \n",
       "0  'Cause sometimes you just feel tired, feel wea...   en  \n",
       "1  St. Anger 'round my neck\\nSt. Anger 'round my ...   en  \n",
       "2  Legendary\\nRunners\\nYou know me\\n\\nTrilla\\n\\nE...   en  \n",
       "3  Road runner, road runner\\nGoing hundred mile p...   en  \n",
       "4  I don't need your forgiveness\\nI don't need yo...   en  "
      ]
     },
     "execution_count": 14,
     "metadata": {},
     "output_type": "execute_result"
    }
   ],
   "source": [
    "df2 = pd.read_csv(\"muse_with_english_lyrics_only.csv\")\n",
    "df2.head()"
   ]
  },
  {
   "cell_type": "code",
   "execution_count": 2,
   "id": "b3752dc3",
   "metadata": {},
   "outputs": [],
   "source": [
    "import pandas as pd"
   ]
  }
 ],
 "metadata": {
  "kernelspec": {
   "display_name": "Python 3",
   "language": "python",
   "name": "python3"
  },
  "language_info": {
   "codemirror_mode": {
    "name": "ipython",
    "version": 3
   },
   "file_extension": ".py",
   "mimetype": "text/x-python",
   "name": "python",
   "nbconvert_exporter": "python",
   "pygments_lexer": "ipython3",
   "version": "3.13.5"
  }
 },
 "nbformat": 4,
 "nbformat_minor": 5
}
