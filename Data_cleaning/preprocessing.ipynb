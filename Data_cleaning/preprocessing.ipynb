{
 "cells": [
  {
   "cell_type": "code",
   "execution_count": 1,
   "id": "fb13eecd",
   "metadata": {},
   "outputs": [],
   "source": [
    "import pandas as pd\n",
    "import numpy as np"
   ]
  },
  {
   "cell_type": "code",
   "execution_count": 4,
   "id": "eaa50e93",
   "metadata": {},
   "outputs": [
    {
     "data": {
      "text/html": [
       "<div>\n",
       "<style scoped>\n",
       "    .dataframe tbody tr th:only-of-type {\n",
       "        vertical-align: middle;\n",
       "    }\n",
       "\n",
       "    .dataframe tbody tr th {\n",
       "        vertical-align: top;\n",
       "    }\n",
       "\n",
       "    .dataframe thead th {\n",
       "        text-align: right;\n",
       "    }\n",
       "</style>\n",
       "<table border=\"1\" class=\"dataframe\">\n",
       "  <thead>\n",
       "    <tr style=\"text-align: right;\">\n",
       "      <th></th>\n",
       "      <th>track</th>\n",
       "      <th>artist</th>\n",
       "      <th>final_emotion</th>\n",
       "      <th>lyrics</th>\n",
       "      <th>cleaned_lyrics</th>\n",
       "    </tr>\n",
       "  </thead>\n",
       "  <tbody>\n",
       "    <tr>\n",
       "      <th>0</th>\n",
       "      <td>'Till I Collapse</td>\n",
       "      <td>Eminem</td>\n",
       "      <td>anger</td>\n",
       "      <td>'Cause sometimes you just feel tired, feel wea...</td>\n",
       "      <td>cause sometimes feel tired feel weak feel weak...</td>\n",
       "    </tr>\n",
       "  </tbody>\n",
       "</table>\n",
       "</div>"
      ],
      "text/plain": [
       "              track  artist final_emotion  \\\n",
       "0  'Till I Collapse  Eminem         anger   \n",
       "\n",
       "                                              lyrics  \\\n",
       "0  'Cause sometimes you just feel tired, feel wea...   \n",
       "\n",
       "                                      cleaned_lyrics  \n",
       "0  cause sometimes feel tired feel weak feel weak...  "
      ]
     },
     "execution_count": 4,
     "metadata": {},
     "output_type": "execute_result"
    }
   ],
   "source": [
    "df = pd.read_csv('cleaned_muse_with_english_lyrics_only.csv')\n",
    "df.head(1)"
   ]
  },
  {
   "cell_type": "code",
   "execution_count": 5,
   "id": "aaf0e298",
   "metadata": {},
   "outputs": [],
   "source": [
    "from sklearn.preprocessing import LabelEncoder\n",
    "le = LabelEncoder()\n",
    "df[\"emotion_label\"] = le.fit_transform(df[\"final_emotion\"])"
   ]
  },
  {
   "cell_type": "code",
   "execution_count": 7,
   "id": "b91bb8f0",
   "metadata": {},
   "outputs": [],
   "source": [
    "import pickle"
   ]
  },
  {
   "cell_type": "code",
   "execution_count": 8,
   "id": "b875ad2e",
   "metadata": {},
   "outputs": [],
   "source": [
    "pickle.dump(le, open(\"label_encoder.pkl\", \"wb\"))"
   ]
  },
  {
   "cell_type": "code",
   "execution_count": 6,
   "id": "e1511964",
   "metadata": {},
   "outputs": [],
   "source": [
    "from sklearn.feature_extraction.text import TfidfVectorizer\n",
    "\n",
    "vectorizer = TfidfVectorizer(max_features=10000, ngram_range=(1,2))\n",
    "X = vectorizer.fit_transform(df[\"cleaned_lyrics\"])\n",
    "y = df[\"emotion_label\"]\n"
   ]
  },
  {
   "cell_type": "code",
   "execution_count": 9,
   "id": "16135617",
   "metadata": {},
   "outputs": [],
   "source": [
    "pickle.dump(vectorizer, open(\"tfidf_vectorizer.pkl\", \"wb\"))"
   ]
  },
  {
   "cell_type": "code",
   "execution_count": null,
   "id": "7e6323ba",
   "metadata": {},
   "outputs": [],
   "source": [
    "from keras.preprocessing.text import Tokenizer\n",
    "from keras.preprocessing.sequence import pad_sequences\n",
    "\n",
    "tokenizer = Tokenizer(num_words=20000, oov_token=\"<OOV>\")\n",
    "tokenizer.fit_on_texts(df[\"cleaned_lyrics\"])\n",
    "sequences = tokenizer.texts_to_sequences(df[\"cleaned_lyrics\"])\n",
    "padded = pad_sequences(sequences, maxlen=500, padding=\"post\")\n"
   ]
  }
 ],
 "metadata": {
  "kernelspec": {
   "display_name": "Python 3",
   "language": "python",
   "name": "python3"
  },
  "language_info": {
   "codemirror_mode": {
    "name": "ipython",
    "version": 3
   },
   "file_extension": ".py",
   "mimetype": "text/x-python",
   "name": "python",
   "nbconvert_exporter": "python",
   "pygments_lexer": "ipython3",
   "version": "3.13.5"
  }
 },
 "nbformat": 4,
 "nbformat_minor": 5
}
