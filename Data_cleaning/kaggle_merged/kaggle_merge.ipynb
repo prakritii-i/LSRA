{
 "cells": [
  {
   "cell_type": "code",
   "execution_count": 81,
   "metadata": {
    "_cell_guid": "b1076dfc-b9ad-4769-8c92-a6c4dae69d19",
    "_uuid": "8f2839f25d086af736a60e9eeb907d3b93b6e0e5",
    "execution": {
     "iopub.execute_input": "2025-10-27T02:59:56.875071Z",
     "iopub.status.busy": "2025-10-27T02:59:56.874164Z",
     "iopub.status.idle": "2025-10-27T02:59:56.906092Z",
     "shell.execute_reply": "2025-10-27T02:59:56.905320Z",
     "shell.execute_reply.started": "2025-10-27T02:59:56.875042Z"
    },
    "trusted": true
   },
   "outputs": [
    {
     "name": "stdout",
     "output_type": "stream",
     "text": [
      "/kaggle/input/900k-spotify/final_milliondataset_BERT_500K_revised.json\n",
      "/kaggle/input/900k-spotify/spotify_dataset.csv\n",
      "/kaggle/input/900k-spotify/900k Definitive Spotify Dataset.json\n",
      "/kaggle/input/music-with-emotions-cleaned/deep_cleaned_muse_with_english_lyrics_only.csv\n"
     ]
    }
   ],
   "source": [
    "# This Python 3 environment comes with many helpful analytics libraries installed\n",
    "# It is defined by the kaggle/python Docker image: https://github.com/kaggle/docker-python\n",
    "# For example, here's several helpful packages to load\n",
    "\n",
    "import numpy as np # linear algebra\n",
    "import pandas as pd # data processing, CSV file I/O (e.g. pd.read_csv)\n",
    "\n",
    "# Input data files are available in the read-only \"../input/\" directory\n",
    "# For example, running this (by clicking run or pressing Shift+Enter) will list all files under the input directory\n",
    "\n",
    "import os\n",
    "for dirname, _, filenames in os.walk('/kaggle/input'):\n",
    "    for filename in filenames:\n",
    "        print(os.path.join(dirname, filename))\n",
    "\n",
    "# You can write up to 20GB to the current directory (/kaggle/working/) that gets preserved as output when you create a version using \"Save & Run All\" \n",
    "# You can also write temporary files to /kaggle/temp/, but they won't be saved outside of the current session"
   ]
  },
  {
   "cell_type": "code",
   "execution_count": 82,
   "metadata": {
    "execution": {
     "iopub.execute_input": "2025-10-27T02:59:56.907887Z",
     "iopub.status.busy": "2025-10-27T02:59:56.907596Z",
     "iopub.status.idle": "2025-10-27T03:00:15.071793Z",
     "shell.execute_reply": "2025-10-27T03:00:15.071042Z",
     "shell.execute_reply.started": "2025-10-27T02:59:56.907861Z"
    },
    "trusted": true
   },
   "outputs": [],
   "source": [
    "df=pd.read_csv(\"/kaggle/input/900k-spotify/spotify_dataset.csv\")"
   ]
  },
  {
   "cell_type": "code",
   "execution_count": 83,
   "metadata": {
    "execution": {
     "iopub.execute_input": "2025-10-27T03:00:15.072866Z",
     "iopub.status.busy": "2025-10-27T03:00:15.072631Z",
     "iopub.status.idle": "2025-10-27T03:00:15.090787Z",
     "shell.execute_reply": "2025-10-27T03:00:15.089976Z",
     "shell.execute_reply.started": "2025-10-27T03:00:15.072847Z"
    },
    "trusted": true
   },
   "outputs": [
    {
     "data": {
      "text/html": [
       "<div>\n",
       "<style scoped>\n",
       "    .dataframe tbody tr th:only-of-type {\n",
       "        vertical-align: middle;\n",
       "    }\n",
       "\n",
       "    .dataframe tbody tr th {\n",
       "        vertical-align: top;\n",
       "    }\n",
       "\n",
       "    .dataframe thead th {\n",
       "        text-align: right;\n",
       "    }\n",
       "</style>\n",
       "<table border=\"1\" class=\"dataframe\">\n",
       "  <thead>\n",
       "    <tr style=\"text-align: right;\">\n",
       "      <th></th>\n",
       "      <th>Artist(s)</th>\n",
       "      <th>song</th>\n",
       "      <th>text</th>\n",
       "      <th>Length</th>\n",
       "      <th>emotion</th>\n",
       "      <th>Genre</th>\n",
       "      <th>Album</th>\n",
       "      <th>Release Date</th>\n",
       "      <th>Key</th>\n",
       "      <th>Tempo</th>\n",
       "      <th>...</th>\n",
       "      <th>Good for Morning Routine</th>\n",
       "      <th>Similar Artist 1</th>\n",
       "      <th>Similar Song 1</th>\n",
       "      <th>Similarity Score 1</th>\n",
       "      <th>Similar Artist 2</th>\n",
       "      <th>Similar Song 2</th>\n",
       "      <th>Similarity Score 2</th>\n",
       "      <th>Similar Artist 3</th>\n",
       "      <th>Similar Song 3</th>\n",
       "      <th>Similarity Score 3</th>\n",
       "    </tr>\n",
       "  </thead>\n",
       "  <tbody>\n",
       "    <tr>\n",
       "      <th>551438</th>\n",
       "      <td>박혜진 Park Hye Jin</td>\n",
       "      <td>Can you</td>\n",
       "      <td>Can you be my (Can you be my) Can you be my (C...</td>\n",
       "      <td>03:39</td>\n",
       "      <td>joy</td>\n",
       "      <td>house</td>\n",
       "      <td>Can you (Galcher Lustwerk Remix)</td>\n",
       "      <td>14th October 2020</td>\n",
       "      <td>B min</td>\n",
       "      <td>140</td>\n",
       "      <td>...</td>\n",
       "      <td>0</td>\n",
       "      <td>LXST CXNTURY</td>\n",
       "      <td>NEVER EXISTED</td>\n",
       "      <td>0.946429</td>\n",
       "      <td>Occvlt,StoneDogg</td>\n",
       "      <td>ALIZAY</td>\n",
       "      <td>0.926155</td>\n",
       "      <td>Peaches</td>\n",
       "      <td>Light in Places</td>\n",
       "      <td>0.923749</td>\n",
       "    </tr>\n",
       "    <tr>\n",
       "      <th>551439</th>\n",
       "      <td>심형진 Hyungjin Sim</td>\n",
       "      <td>Lim Han Byul  Lee Hyuk - Prayer English Transl...</td>\n",
       "      <td>[Verse] I gave you my everything But I see I c...</td>\n",
       "      <td>08:47</td>\n",
       "      <td>joy</td>\n",
       "      <td>metalcore</td>\n",
       "      <td>비 준비하시니 Psalm_147</td>\n",
       "      <td>19th April 2022</td>\n",
       "      <td>G# Maj</td>\n",
       "      <td>128</td>\n",
       "      <td>...</td>\n",
       "      <td>0</td>\n",
       "      <td>Kari Jobe</td>\n",
       "      <td>No Fear Live</td>\n",
       "      <td>0.991961</td>\n",
       "      <td>The Belonging Co,Kari Jobe</td>\n",
       "      <td>Closer To Your Heart</td>\n",
       "      <td>0.990956</td>\n",
       "      <td>Saintseneca</td>\n",
       "      <td>Pillar of Na</td>\n",
       "      <td>0.990385</td>\n",
       "    </tr>\n",
       "    <tr>\n",
       "      <th>551440</th>\n",
       "      <td>우정하</td>\n",
       "      <td>Memories Smiling Tears Remix</td>\n",
       "      <td>[Tasha]               Hell on earth, watching ...</td>\n",
       "      <td>03:53</td>\n",
       "      <td>sadness</td>\n",
       "      <td>hip hop</td>\n",
       "      <td>MEMORY</td>\n",
       "      <td>30th August 2023</td>\n",
       "      <td>G# min</td>\n",
       "      <td>75</td>\n",
       "      <td>...</td>\n",
       "      <td>0</td>\n",
       "      <td>Manic Street Preachers</td>\n",
       "      <td>People Give In</td>\n",
       "      <td>0.982809</td>\n",
       "      <td>Vinyl Theatre</td>\n",
       "      <td>Gold</td>\n",
       "      <td>0.980835</td>\n",
       "      <td>Unspoken</td>\n",
       "      <td>Life in the Death of Me</td>\n",
       "      <td>0.980171</td>\n",
       "    </tr>\n",
       "    <tr>\n",
       "      <th>551441</th>\n",
       "      <td>제노</td>\n",
       "      <td>Come Back to Me</td>\n",
       "      <td>[Verse] Gifts and flowers lay upon the lid Of ...</td>\n",
       "      <td>03:12</td>\n",
       "      <td>sadness</td>\n",
       "      <td>hip hop</td>\n",
       "      <td>2008 to me again</td>\n",
       "      <td>3rd June 2008</td>\n",
       "      <td>E Maj</td>\n",
       "      <td>126</td>\n",
       "      <td>...</td>\n",
       "      <td>0</td>\n",
       "      <td>Bonnie Raitt</td>\n",
       "      <td>I Can't Help Myself</td>\n",
       "      <td>0.983805</td>\n",
       "      <td>J. Roddy Walston &amp; The Business</td>\n",
       "      <td>Bad Habits</td>\n",
       "      <td>0.982425</td>\n",
       "      <td>Idina Menzel</td>\n",
       "      <td>Damsel In Distress</td>\n",
       "      <td>0.975935</td>\n",
       "    </tr>\n",
       "    <tr>\n",
       "      <th>551442</th>\n",
       "      <td>코케</td>\n",
       "      <td>I Wanna Be With You</td>\n",
       "      <td>I wanna b with you I wanna b with you baby Yea...</td>\n",
       "      <td>03:32</td>\n",
       "      <td>love</td>\n",
       "      <td>hip hop</td>\n",
       "      <td>I Wanna Be With You : Originally Performed By ...</td>\n",
       "      <td>4th November 2020</td>\n",
       "      <td>D Maj</td>\n",
       "      <td>100</td>\n",
       "      <td>...</td>\n",
       "      <td>0</td>\n",
       "      <td>Ameritz - Karaoke</td>\n",
       "      <td>Roxanne 97 Puff Daddy Remix</td>\n",
       "      <td>0.987132</td>\n",
       "      <td>Ameritz - Karaoke</td>\n",
       "      <td>Roxanne</td>\n",
       "      <td>0.987132</td>\n",
       "      <td>ProSource Karaoke</td>\n",
       "      <td>Get Back Single Version</td>\n",
       "      <td>0.984674</td>\n",
       "    </tr>\n",
       "  </tbody>\n",
       "</table>\n",
       "<p>5 rows × 39 columns</p>\n",
       "</div>"
      ],
      "text/plain": [
       "               Artist(s)                                               song  \\\n",
       "551438  박혜진 Park Hye Jin                                            Can you   \n",
       "551439  심형진 Hyungjin Sim  Lim Han Byul  Lee Hyuk - Prayer English Transl...   \n",
       "551440               우정하                       Memories Smiling Tears Remix   \n",
       "551441                제노                                    Come Back to Me   \n",
       "551442                코케                                I Wanna Be With You   \n",
       "\n",
       "                                                     text Length  emotion  \\\n",
       "551438  Can you be my (Can you be my) Can you be my (C...  03:39      joy   \n",
       "551439  [Verse] I gave you my everything But I see I c...  08:47      joy   \n",
       "551440  [Tasha]               Hell on earth, watching ...  03:53  sadness   \n",
       "551441  [Verse] Gifts and flowers lay upon the lid Of ...  03:12  sadness   \n",
       "551442  I wanna b with you I wanna b with you baby Yea...  03:32     love   \n",
       "\n",
       "            Genre                                              Album  \\\n",
       "551438      house                   Can you (Galcher Lustwerk Remix)   \n",
       "551439  metalcore                                  비 준비하시니 Psalm_147   \n",
       "551440    hip hop                                             MEMORY   \n",
       "551441    hip hop                                   2008 to me again   \n",
       "551442    hip hop  I Wanna Be With You : Originally Performed By ...   \n",
       "\n",
       "             Release Date     Key  Tempo  ... Good for Morning Routine  \\\n",
       "551438  14th October 2020   B min    140  ...                        0   \n",
       "551439    19th April 2022  G# Maj    128  ...                        0   \n",
       "551440   30th August 2023  G# min     75  ...                        0   \n",
       "551441      3rd June 2008   E Maj    126  ...                        0   \n",
       "551442  4th November 2020   D Maj    100  ...                        0   \n",
       "\n",
       "              Similar Artist 1               Similar Song 1  \\\n",
       "551438            LXST CXNTURY                NEVER EXISTED   \n",
       "551439               Kari Jobe                 No Fear Live   \n",
       "551440  Manic Street Preachers               People Give In   \n",
       "551441            Bonnie Raitt          I Can't Help Myself   \n",
       "551442       Ameritz - Karaoke  Roxanne 97 Puff Daddy Remix   \n",
       "\n",
       "        Similarity Score 1                 Similar Artist 2  \\\n",
       "551438            0.946429                 Occvlt,StoneDogg   \n",
       "551439            0.991961       The Belonging Co,Kari Jobe   \n",
       "551440            0.982809                    Vinyl Theatre   \n",
       "551441            0.983805  J. Roddy Walston & The Business   \n",
       "551442            0.987132                Ameritz - Karaoke   \n",
       "\n",
       "              Similar Song 2  Similarity Score 2   Similar Artist 3  \\\n",
       "551438                ALIZAY            0.926155            Peaches   \n",
       "551439  Closer To Your Heart            0.990956        Saintseneca   \n",
       "551440                  Gold            0.980835           Unspoken   \n",
       "551441            Bad Habits            0.982425       Idina Menzel   \n",
       "551442               Roxanne            0.987132  ProSource Karaoke   \n",
       "\n",
       "                 Similar Song 3  Similarity Score 3  \n",
       "551438          Light in Places            0.923749  \n",
       "551439             Pillar of Na            0.990385  \n",
       "551440  Life in the Death of Me            0.980171  \n",
       "551441       Damsel In Distress            0.975935  \n",
       "551442  Get Back Single Version            0.984674  \n",
       "\n",
       "[5 rows x 39 columns]"
      ]
     },
     "execution_count": 83,
     "metadata": {},
     "output_type": "execute_result"
    }
   ],
   "source": [
    "df.tail()"
   ]
  },
  {
   "cell_type": "code",
   "execution_count": 84,
   "metadata": {
    "execution": {
     "iopub.execute_input": "2025-10-27T03:00:15.091992Z",
     "iopub.status.busy": "2025-10-27T03:00:15.091723Z",
     "iopub.status.idle": "2025-10-27T03:00:15.147180Z",
     "shell.execute_reply": "2025-10-27T03:00:15.146385Z",
     "shell.execute_reply.started": "2025-10-27T03:00:15.091965Z"
    },
    "trusted": true
   },
   "outputs": [
    {
     "data": {
      "text/plain": [
       "emotion\n",
       "joy          209009\n",
       "sadness      171078\n",
       "anger        109678\n",
       "fear          28097\n",
       "love          27963\n",
       "surprise       5592\n",
       "True             17\n",
       "Love              3\n",
       "pink              2\n",
       "angry             1\n",
       "thirst            1\n",
       "confusion         1\n",
       "interest          1\n",
       "Name: count, dtype: int64"
      ]
     },
     "execution_count": 84,
     "metadata": {},
     "output_type": "execute_result"
    }
   ],
   "source": [
    "df['emotion'].value_counts()"
   ]
  },
  {
   "cell_type": "code",
   "execution_count": 85,
   "metadata": {
    "execution": {
     "iopub.execute_input": "2025-10-27T03:00:15.150015Z",
     "iopub.status.busy": "2025-10-27T03:00:15.149577Z",
     "iopub.status.idle": "2025-10-27T03:00:15.292296Z",
     "shell.execute_reply": "2025-10-27T03:00:15.291489Z",
     "shell.execute_reply.started": "2025-10-27T03:00:15.149992Z"
    },
    "trusted": true
   },
   "outputs": [
    {
     "data": {
      "text/html": [
       "<div>\n",
       "<style scoped>\n",
       "    .dataframe tbody tr th:only-of-type {\n",
       "        vertical-align: middle;\n",
       "    }\n",
       "\n",
       "    .dataframe tbody tr th {\n",
       "        vertical-align: top;\n",
       "    }\n",
       "\n",
       "    .dataframe thead th {\n",
       "        text-align: right;\n",
       "    }\n",
       "</style>\n",
       "<table border=\"1\" class=\"dataframe\">\n",
       "  <thead>\n",
       "    <tr style=\"text-align: right;\">\n",
       "      <th></th>\n",
       "      <th>Artist(s)</th>\n",
       "      <th>song</th>\n",
       "      <th>text</th>\n",
       "      <th>Length</th>\n",
       "      <th>emotion</th>\n",
       "      <th>Genre</th>\n",
       "      <th>Album</th>\n",
       "      <th>Release Date</th>\n",
       "      <th>Key</th>\n",
       "      <th>Tempo</th>\n",
       "      <th>...</th>\n",
       "      <th>Good for Morning Routine</th>\n",
       "      <th>Similar Artist 1</th>\n",
       "      <th>Similar Song 1</th>\n",
       "      <th>Similarity Score 1</th>\n",
       "      <th>Similar Artist 2</th>\n",
       "      <th>Similar Song 2</th>\n",
       "      <th>Similarity Score 2</th>\n",
       "      <th>Similar Artist 3</th>\n",
       "      <th>Similar Song 3</th>\n",
       "      <th>Similarity Score 3</th>\n",
       "    </tr>\n",
       "  </thead>\n",
       "  <tbody>\n",
       "    <tr>\n",
       "      <th>5</th>\n",
       "      <td>!!!</td>\n",
       "      <td>All U Writers</td>\n",
       "      <td>All you writers Get out your pens and write Al...</td>\n",
       "      <td>05:22</td>\n",
       "      <td>love</td>\n",
       "      <td>hip hop</td>\n",
       "      <td>All U Writers / Gonna Guetta Stomp</td>\n",
       "      <td>27th April 2015</td>\n",
       "      <td>B min</td>\n",
       "      <td>122</td>\n",
       "      <td>...</td>\n",
       "      <td>0</td>\n",
       "      <td>Wish &amp; Fonda Rae</td>\n",
       "      <td>Touch Me All Night Long</td>\n",
       "      <td>0.980839</td>\n",
       "      <td>Gary Numan</td>\n",
       "      <td>War Songs</td>\n",
       "      <td>0.980527</td>\n",
       "      <td>Little Dragon</td>\n",
       "      <td>Forever</td>\n",
       "      <td>0.980209</td>\n",
       "    </tr>\n",
       "    <tr>\n",
       "      <th>145</th>\n",
       "      <td>\"Weird Al\" Yankovic</td>\n",
       "      <td>Do I Creep You Out</td>\n",
       "      <td>I know that you don't know me very well We've ...</td>\n",
       "      <td>02:46</td>\n",
       "      <td>love</td>\n",
       "      <td>rock,pop,comedy</td>\n",
       "      <td>Straight Outta Lynwood</td>\n",
       "      <td>26th September 2006</td>\n",
       "      <td>C# Maj</td>\n",
       "      <td>144</td>\n",
       "      <td>...</td>\n",
       "      <td>0</td>\n",
       "      <td>Christina Aguilera</td>\n",
       "      <td>Keeps Gettin' Better</td>\n",
       "      <td>0.977084</td>\n",
       "      <td>Ayreon</td>\n",
       "      <td>Day Eight: School</td>\n",
       "      <td>0.975858</td>\n",
       "      <td>Christina Aguilera</td>\n",
       "      <td>Keeps Gettin Better</td>\n",
       "      <td>0.975671</td>\n",
       "    </tr>\n",
       "    <tr>\n",
       "      <th>163</th>\n",
       "      <td>\"Weird Al\" Yankovic</td>\n",
       "      <td>Syndicated Inc.</td>\n",
       "      <td>My whole family loves 'Three's Company' See th...</td>\n",
       "      <td>03:57</td>\n",
       "      <td>love</td>\n",
       "      <td>rock,pop,comedy</td>\n",
       "      <td>Bad Hair Day</td>\n",
       "      <td>31st December 1996</td>\n",
       "      <td>C Maj</td>\n",
       "      <td>118</td>\n",
       "      <td>...</td>\n",
       "      <td>0</td>\n",
       "      <td>Leeland</td>\n",
       "      <td>Burning With Your Love Live</td>\n",
       "      <td>0.991836</td>\n",
       "      <td>KGA Berg</td>\n",
       "      <td>Ever Somber</td>\n",
       "      <td>0.990431</td>\n",
       "      <td>Tor Miller</td>\n",
       "      <td>Always</td>\n",
       "      <td>0.987654</td>\n",
       "    </tr>\n",
       "    <tr>\n",
       "      <th>199</th>\n",
       "      <td>\"Weird Al\" Yankovic</td>\n",
       "      <td>Airline Amy</td>\n",
       "      <td>Met this pretty young stewardess on a non-stop...</td>\n",
       "      <td>03:50</td>\n",
       "      <td>love</td>\n",
       "      <td>rock,pop,comedy</td>\n",
       "      <td>Off The Deep End</td>\n",
       "      <td>1st January 1992</td>\n",
       "      <td>F# min</td>\n",
       "      <td>152</td>\n",
       "      <td>...</td>\n",
       "      <td>0</td>\n",
       "      <td>Mo-Dettes</td>\n",
       "      <td>White Mice</td>\n",
       "      <td>0.994204</td>\n",
       "      <td>Southern Culture on the Skids</td>\n",
       "      <td>King of the Mountain</td>\n",
       "      <td>0.993905</td>\n",
       "      <td>Indigo Girls</td>\n",
       "      <td>Go</td>\n",
       "      <td>0.992444</td>\n",
       "    </tr>\n",
       "    <tr>\n",
       "      <th>252</th>\n",
       "      <td>$atori Zoom</td>\n",
       "      <td>BARRACUDA</td>\n",
       "      <td>[Chorus] She call me Luda bitch I rollout with...</td>\n",
       "      <td>02:08</td>\n",
       "      <td>love</td>\n",
       "      <td>hip hop</td>\n",
       "      <td>BARRACUDA</td>\n",
       "      <td>15th August 2019</td>\n",
       "      <td>D Maj</td>\n",
       "      <td>164</td>\n",
       "      <td>...</td>\n",
       "      <td>0</td>\n",
       "      <td>Rich The Kid,French Montana</td>\n",
       "      <td>MegaDeath</td>\n",
       "      <td>0.984073</td>\n",
       "      <td>Quadeca</td>\n",
       "      <td>Exposed RiceGum Diss Track</td>\n",
       "      <td>0.981533</td>\n",
       "      <td>Moneybagg Yo,Ari</td>\n",
       "      <td>Brain Dead</td>\n",
       "      <td>0.973412</td>\n",
       "    </tr>\n",
       "    <tr>\n",
       "      <th>...</th>\n",
       "      <td>...</td>\n",
       "      <td>...</td>\n",
       "      <td>...</td>\n",
       "      <td>...</td>\n",
       "      <td>...</td>\n",
       "      <td>...</td>\n",
       "      <td>...</td>\n",
       "      <td>...</td>\n",
       "      <td>...</td>\n",
       "      <td>...</td>\n",
       "      <td>...</td>\n",
       "      <td>...</td>\n",
       "      <td>...</td>\n",
       "      <td>...</td>\n",
       "      <td>...</td>\n",
       "      <td>...</td>\n",
       "      <td>...</td>\n",
       "      <td>...</td>\n",
       "      <td>...</td>\n",
       "      <td>...</td>\n",
       "      <td>...</td>\n",
       "    </tr>\n",
       "    <tr>\n",
       "      <th>551354</th>\n",
       "      <td>歌っちゃ王</td>\n",
       "      <td>Longing</td>\n",
       "      <td>Kizutsuke atta kotoba mo    Kasaneta namida mo...</td>\n",
       "      <td>07:43</td>\n",
       "      <td>love</td>\n",
       "      <td>pop,j-pop,dream pop</td>\n",
       "      <td>Longing ~跡切れたmelody~(カラオケ)[原曲歌手:X JAPAN]</td>\n",
       "      <td>12th October 2021</td>\n",
       "      <td>D# Maj</td>\n",
       "      <td>77</td>\n",
       "      <td>...</td>\n",
       "      <td>0</td>\n",
       "      <td>Aleah</td>\n",
       "      <td>Sacrifice</td>\n",
       "      <td>0.982795</td>\n",
       "      <td>Ulver</td>\n",
       "      <td>Coming Home</td>\n",
       "      <td>0.973148</td>\n",
       "      <td>Spacemen 3</td>\n",
       "      <td>Hypnotized</td>\n",
       "      <td>0.966786</td>\n",
       "    </tr>\n",
       "    <tr>\n",
       "      <th>551374</th>\n",
       "      <td>生 Conform 死</td>\n",
       "      <td>Nasty</td>\n",
       "      <td>I've got everything I'd ever need A home, lovi...</td>\n",
       "      <td>02:58</td>\n",
       "      <td>love</td>\n",
       "      <td>hip hop</td>\n",
       "      <td>Vol I: Cigarette Lullaby</td>\n",
       "      <td>12th November 2016</td>\n",
       "      <td>F# Maj</td>\n",
       "      <td>87</td>\n",
       "      <td>...</td>\n",
       "      <td>0</td>\n",
       "      <td>Vybz Kartel</td>\n",
       "      <td>Make Up Break Up</td>\n",
       "      <td>0.986382</td>\n",
       "      <td>Demrick</td>\n",
       "      <td>Streets Dont Love You Back</td>\n",
       "      <td>0.984057</td>\n",
       "      <td>Dan Bull</td>\n",
       "      <td>San Andreas</td>\n",
       "      <td>0.982106</td>\n",
       "    </tr>\n",
       "    <tr>\n",
       "      <th>551376</th>\n",
       "      <td>百合絢斗</td>\n",
       "      <td>Touch You Kashima Ver.</td>\n",
       "      <td>Ah, ah, ah, ah, ah I don't need simple words B...</td>\n",
       "      <td>01:33</td>\n",
       "      <td>love</td>\n",
       "      <td>pop</td>\n",
       "      <td>アニメ『ヤリチン☆ビッチ部』主題歌「Touch You」</td>\n",
       "      <td>15th August 2018</td>\n",
       "      <td>G# min</td>\n",
       "      <td>135</td>\n",
       "      <td>...</td>\n",
       "      <td>0</td>\n",
       "      <td>Gossip</td>\n",
       "      <td>Where the Girls Are</td>\n",
       "      <td>0.989354</td>\n",
       "      <td>Maroon 5</td>\n",
       "      <td>Little Of Your Time</td>\n",
       "      <td>0.987044</td>\n",
       "      <td>Maroon 5</td>\n",
       "      <td>Little of Your Time</td>\n",
       "      <td>0.986242</td>\n",
       "    </tr>\n",
       "    <tr>\n",
       "      <th>551436</th>\n",
       "      <td>박진석</td>\n",
       "      <td>Jung Seung Hwan - Day  Night English Translation</td>\n",
       "      <td>It was a gentle sound A light that shined in m...</td>\n",
       "      <td>03:42</td>\n",
       "      <td>love</td>\n",
       "      <td>hip hop</td>\n",
       "      <td>Jinseok Park`s Trot Dictionary</td>\n",
       "      <td>1st April 2011</td>\n",
       "      <td>C min</td>\n",
       "      <td>136</td>\n",
       "      <td>...</td>\n",
       "      <td>0</td>\n",
       "      <td>Ziggy Marley</td>\n",
       "      <td>Elizabeth</td>\n",
       "      <td>0.990341</td>\n",
       "      <td>Kylie Minogue</td>\n",
       "      <td>Secret Take You Home</td>\n",
       "      <td>0.978380</td>\n",
       "      <td>UB40</td>\n",
       "      <td>Seasons</td>\n",
       "      <td>0.977563</td>\n",
       "    </tr>\n",
       "    <tr>\n",
       "      <th>551442</th>\n",
       "      <td>코케</td>\n",
       "      <td>I Wanna Be With You</td>\n",
       "      <td>I wanna b with you I wanna b with you baby Yea...</td>\n",
       "      <td>03:32</td>\n",
       "      <td>love</td>\n",
       "      <td>hip hop</td>\n",
       "      <td>I Wanna Be With You : Originally Performed By ...</td>\n",
       "      <td>4th November 2020</td>\n",
       "      <td>D Maj</td>\n",
       "      <td>100</td>\n",
       "      <td>...</td>\n",
       "      <td>0</td>\n",
       "      <td>Ameritz - Karaoke</td>\n",
       "      <td>Roxanne 97 Puff Daddy Remix</td>\n",
       "      <td>0.987132</td>\n",
       "      <td>Ameritz - Karaoke</td>\n",
       "      <td>Roxanne</td>\n",
       "      <td>0.987132</td>\n",
       "      <td>ProSource Karaoke</td>\n",
       "      <td>Get Back Single Version</td>\n",
       "      <td>0.984674</td>\n",
       "    </tr>\n",
       "  </tbody>\n",
       "</table>\n",
       "<p>27963 rows × 39 columns</p>\n",
       "</div>"
      ],
      "text/plain": [
       "                  Artist(s)                                              song  \\\n",
       "5                       !!!                                     All U Writers   \n",
       "145     \"Weird Al\" Yankovic                                Do I Creep You Out   \n",
       "163     \"Weird Al\" Yankovic                                   Syndicated Inc.   \n",
       "199     \"Weird Al\" Yankovic                                       Airline Amy   \n",
       "252             $atori Zoom                                         BARRACUDA   \n",
       "...                     ...                                               ...   \n",
       "551354                歌っちゃ王                                           Longing   \n",
       "551374          生 Conform 死                                             Nasty   \n",
       "551376                 百合絢斗                            Touch You Kashima Ver.   \n",
       "551436                  박진석  Jung Seung Hwan - Day  Night English Translation   \n",
       "551442                   코케                               I Wanna Be With You   \n",
       "\n",
       "                                                     text Length emotion  \\\n",
       "5       All you writers Get out your pens and write Al...  05:22    love   \n",
       "145     I know that you don't know me very well We've ...  02:46    love   \n",
       "163     My whole family loves 'Three's Company' See th...  03:57    love   \n",
       "199     Met this pretty young stewardess on a non-stop...  03:50    love   \n",
       "252     [Chorus] She call me Luda bitch I rollout with...  02:08    love   \n",
       "...                                                   ...    ...     ...   \n",
       "551354  Kizutsuke atta kotoba mo    Kasaneta namida mo...  07:43    love   \n",
       "551374  I've got everything I'd ever need A home, lovi...  02:58    love   \n",
       "551376  Ah, ah, ah, ah, ah I don't need simple words B...  01:33    love   \n",
       "551436  It was a gentle sound A light that shined in m...  03:42    love   \n",
       "551442  I wanna b with you I wanna b with you baby Yea...  03:32    love   \n",
       "\n",
       "                      Genre  \\\n",
       "5                   hip hop   \n",
       "145         rock,pop,comedy   \n",
       "163         rock,pop,comedy   \n",
       "199         rock,pop,comedy   \n",
       "252                 hip hop   \n",
       "...                     ...   \n",
       "551354  pop,j-pop,dream pop   \n",
       "551374              hip hop   \n",
       "551376                  pop   \n",
       "551436              hip hop   \n",
       "551442              hip hop   \n",
       "\n",
       "                                                    Album  \\\n",
       "5                      All U Writers / Gonna Guetta Stomp   \n",
       "145                                Straight Outta Lynwood   \n",
       "163                                          Bad Hair Day   \n",
       "199                                      Off The Deep End   \n",
       "252                                             BARRACUDA   \n",
       "...                                                   ...   \n",
       "551354           Longing ~跡切れたmelody~(カラオケ)[原曲歌手:X JAPAN]   \n",
       "551374                           Vol I: Cigarette Lullaby   \n",
       "551376                       アニメ『ヤリチン☆ビッチ部』主題歌「Touch You」   \n",
       "551436                     Jinseok Park`s Trot Dictionary   \n",
       "551442  I Wanna Be With You : Originally Performed By ...   \n",
       "\n",
       "               Release Date     Key  Tempo  ... Good for Morning Routine  \\\n",
       "5           27th April 2015   B min    122  ...                        0   \n",
       "145     26th September 2006  C# Maj    144  ...                        0   \n",
       "163      31st December 1996   C Maj    118  ...                        0   \n",
       "199        1st January 1992  F# min    152  ...                        0   \n",
       "252        15th August 2019   D Maj    164  ...                        0   \n",
       "...                     ...     ...    ...  ...                      ...   \n",
       "551354    12th October 2021  D# Maj     77  ...                        0   \n",
       "551374   12th November 2016  F# Maj     87  ...                        0   \n",
       "551376     15th August 2018  G# min    135  ...                        0   \n",
       "551436       1st April 2011   C min    136  ...                        0   \n",
       "551442    4th November 2020   D Maj    100  ...                        0   \n",
       "\n",
       "                   Similar Artist 1               Similar Song 1  \\\n",
       "5                  Wish & Fonda Rae      Touch Me All Night Long   \n",
       "145              Christina Aguilera         Keeps Gettin' Better   \n",
       "163                         Leeland  Burning With Your Love Live   \n",
       "199                       Mo-Dettes                   White Mice   \n",
       "252     Rich The Kid,French Montana                    MegaDeath   \n",
       "...                             ...                          ...   \n",
       "551354                        Aleah                    Sacrifice   \n",
       "551374                  Vybz Kartel             Make Up Break Up   \n",
       "551376                       Gossip          Where the Girls Are   \n",
       "551436                 Ziggy Marley                    Elizabeth   \n",
       "551442            Ameritz - Karaoke  Roxanne 97 Puff Daddy Remix   \n",
       "\n",
       "        Similarity Score 1               Similar Artist 2  \\\n",
       "5                 0.980839                     Gary Numan   \n",
       "145               0.977084                         Ayreon   \n",
       "163               0.991836                       KGA Berg   \n",
       "199               0.994204  Southern Culture on the Skids   \n",
       "252               0.984073                        Quadeca   \n",
       "...                    ...                            ...   \n",
       "551354            0.982795                          Ulver   \n",
       "551374            0.986382                        Demrick   \n",
       "551376            0.989354                       Maroon 5   \n",
       "551436            0.990341                  Kylie Minogue   \n",
       "551442            0.987132              Ameritz - Karaoke   \n",
       "\n",
       "                    Similar Song 2  Similarity Score 2    Similar Artist 3  \\\n",
       "5                        War Songs            0.980527       Little Dragon   \n",
       "145              Day Eight: School            0.975858  Christina Aguilera   \n",
       "163                    Ever Somber            0.990431          Tor Miller   \n",
       "199           King of the Mountain            0.993905        Indigo Girls   \n",
       "252     Exposed RiceGum Diss Track            0.981533    Moneybagg Yo,Ari   \n",
       "...                            ...                 ...                 ...   \n",
       "551354                 Coming Home            0.973148          Spacemen 3   \n",
       "551374  Streets Dont Love You Back            0.984057            Dan Bull   \n",
       "551376         Little Of Your Time            0.987044            Maroon 5   \n",
       "551436        Secret Take You Home            0.978380                UB40   \n",
       "551442                     Roxanne            0.987132   ProSource Karaoke   \n",
       "\n",
       "                 Similar Song 3  Similarity Score 3  \n",
       "5                       Forever            0.980209  \n",
       "145         Keeps Gettin Better            0.975671  \n",
       "163                      Always            0.987654  \n",
       "199                          Go            0.992444  \n",
       "252                  Brain Dead            0.973412  \n",
       "...                         ...                 ...  \n",
       "551354               Hypnotized            0.966786  \n",
       "551374              San Andreas            0.982106  \n",
       "551376      Little of Your Time            0.986242  \n",
       "551436                  Seasons            0.977563  \n",
       "551442  Get Back Single Version            0.984674  \n",
       "\n",
       "[27963 rows x 39 columns]"
      ]
     },
     "execution_count": 85,
     "metadata": {},
     "output_type": "execute_result"
    }
   ],
   "source": [
    "df[df['emotion'] == 'love']"
   ]
  },
  {
   "cell_type": "code",
   "execution_count": 86,
   "metadata": {
    "execution": {
     "iopub.execute_input": "2025-10-27T03:00:15.293445Z",
     "iopub.status.busy": "2025-10-27T03:00:15.293169Z",
     "iopub.status.idle": "2025-10-27T03:00:16.437734Z",
     "shell.execute_reply": "2025-10-27T03:00:16.436944Z",
     "shell.execute_reply.started": "2025-10-27T03:00:15.293417Z"
    },
    "trusted": true
   },
   "outputs": [],
   "source": [
    "df2 = pd.read_csv(\"/kaggle/input/music-with-emotions-cleaned/deep_cleaned_muse_with_english_lyrics_only.csv\")"
   ]
  },
  {
   "cell_type": "code",
   "execution_count": 87,
   "metadata": {
    "execution": {
     "iopub.execute_input": "2025-10-27T03:00:16.438713Z",
     "iopub.status.busy": "2025-10-27T03:00:16.438506Z",
     "iopub.status.idle": "2025-10-27T03:00:16.448990Z",
     "shell.execute_reply": "2025-10-27T03:00:16.447966Z",
     "shell.execute_reply.started": "2025-10-27T03:00:16.438697Z"
    },
    "trusted": true
   },
   "outputs": [
    {
     "data": {
      "text/html": [
       "<div>\n",
       "<style scoped>\n",
       "    .dataframe tbody tr th:only-of-type {\n",
       "        vertical-align: middle;\n",
       "    }\n",
       "\n",
       "    .dataframe tbody tr th {\n",
       "        vertical-align: top;\n",
       "    }\n",
       "\n",
       "    .dataframe thead th {\n",
       "        text-align: right;\n",
       "    }\n",
       "</style>\n",
       "<table border=\"1\" class=\"dataframe\">\n",
       "  <thead>\n",
       "    <tr style=\"text-align: right;\">\n",
       "      <th></th>\n",
       "      <th>track</th>\n",
       "      <th>artist</th>\n",
       "      <th>final_emotion</th>\n",
       "      <th>lyrics</th>\n",
       "      <th>cleaned_lyrics</th>\n",
       "    </tr>\n",
       "  </thead>\n",
       "  <tbody>\n",
       "    <tr>\n",
       "      <th>0</th>\n",
       "      <td>'Till I Collapse</td>\n",
       "      <td>Eminem</td>\n",
       "      <td>anger</td>\n",
       "      <td>'Cause sometimes you just feel tired, feel wea...</td>\n",
       "      <td>cause sometimes feel tired feel weak feel weak...</td>\n",
       "    </tr>\n",
       "    <tr>\n",
       "      <th>1</th>\n",
       "      <td>St. Anger</td>\n",
       "      <td>Metallica</td>\n",
       "      <td>anger</td>\n",
       "      <td>St. Anger 'round my neck\\r\\nSt. Anger 'round m...</td>\n",
       "      <td>st anger round neck st anger round neck never ...</td>\n",
       "    </tr>\n",
       "    <tr>\n",
       "      <th>2</th>\n",
       "      <td>Speedin'</td>\n",
       "      <td>Rick Ross</td>\n",
       "      <td>anger</td>\n",
       "      <td>Legendary\\r\\nRunners\\r\\nYou know me\\r\\n\\r\\nTri...</td>\n",
       "      <td>legendary runner know trilla every dollar coun...</td>\n",
       "    </tr>\n",
       "    <tr>\n",
       "      <th>3</th>\n",
       "      <td>Bamboo Banga</td>\n",
       "      <td>M.I.A.</td>\n",
       "      <td>anger</td>\n",
       "      <td>Road runner, road runner\\r\\nGoing hundred mile...</td>\n",
       "      <td>road runner road runner going hundred mile per...</td>\n",
       "    </tr>\n",
       "    <tr>\n",
       "      <th>4</th>\n",
       "      <td>Die MF Die</td>\n",
       "      <td>Dope</td>\n",
       "      <td>anger</td>\n",
       "      <td>I don't need your forgiveness\\r\\nI don't need ...</td>\n",
       "      <td>dont need forgiveness dont need hate dont need...</td>\n",
       "    </tr>\n",
       "  </tbody>\n",
       "</table>\n",
       "</div>"
      ],
      "text/plain": [
       "              track     artist final_emotion  \\\n",
       "0  'Till I Collapse     Eminem         anger   \n",
       "1         St. Anger  Metallica         anger   \n",
       "2          Speedin'  Rick Ross         anger   \n",
       "3      Bamboo Banga     M.I.A.         anger   \n",
       "4        Die MF Die       Dope         anger   \n",
       "\n",
       "                                              lyrics  \\\n",
       "0  'Cause sometimes you just feel tired, feel wea...   \n",
       "1  St. Anger 'round my neck\\r\\nSt. Anger 'round m...   \n",
       "2  Legendary\\r\\nRunners\\r\\nYou know me\\r\\n\\r\\nTri...   \n",
       "3  Road runner, road runner\\r\\nGoing hundred mile...   \n",
       "4  I don't need your forgiveness\\r\\nI don't need ...   \n",
       "\n",
       "                                      cleaned_lyrics  \n",
       "0  cause sometimes feel tired feel weak feel weak...  \n",
       "1  st anger round neck st anger round neck never ...  \n",
       "2  legendary runner know trilla every dollar coun...  \n",
       "3  road runner road runner going hundred mile per...  \n",
       "4  dont need forgiveness dont need hate dont need...  "
      ]
     },
     "execution_count": 87,
     "metadata": {},
     "output_type": "execute_result"
    }
   ],
   "source": [
    "df2.head()"
   ]
  },
  {
   "cell_type": "code",
   "execution_count": 88,
   "metadata": {
    "execution": {
     "iopub.execute_input": "2025-10-27T03:00:16.450328Z",
     "iopub.status.busy": "2025-10-27T03:00:16.450127Z",
     "iopub.status.idle": "2025-10-27T03:00:16.469295Z",
     "shell.execute_reply": "2025-10-27T03:00:16.468465Z",
     "shell.execute_reply.started": "2025-10-27T03:00:16.450312Z"
    },
    "trusted": true
   },
   "outputs": [
    {
     "data": {
      "text/plain": [
       "final_emotion\n",
       "sadness       7581\n",
       "joy           7256\n",
       "reflective    6504\n",
       "excitement    6234\n",
       "calm          5169\n",
       "neutral       4761\n",
       "romantic      3670\n",
       "anger         2843\n",
       "fear          1468\n",
       "Name: count, dtype: int64"
      ]
     },
     "execution_count": 88,
     "metadata": {},
     "output_type": "execute_result"
    }
   ],
   "source": [
    "df2['final_emotion'].value_counts()"
   ]
  },
  {
   "cell_type": "code",
   "execution_count": 89,
   "metadata": {
    "execution": {
     "iopub.execute_input": "2025-10-27T03:00:16.470441Z",
     "iopub.status.busy": "2025-10-27T03:00:16.470169Z",
     "iopub.status.idle": "2025-10-27T03:00:16.548244Z",
     "shell.execute_reply": "2025-10-27T03:00:16.547333Z",
     "shell.execute_reply.started": "2025-10-27T03:00:16.470420Z"
    },
    "trusted": true
   },
   "outputs": [],
   "source": [
    "# Extract only needed columns and rename to match your dataset\n",
    "subset = df[['song', 'Artist(s)', 'emotion', 'text']].copy()\n",
    "subset.rename(columns={\n",
    "    'song': 'track',\n",
    "    'Artist(s)': 'artist',\n",
    "    'emotion': 'final_emotion',\n",
    "    'text': 'lyrics'\n",
    "}, inplace=True)\n"
   ]
  },
  {
   "cell_type": "code",
   "execution_count": 90,
   "metadata": {
    "execution": {
     "iopub.execute_input": "2025-10-27T03:00:16.549605Z",
     "iopub.status.busy": "2025-10-27T03:00:16.549344Z",
     "iopub.status.idle": "2025-10-27T03:00:16.596704Z",
     "shell.execute_reply": "2025-10-27T03:00:16.595776Z",
     "shell.execute_reply.started": "2025-10-27T03:00:16.549585Z"
    },
    "trusted": true
   },
   "outputs": [
    {
     "data": {
      "text/plain": [
       "final_emotion\n",
       "joy          209009\n",
       "sadness      171078\n",
       "anger        109678\n",
       "fear          28097\n",
       "love          27963\n",
       "surprise       5592\n",
       "True             17\n",
       "Love              3\n",
       "pink              2\n",
       "angry             1\n",
       "thirst            1\n",
       "confusion         1\n",
       "interest          1\n",
       "Name: count, dtype: int64"
      ]
     },
     "execution_count": 90,
     "metadata": {},
     "output_type": "execute_result"
    }
   ],
   "source": [
    "subset['final_emotion'].value_counts()\n"
   ]
  },
  {
   "cell_type": "code",
   "execution_count": 91,
   "metadata": {
    "execution": {
     "iopub.execute_input": "2025-10-27T03:00:16.597816Z",
     "iopub.status.busy": "2025-10-27T03:00:16.597615Z",
     "iopub.status.idle": "2025-10-27T03:00:16.660485Z",
     "shell.execute_reply": "2025-10-27T03:00:16.659714Z",
     "shell.execute_reply.started": "2025-10-27T03:00:16.597799Z"
    },
    "trusted": true
   },
   "outputs": [
    {
     "data": {
      "text/html": [
       "<div>\n",
       "<style scoped>\n",
       "    .dataframe tbody tr th:only-of-type {\n",
       "        vertical-align: middle;\n",
       "    }\n",
       "\n",
       "    .dataframe tbody tr th {\n",
       "        vertical-align: top;\n",
       "    }\n",
       "\n",
       "    .dataframe thead th {\n",
       "        text-align: right;\n",
       "    }\n",
       "</style>\n",
       "<table border=\"1\" class=\"dataframe\">\n",
       "  <thead>\n",
       "    <tr style=\"text-align: right;\">\n",
       "      <th></th>\n",
       "      <th>track</th>\n",
       "      <th>artist</th>\n",
       "      <th>final_emotion</th>\n",
       "      <th>lyrics</th>\n",
       "    </tr>\n",
       "  </thead>\n",
       "  <tbody>\n",
       "    <tr>\n",
       "      <th>5</th>\n",
       "      <td>All U Writers</td>\n",
       "      <td>!!!</td>\n",
       "      <td>love</td>\n",
       "      <td>All you writers Get out your pens and write Al...</td>\n",
       "    </tr>\n",
       "    <tr>\n",
       "      <th>145</th>\n",
       "      <td>Do I Creep You Out</td>\n",
       "      <td>\"Weird Al\" Yankovic</td>\n",
       "      <td>love</td>\n",
       "      <td>I know that you don't know me very well We've ...</td>\n",
       "    </tr>\n",
       "    <tr>\n",
       "      <th>163</th>\n",
       "      <td>Syndicated Inc.</td>\n",
       "      <td>\"Weird Al\" Yankovic</td>\n",
       "      <td>love</td>\n",
       "      <td>My whole family loves 'Three's Company' See th...</td>\n",
       "    </tr>\n",
       "    <tr>\n",
       "      <th>199</th>\n",
       "      <td>Airline Amy</td>\n",
       "      <td>\"Weird Al\" Yankovic</td>\n",
       "      <td>love</td>\n",
       "      <td>Met this pretty young stewardess on a non-stop...</td>\n",
       "    </tr>\n",
       "    <tr>\n",
       "      <th>252</th>\n",
       "      <td>BARRACUDA</td>\n",
       "      <td>$atori Zoom</td>\n",
       "      <td>love</td>\n",
       "      <td>[Chorus] She call me Luda bitch I rollout with...</td>\n",
       "    </tr>\n",
       "    <tr>\n",
       "      <th>...</th>\n",
       "      <td>...</td>\n",
       "      <td>...</td>\n",
       "      <td>...</td>\n",
       "      <td>...</td>\n",
       "    </tr>\n",
       "    <tr>\n",
       "      <th>551354</th>\n",
       "      <td>Longing</td>\n",
       "      <td>歌っちゃ王</td>\n",
       "      <td>love</td>\n",
       "      <td>Kizutsuke atta kotoba mo    Kasaneta namida mo...</td>\n",
       "    </tr>\n",
       "    <tr>\n",
       "      <th>551374</th>\n",
       "      <td>Nasty</td>\n",
       "      <td>生 Conform 死</td>\n",
       "      <td>love</td>\n",
       "      <td>I've got everything I'd ever need A home, lovi...</td>\n",
       "    </tr>\n",
       "    <tr>\n",
       "      <th>551376</th>\n",
       "      <td>Touch You Kashima Ver.</td>\n",
       "      <td>百合絢斗</td>\n",
       "      <td>love</td>\n",
       "      <td>Ah, ah, ah, ah, ah I don't need simple words B...</td>\n",
       "    </tr>\n",
       "    <tr>\n",
       "      <th>551436</th>\n",
       "      <td>Jung Seung Hwan - Day  Night English Translation</td>\n",
       "      <td>박진석</td>\n",
       "      <td>love</td>\n",
       "      <td>It was a gentle sound A light that shined in m...</td>\n",
       "    </tr>\n",
       "    <tr>\n",
       "      <th>551442</th>\n",
       "      <td>I Wanna Be With You</td>\n",
       "      <td>코케</td>\n",
       "      <td>love</td>\n",
       "      <td>I wanna b with you I wanna b with you baby Yea...</td>\n",
       "    </tr>\n",
       "  </tbody>\n",
       "</table>\n",
       "<p>27963 rows × 4 columns</p>\n",
       "</div>"
      ],
      "text/plain": [
       "                                                   track               artist  \\\n",
       "5                                          All U Writers                  !!!   \n",
       "145                                   Do I Creep You Out  \"Weird Al\" Yankovic   \n",
       "163                                      Syndicated Inc.  \"Weird Al\" Yankovic   \n",
       "199                                          Airline Amy  \"Weird Al\" Yankovic   \n",
       "252                                            BARRACUDA          $atori Zoom   \n",
       "...                                                  ...                  ...   \n",
       "551354                                           Longing                歌っちゃ王   \n",
       "551374                                             Nasty          生 Conform 死   \n",
       "551376                            Touch You Kashima Ver.                 百合絢斗   \n",
       "551436  Jung Seung Hwan - Day  Night English Translation                  박진석   \n",
       "551442                               I Wanna Be With You                   코케   \n",
       "\n",
       "       final_emotion                                             lyrics  \n",
       "5               love  All you writers Get out your pens and write Al...  \n",
       "145             love  I know that you don't know me very well We've ...  \n",
       "163             love  My whole family loves 'Three's Company' See th...  \n",
       "199             love  Met this pretty young stewardess on a non-stop...  \n",
       "252             love  [Chorus] She call me Luda bitch I rollout with...  \n",
       "...              ...                                                ...  \n",
       "551354          love  Kizutsuke atta kotoba mo    Kasaneta namida mo...  \n",
       "551374          love  I've got everything I'd ever need A home, lovi...  \n",
       "551376          love  Ah, ah, ah, ah, ah I don't need simple words B...  \n",
       "551436          love  It was a gentle sound A light that shined in m...  \n",
       "551442          love  I wanna b with you I wanna b with you baby Yea...  \n",
       "\n",
       "[27963 rows x 4 columns]"
      ]
     },
     "execution_count": 91,
     "metadata": {},
     "output_type": "execute_result"
    }
   ],
   "source": [
    "subset[subset['final_emotion'] == 'love']"
   ]
  },
  {
   "cell_type": "code",
   "execution_count": 92,
   "metadata": {
    "execution": {
     "iopub.execute_input": "2025-10-27T03:00:16.661708Z",
     "iopub.status.busy": "2025-10-27T03:00:16.661436Z",
     "iopub.status.idle": "2025-10-27T03:00:16.670728Z",
     "shell.execute_reply": "2025-10-27T03:00:16.669919Z",
     "shell.execute_reply.started": "2025-10-27T03:00:16.661682Z"
    },
    "trusted": true
   },
   "outputs": [
    {
     "data": {
      "text/html": [
       "<div>\n",
       "<style scoped>\n",
       "    .dataframe tbody tr th:only-of-type {\n",
       "        vertical-align: middle;\n",
       "    }\n",
       "\n",
       "    .dataframe tbody tr th {\n",
       "        vertical-align: top;\n",
       "    }\n",
       "\n",
       "    .dataframe thead th {\n",
       "        text-align: right;\n",
       "    }\n",
       "</style>\n",
       "<table border=\"1\" class=\"dataframe\">\n",
       "  <thead>\n",
       "    <tr style=\"text-align: right;\">\n",
       "      <th></th>\n",
       "      <th>track</th>\n",
       "      <th>artist</th>\n",
       "      <th>final_emotion</th>\n",
       "      <th>lyrics</th>\n",
       "    </tr>\n",
       "  </thead>\n",
       "  <tbody>\n",
       "    <tr>\n",
       "      <th>551438</th>\n",
       "      <td>Can you</td>\n",
       "      <td>박혜진 Park Hye Jin</td>\n",
       "      <td>joy</td>\n",
       "      <td>Can you be my (Can you be my) Can you be my (C...</td>\n",
       "    </tr>\n",
       "    <tr>\n",
       "      <th>551439</th>\n",
       "      <td>Lim Han Byul  Lee Hyuk - Prayer English Transl...</td>\n",
       "      <td>심형진 Hyungjin Sim</td>\n",
       "      <td>joy</td>\n",
       "      <td>[Verse] I gave you my everything But I see I c...</td>\n",
       "    </tr>\n",
       "    <tr>\n",
       "      <th>551440</th>\n",
       "      <td>Memories Smiling Tears Remix</td>\n",
       "      <td>우정하</td>\n",
       "      <td>sadness</td>\n",
       "      <td>[Tasha]               Hell on earth, watching ...</td>\n",
       "    </tr>\n",
       "    <tr>\n",
       "      <th>551441</th>\n",
       "      <td>Come Back to Me</td>\n",
       "      <td>제노</td>\n",
       "      <td>sadness</td>\n",
       "      <td>[Verse] Gifts and flowers lay upon the lid Of ...</td>\n",
       "    </tr>\n",
       "    <tr>\n",
       "      <th>551442</th>\n",
       "      <td>I Wanna Be With You</td>\n",
       "      <td>코케</td>\n",
       "      <td>love</td>\n",
       "      <td>I wanna b with you I wanna b with you baby Yea...</td>\n",
       "    </tr>\n",
       "  </tbody>\n",
       "</table>\n",
       "</div>"
      ],
      "text/plain": [
       "                                                    track            artist  \\\n",
       "551438                                            Can you  박혜진 Park Hye Jin   \n",
       "551439  Lim Han Byul  Lee Hyuk - Prayer English Transl...  심형진 Hyungjin Sim   \n",
       "551440                       Memories Smiling Tears Remix               우정하   \n",
       "551441                                    Come Back to Me                제노   \n",
       "551442                                I Wanna Be With You                코케   \n",
       "\n",
       "       final_emotion                                             lyrics  \n",
       "551438           joy  Can you be my (Can you be my) Can you be my (C...  \n",
       "551439           joy  [Verse] I gave you my everything But I see I c...  \n",
       "551440       sadness  [Tasha]               Hell on earth, watching ...  \n",
       "551441       sadness  [Verse] Gifts and flowers lay upon the lid Of ...  \n",
       "551442          love  I wanna b with you I wanna b with you baby Yea...  "
      ]
     },
     "execution_count": 92,
     "metadata": {},
     "output_type": "execute_result"
    }
   ],
   "source": [
    "subset.tail()"
   ]
  },
  {
   "cell_type": "code",
   "execution_count": 93,
   "metadata": {
    "execution": {
     "iopub.execute_input": "2025-10-27T03:00:16.671914Z",
     "iopub.status.busy": "2025-10-27T03:00:16.671594Z",
     "iopub.status.idle": "2025-10-27T03:00:16.949239Z",
     "shell.execute_reply": "2025-10-27T03:00:16.948360Z",
     "shell.execute_reply.started": "2025-10-27T03:00:16.671875Z"
    },
    "trusted": true
   },
   "outputs": [],
   "source": [
    "target_classes = ['romantic', 'fear', 'anger']\n",
    "\n",
    "# Normalize to lowercase\n",
    "subset['final_emotion'] = subset['final_emotion'].str.lower().str.strip()\n",
    "\n",
    "# Map similar emotion names to your dataset's naming\n",
    "emotion_map = {\n",
    "    'love': 'romantic',   # unify \"love\" -> \"romantic\"\n",
    "    'anger': 'anger',\n",
    "    'fear': 'fear'\n",
    "}\n",
    "\n",
    "subset = subset[subset['final_emotion'].isin(emotion_map.keys())]\n",
    "\n",
    "# Apply mapping to rename the emotion column\n",
    "subset['final_emotion'] = subset['final_emotion'].map(emotion_map)\n"
   ]
  },
  {
   "cell_type": "code",
   "execution_count": 94,
   "metadata": {
    "execution": {
     "iopub.execute_input": "2025-10-27T03:00:16.952915Z",
     "iopub.status.busy": "2025-10-27T03:00:16.952302Z",
     "iopub.status.idle": "2025-10-27T03:00:16.970866Z",
     "shell.execute_reply": "2025-10-27T03:00:16.970182Z",
     "shell.execute_reply.started": "2025-10-27T03:00:16.952872Z"
    },
    "trusted": true
   },
   "outputs": [
    {
     "data": {
      "text/plain": [
       "[5          True\n",
       " 14        False\n",
       " 15        False\n",
       " 16        False\n",
       " 18        False\n",
       "           ...  \n",
       " 551392    False\n",
       " 551407    False\n",
       " 551413    False\n",
       " 551436     True\n",
       " 551442     True\n",
       " Name: final_emotion, Length: 165741, dtype: bool]"
      ]
     },
     "execution_count": 94,
     "metadata": {},
     "output_type": "execute_result"
    }
   ],
   "source": [
    "[subset['final_emotion'] == 'romantic']"
   ]
  },
  {
   "cell_type": "code",
   "execution_count": 95,
   "metadata": {
    "execution": {
     "iopub.execute_input": "2025-10-27T03:00:16.972007Z",
     "iopub.status.busy": "2025-10-27T03:00:16.971705Z",
     "iopub.status.idle": "2025-10-27T03:00:16.990633Z",
     "shell.execute_reply": "2025-10-27T03:00:16.989554Z",
     "shell.execute_reply.started": "2025-10-27T03:00:16.971981Z"
    },
    "trusted": true
   },
   "outputs": [
    {
     "data": {
      "text/html": [
       "<div>\n",
       "<style scoped>\n",
       "    .dataframe tbody tr th:only-of-type {\n",
       "        vertical-align: middle;\n",
       "    }\n",
       "\n",
       "    .dataframe tbody tr th {\n",
       "        vertical-align: top;\n",
       "    }\n",
       "\n",
       "    .dataframe thead th {\n",
       "        text-align: right;\n",
       "    }\n",
       "</style>\n",
       "<table border=\"1\" class=\"dataframe\">\n",
       "  <thead>\n",
       "    <tr style=\"text-align: right;\">\n",
       "      <th></th>\n",
       "      <th>track</th>\n",
       "      <th>artist</th>\n",
       "      <th>final_emotion</th>\n",
       "      <th>lyrics</th>\n",
       "    </tr>\n",
       "  </thead>\n",
       "  <tbody>\n",
       "    <tr>\n",
       "      <th>5</th>\n",
       "      <td>All U Writers</td>\n",
       "      <td>!!!</td>\n",
       "      <td>romantic</td>\n",
       "      <td>All you writers Get out your pens and write Al...</td>\n",
       "    </tr>\n",
       "    <tr>\n",
       "      <th>14</th>\n",
       "      <td>All My Heroes Are Weirdos</td>\n",
       "      <td>!!!</td>\n",
       "      <td>anger</td>\n",
       "      <td>Hey ho, there’s an open casting call for heroe...</td>\n",
       "    </tr>\n",
       "  </tbody>\n",
       "</table>\n",
       "</div>"
      ],
      "text/plain": [
       "                        track artist final_emotion  \\\n",
       "5               All U Writers    !!!      romantic   \n",
       "14  All My Heroes Are Weirdos    !!!         anger   \n",
       "\n",
       "                                               lyrics  \n",
       "5   All you writers Get out your pens and write Al...  \n",
       "14  Hey ho, there’s an open casting call for heroe...  "
      ]
     },
     "execution_count": 95,
     "metadata": {},
     "output_type": "execute_result"
    }
   ],
   "source": [
    "subset.head(2)"
   ]
  },
  {
   "cell_type": "code",
   "execution_count": 96,
   "metadata": {
    "execution": {
     "iopub.execute_input": "2025-10-27T03:00:16.991849Z",
     "iopub.status.busy": "2025-10-27T03:00:16.991583Z",
     "iopub.status.idle": "2025-10-27T03:00:17.055583Z",
     "shell.execute_reply": "2025-10-27T03:00:17.054734Z",
     "shell.execute_reply.started": "2025-10-27T03:00:16.991821Z"
    },
    "trusted": true
   },
   "outputs": [],
   "source": [
    "target_classes = [ 'fear', 'anger','love']\n",
    "subset = subset[subset['final_emotion'].str.lower().isin(target_classes)]\n"
   ]
  },
  {
   "cell_type": "code",
   "execution_count": 97,
   "metadata": {
    "execution": {
     "iopub.execute_input": "2025-10-27T03:00:17.056825Z",
     "iopub.status.busy": "2025-10-27T03:00:17.056541Z",
     "iopub.status.idle": "2025-10-27T03:00:17.070991Z",
     "shell.execute_reply": "2025-10-27T03:00:17.070177Z",
     "shell.execute_reply.started": "2025-10-27T03:00:17.056799Z"
    },
    "trusted": true
   },
   "outputs": [
    {
     "data": {
      "text/plain": [
       "final_emotion\n",
       "anger    109678\n",
       "fear      28097\n",
       "Name: count, dtype: int64"
      ]
     },
     "execution_count": 97,
     "metadata": {},
     "output_type": "execute_result"
    }
   ],
   "source": [
    "subset['final_emotion'].value_counts()\n"
   ]
  },
  {
   "cell_type": "code",
   "execution_count": 101,
   "metadata": {
    "execution": {
     "iopub.execute_input": "2025-10-27T03:04:47.240305Z",
     "iopub.status.busy": "2025-10-27T03:04:47.239851Z",
     "iopub.status.idle": "2025-10-27T03:04:47.250720Z",
     "shell.execute_reply": "2025-10-27T03:04:47.249878Z",
     "shell.execute_reply.started": "2025-10-27T03:04:47.240272Z"
    },
    "trusted": true
   },
   "outputs": [
    {
     "data": {
      "text/plain": [
       "final_emotion\n",
       "fear        4991\n",
       "anger       4987\n",
       "romantic    4954\n",
       "Name: count, dtype: int64"
      ]
     },
     "execution_count": 101,
     "metadata": {},
     "output_type": "execute_result"
    }
   ],
   "source": [
    "subset_balanced['final_emotion'].value_counts()"
   ]
  },
  {
   "cell_type": "code",
   "execution_count": null,
   "metadata": {
    "execution": {
     "iopub.status.busy": "2025-10-27T03:00:17.089419Z",
     "iopub.status.idle": "2025-10-27T03:00:17.089703Z",
     "shell.execute_reply": "2025-10-27T03:00:17.089588Z",
     "shell.execute_reply.started": "2025-10-27T03:00:17.089576Z"
    },
    "trusted": true
   },
   "outputs": [],
   "source": [
    "!pip install langdetect"
   ]
  },
  {
   "cell_type": "code",
   "execution_count": 99,
   "metadata": {
    "execution": {
     "iopub.execute_input": "2025-10-27T03:00:32.820331Z",
     "iopub.status.busy": "2025-10-27T03:00:32.819994Z",
     "iopub.status.idle": "2025-10-27T03:00:32.827577Z",
     "shell.execute_reply": "2025-10-27T03:00:32.826311Z",
     "shell.execute_reply.started": "2025-10-27T03:00:32.820308Z"
    },
    "trusted": true
   },
   "outputs": [
    {
     "name": "stdout",
     "output_type": "stream",
     "text": [
      "fr\n"
     ]
    }
   ],
   "source": [
    "from langdetect import detect\n",
    "print(detect(\"Bonjour tout le monde\"))"
   ]
  },
  {
   "cell_type": "code",
   "execution_count": 100,
   "metadata": {
    "execution": {
     "iopub.execute_input": "2025-10-27T03:00:35.158722Z",
     "iopub.status.busy": "2025-10-27T03:00:35.158118Z",
     "iopub.status.idle": "2025-10-27T03:01:56.744687Z",
     "shell.execute_reply": "2025-10-27T03:01:56.743722Z",
     "shell.execute_reply.started": "2025-10-27T03:00:35.158697Z"
    },
    "trusted": true
   },
   "outputs": [],
   "source": [
    "from langdetect import detect\n",
    "from langdetect.lang_detect_exception import LangDetectException\n",
    "\n",
    "def is_english(text):\n",
    "    try:\n",
    "        return detect(text) == 'en'\n",
    "    except LangDetectException:\n",
    "        return False\n",
    "\n",
    "subset_balanced = subset_balanced[subset_balanced['lyrics'].apply(is_english)]\n"
   ]
  },
  {
   "cell_type": "code",
   "execution_count": 102,
   "metadata": {
    "execution": {
     "iopub.execute_input": "2025-10-27T03:05:18.027515Z",
     "iopub.status.busy": "2025-10-27T03:05:18.026817Z",
     "iopub.status.idle": "2025-10-27T03:05:18.036395Z",
     "shell.execute_reply": "2025-10-27T03:05:18.035434Z",
     "shell.execute_reply.started": "2025-10-27T03:05:18.027485Z"
    },
    "trusted": true
   },
   "outputs": [
    {
     "data": {
      "text/plain": [
       "final_emotion\n",
       "fear        4991\n",
       "anger       4987\n",
       "romantic    4954\n",
       "Name: count, dtype: int64"
      ]
     },
     "execution_count": 102,
     "metadata": {},
     "output_type": "execute_result"
    }
   ],
   "source": [
    "subset_balanced['final_emotion'].value_counts()"
   ]
  },
  {
   "cell_type": "code",
   "execution_count": 103,
   "metadata": {
    "execution": {
     "iopub.execute_input": "2025-10-27T03:06:58.791473Z",
     "iopub.status.busy": "2025-10-27T03:06:58.790705Z",
     "iopub.status.idle": "2025-10-27T03:07:00.021366Z",
     "shell.execute_reply": "2025-10-27T03:07:00.020437Z",
     "shell.execute_reply.started": "2025-10-27T03:06:58.791444Z"
    },
    "trusted": true
   },
   "outputs": [],
   "source": [
    "import pandas as pd\n",
    "\n",
    "df_main = pd.read_csv(\"/kaggle/input/music-with-emotions-cleaned/deep_cleaned_muse_with_english_lyrics_only.csv\")\n"
   ]
  },
  {
   "cell_type": "code",
   "execution_count": 104,
   "metadata": {
    "execution": {
     "iopub.execute_input": "2025-10-27T03:07:12.358880Z",
     "iopub.status.busy": "2025-10-27T03:07:12.357965Z",
     "iopub.status.idle": "2025-10-27T03:07:12.368450Z",
     "shell.execute_reply": "2025-10-27T03:07:12.367450Z",
     "shell.execute_reply.started": "2025-10-27T03:07:12.358850Z"
    },
    "trusted": true
   },
   "outputs": [
    {
     "data": {
      "text/html": [
       "<div>\n",
       "<style scoped>\n",
       "    .dataframe tbody tr th:only-of-type {\n",
       "        vertical-align: middle;\n",
       "    }\n",
       "\n",
       "    .dataframe tbody tr th {\n",
       "        vertical-align: top;\n",
       "    }\n",
       "\n",
       "    .dataframe thead th {\n",
       "        text-align: right;\n",
       "    }\n",
       "</style>\n",
       "<table border=\"1\" class=\"dataframe\">\n",
       "  <thead>\n",
       "    <tr style=\"text-align: right;\">\n",
       "      <th></th>\n",
       "      <th>track</th>\n",
       "      <th>artist</th>\n",
       "      <th>final_emotion</th>\n",
       "      <th>lyrics</th>\n",
       "      <th>cleaned_lyrics</th>\n",
       "    </tr>\n",
       "  </thead>\n",
       "  <tbody>\n",
       "    <tr>\n",
       "      <th>0</th>\n",
       "      <td>'Till I Collapse</td>\n",
       "      <td>Eminem</td>\n",
       "      <td>anger</td>\n",
       "      <td>'Cause sometimes you just feel tired, feel wea...</td>\n",
       "      <td>cause sometimes feel tired feel weak feel weak...</td>\n",
       "    </tr>\n",
       "    <tr>\n",
       "      <th>1</th>\n",
       "      <td>St. Anger</td>\n",
       "      <td>Metallica</td>\n",
       "      <td>anger</td>\n",
       "      <td>St. Anger 'round my neck\\r\\nSt. Anger 'round m...</td>\n",
       "      <td>st anger round neck st anger round neck never ...</td>\n",
       "    </tr>\n",
       "    <tr>\n",
       "      <th>2</th>\n",
       "      <td>Speedin'</td>\n",
       "      <td>Rick Ross</td>\n",
       "      <td>anger</td>\n",
       "      <td>Legendary\\r\\nRunners\\r\\nYou know me\\r\\n\\r\\nTri...</td>\n",
       "      <td>legendary runner know trilla every dollar coun...</td>\n",
       "    </tr>\n",
       "    <tr>\n",
       "      <th>3</th>\n",
       "      <td>Bamboo Banga</td>\n",
       "      <td>M.I.A.</td>\n",
       "      <td>anger</td>\n",
       "      <td>Road runner, road runner\\r\\nGoing hundred mile...</td>\n",
       "      <td>road runner road runner going hundred mile per...</td>\n",
       "    </tr>\n",
       "    <tr>\n",
       "      <th>4</th>\n",
       "      <td>Die MF Die</td>\n",
       "      <td>Dope</td>\n",
       "      <td>anger</td>\n",
       "      <td>I don't need your forgiveness\\r\\nI don't need ...</td>\n",
       "      <td>dont need forgiveness dont need hate dont need...</td>\n",
       "    </tr>\n",
       "  </tbody>\n",
       "</table>\n",
       "</div>"
      ],
      "text/plain": [
       "              track     artist final_emotion  \\\n",
       "0  'Till I Collapse     Eminem         anger   \n",
       "1         St. Anger  Metallica         anger   \n",
       "2          Speedin'  Rick Ross         anger   \n",
       "3      Bamboo Banga     M.I.A.         anger   \n",
       "4        Die MF Die       Dope         anger   \n",
       "\n",
       "                                              lyrics  \\\n",
       "0  'Cause sometimes you just feel tired, feel wea...   \n",
       "1  St. Anger 'round my neck\\r\\nSt. Anger 'round m...   \n",
       "2  Legendary\\r\\nRunners\\r\\nYou know me\\r\\n\\r\\nTri...   \n",
       "3  Road runner, road runner\\r\\nGoing hundred mile...   \n",
       "4  I don't need your forgiveness\\r\\nI don't need ...   \n",
       "\n",
       "                                      cleaned_lyrics  \n",
       "0  cause sometimes feel tired feel weak feel weak...  \n",
       "1  st anger round neck st anger round neck never ...  \n",
       "2  legendary runner know trilla every dollar coun...  \n",
       "3  road runner road runner going hundred mile per...  \n",
       "4  dont need forgiveness dont need hate dont need...  "
      ]
     },
     "execution_count": 104,
     "metadata": {},
     "output_type": "execute_result"
    }
   ],
   "source": [
    "df_main.head()"
   ]
  },
  {
   "cell_type": "code",
   "execution_count": 106,
   "metadata": {
    "execution": {
     "iopub.execute_input": "2025-10-27T03:09:52.597626Z",
     "iopub.status.busy": "2025-10-27T03:09:52.596836Z",
     "iopub.status.idle": "2025-10-27T03:10:20.471817Z",
     "shell.execute_reply": "2025-10-27T03:10:20.470764Z",
     "shell.execute_reply.started": "2025-10-27T03:09:52.597600Z"
    },
    "trusted": true
   },
   "outputs": [
    {
     "name": "stderr",
     "output_type": "stream",
     "text": [
      "[nltk_data] Downloading package punkt_tab to /usr/share/nltk_data...\n",
      "[nltk_data]   Package punkt_tab is already up-to-date!\n",
      "[nltk_data] Downloading package punkt to /usr/share/nltk_data...\n",
      "[nltk_data]   Package punkt is already up-to-date!\n",
      "[nltk_data] Downloading package wordnet to /usr/share/nltk_data...\n",
      "[nltk_data]   Package wordnet is already up-to-date!\n",
      "[nltk_data] Downloading package stopwords to /usr/share/nltk_data...\n",
      "[nltk_data]   Package stopwords is already up-to-date!\n"
     ]
    }
   ],
   "source": [
    "import re\n",
    "import nltk\n",
    "from nltk.corpus import stopwords\n",
    "from nltk.stem import WordNetLemmatizer\n",
    "nltk.download('punkt_tab')  # 👈 new addition for latest NLTK\n",
    "\n",
    "from nltk.tokenize import word_tokenize\n",
    "nltk.download('punkt'); nltk.download('wordnet'); nltk.download('stopwords')\n",
    "\n",
    "\n",
    "\n",
    "stop_words = set(stopwords.words('english')).union({\n",
    "    'aa', 'aaa', 'ah', 'aah', 'ooh', 'ohh', 'la', 'na', 'yeah', 'yo', 'ha', 'uh', 'mmm', 'woah'\n",
    "})\n",
    "lemmatizer = WordNetLemmatizer()\n",
    "\n",
    "def clean_lyrics(text):\n",
    "    text = text.lower()\n",
    "    text = re.sub(r'\\b(?:ah+|aa+|ha+|na+|la+|oh+|oo+|uh+|ya+|woo+)\\b', '', text)\n",
    "    text = re.sub(r'(\\b[a-z]+\\b)\\s+\\1', '', text)  # fixed regex for removing immediate repetitions\n",
    "    text = re.sub(r'\\[.*?\\]', '', text)              # remove [chorus], [verse]\n",
    "    text = re.sub(r'[^a-z\\s]', '', text)             # remove punctuation/numbers\n",
    "    text = re.sub(r'\\b\\d+\\b', '', text)\n",
    "    text = re.sub(r'\\d+x', '', text)\n",
    "    tokens = word_tokenize(text)\n",
    "    tokens = [lemmatizer.lemmatize(w) for w in tokens if w not in stop_words]\n",
    "    return \" \".join(tokens)\n",
    "\n",
    "subset_balanced[\"cleaned_lyrics\"] = subset_balanced[\"lyrics\"].apply(clean_lyrics)\n"
   ]
  },
  {
   "cell_type": "code",
   "execution_count": 107,
   "metadata": {
    "execution": {
     "iopub.execute_input": "2025-10-27T03:12:26.476212Z",
     "iopub.status.busy": "2025-10-27T03:12:26.475522Z",
     "iopub.status.idle": "2025-10-27T03:12:26.486669Z",
     "shell.execute_reply": "2025-10-27T03:12:26.485865Z",
     "shell.execute_reply.started": "2025-10-27T03:12:26.476182Z"
    },
    "trusted": true
   },
   "outputs": [
    {
     "data": {
      "text/html": [
       "<div>\n",
       "<style scoped>\n",
       "    .dataframe tbody tr th:only-of-type {\n",
       "        vertical-align: middle;\n",
       "    }\n",
       "\n",
       "    .dataframe tbody tr th {\n",
       "        vertical-align: top;\n",
       "    }\n",
       "\n",
       "    .dataframe thead th {\n",
       "        text-align: right;\n",
       "    }\n",
       "</style>\n",
       "<table border=\"1\" class=\"dataframe\">\n",
       "  <thead>\n",
       "    <tr style=\"text-align: right;\">\n",
       "      <th></th>\n",
       "      <th>track</th>\n",
       "      <th>artist</th>\n",
       "      <th>final_emotion</th>\n",
       "      <th>lyrics</th>\n",
       "      <th>cleaned_lyrics</th>\n",
       "    </tr>\n",
       "  </thead>\n",
       "  <tbody>\n",
       "    <tr>\n",
       "      <th>512917</th>\n",
       "      <td>Eric the Red</td>\n",
       "      <td>Týr</td>\n",
       "      <td>anger</td>\n",
       "      <td>Why I take refuge here, my father was Outlawed...</td>\n",
       "      <td>take refuge father outlawed old land east stor...</td>\n",
       "    </tr>\n",
       "    <tr>\n",
       "      <th>505567</th>\n",
       "      <td>HD Bling</td>\n",
       "      <td>Translee,GFMBRYYCE</td>\n",
       "      <td>anger</td>\n",
       "      <td>[Chorus: Translee] I got a lil steez on me, bi...</td>\n",
       "      <td>got lil steez bitch cant freeze shit goin flee...</td>\n",
       "    </tr>\n",
       "    <tr>\n",
       "      <th>138376</th>\n",
       "      <td>Far From Over</td>\n",
       "      <td>Dsavv,Akz</td>\n",
       "      <td>anger</td>\n",
       "      <td>[Intro] (De-De-De-De-DefBeats did them dirty) ...</td>\n",
       "      <td>dededededefbeats dirty o get shell tk beat mad...</td>\n",
       "    </tr>\n",
       "    <tr>\n",
       "      <th>1701</th>\n",
       "      <td>You Dont Know</td>\n",
       "      <td>13th Floor Elevators</td>\n",
       "      <td>anger</td>\n",
       "      <td>There you are again standing down below me Hon...</td>\n",
       "      <td>standing honestly believe something show deep ...</td>\n",
       "    </tr>\n",
       "    <tr>\n",
       "      <th>64164</th>\n",
       "      <td>Best</td>\n",
       "      <td>Borgore,Parker</td>\n",
       "      <td>anger</td>\n",
       "      <td>[Verse 1] I don't mean to sound upset But ther...</td>\n",
       "      <td>dont mean sound upset thereomeone sleeping bed...</td>\n",
       "    </tr>\n",
       "    <tr>\n",
       "      <th>...</th>\n",
       "      <td>...</td>\n",
       "      <td>...</td>\n",
       "      <td>...</td>\n",
       "      <td>...</td>\n",
       "      <td>...</td>\n",
       "    </tr>\n",
       "    <tr>\n",
       "      <th>365168</th>\n",
       "      <td>What Am I Living For</td>\n",
       "      <td>Percy Sledge</td>\n",
       "      <td>romantic</td>\n",
       "      <td>What am I living for If not for you What am I ...</td>\n",
       "      <td>living living living nobody else nobody else l...</td>\n",
       "    </tr>\n",
       "    <tr>\n",
       "      <th>490995</th>\n",
       "      <td>Hot Potato</td>\n",
       "      <td>The Wiggles</td>\n",
       "      <td>romantic</td>\n",
       "      <td>[Verse 1: Greg] Hot potato, Hot potato Hot pot...</td>\n",
       "      <td>hot potato hot potato hot potato hot potato ho...</td>\n",
       "    </tr>\n",
       "    <tr>\n",
       "      <th>226961</th>\n",
       "      <td>Try to Remember</td>\n",
       "      <td>Jerry Orbach</td>\n",
       "      <td>romantic</td>\n",
       "      <td>[Verse 1] Try to remember the kind of Septembe...</td>\n",
       "      <td>try remember kind september life slow mellow t...</td>\n",
       "    </tr>\n",
       "    <tr>\n",
       "      <th>73491</th>\n",
       "      <td>You Can Always Count on Me</td>\n",
       "      <td>Bård Christiansen</td>\n",
       "      <td>romantic</td>\n",
       "      <td>[Intro: Oolie] I'm one of a long line of good ...</td>\n",
       "      <td>im one long line good girl choose wrong guy sw...</td>\n",
       "    </tr>\n",
       "    <tr>\n",
       "      <th>270710</th>\n",
       "      <td>Celebrate The Summer</td>\n",
       "      <td>Lacuna,Cc.k</td>\n",
       "      <td>romantic</td>\n",
       "      <td>Celebrate the summer Dive into the sea Celebra...</td>\n",
       "      <td>celebrate summer dive sea celebrate feeling ta...</td>\n",
       "    </tr>\n",
       "  </tbody>\n",
       "</table>\n",
       "<p>14932 rows × 5 columns</p>\n",
       "</div>"
      ],
      "text/plain": [
       "                             track                artist final_emotion  \\\n",
       "512917                Eric the Red                   Týr         anger   \n",
       "505567                    HD Bling    Translee,GFMBRYYCE         anger   \n",
       "138376               Far From Over             Dsavv,Akz         anger   \n",
       "1701                 You Dont Know  13th Floor Elevators         anger   \n",
       "64164                         Best        Borgore,Parker         anger   \n",
       "...                            ...                   ...           ...   \n",
       "365168        What Am I Living For          Percy Sledge      romantic   \n",
       "490995                  Hot Potato           The Wiggles      romantic   \n",
       "226961             Try to Remember          Jerry Orbach      romantic   \n",
       "73491   You Can Always Count on Me     Bård Christiansen      romantic   \n",
       "270710        Celebrate The Summer           Lacuna,Cc.k      romantic   \n",
       "\n",
       "                                                   lyrics  \\\n",
       "512917  Why I take refuge here, my father was Outlawed...   \n",
       "505567  [Chorus: Translee] I got a lil steez on me, bi...   \n",
       "138376  [Intro] (De-De-De-De-DefBeats did them dirty) ...   \n",
       "1701    There you are again standing down below me Hon...   \n",
       "64164   [Verse 1] I don't mean to sound upset But ther...   \n",
       "...                                                   ...   \n",
       "365168  What am I living for If not for you What am I ...   \n",
       "490995  [Verse 1: Greg] Hot potato, Hot potato Hot pot...   \n",
       "226961  [Verse 1] Try to remember the kind of Septembe...   \n",
       "73491   [Intro: Oolie] I'm one of a long line of good ...   \n",
       "270710  Celebrate the summer Dive into the sea Celebra...   \n",
       "\n",
       "                                           cleaned_lyrics  \n",
       "512917  take refuge father outlawed old land east stor...  \n",
       "505567  got lil steez bitch cant freeze shit goin flee...  \n",
       "138376  dededededefbeats dirty o get shell tk beat mad...  \n",
       "1701    standing honestly believe something show deep ...  \n",
       "64164   dont mean sound upset thereomeone sleeping bed...  \n",
       "...                                                   ...  \n",
       "365168  living living living nobody else nobody else l...  \n",
       "490995  hot potato hot potato hot potato hot potato ho...  \n",
       "226961  try remember kind september life slow mellow t...  \n",
       "73491   im one long line good girl choose wrong guy sw...  \n",
       "270710  celebrate summer dive sea celebrate feeling ta...  \n",
       "\n",
       "[14932 rows x 5 columns]"
      ]
     },
     "execution_count": 107,
     "metadata": {},
     "output_type": "execute_result"
    }
   ],
   "source": [
    "subset_balanced"
   ]
  },
  {
   "cell_type": "code",
   "execution_count": 109,
   "metadata": {
    "execution": {
     "iopub.execute_input": "2025-10-27T03:13:44.299492Z",
     "iopub.status.busy": "2025-10-27T03:13:44.298590Z",
     "iopub.status.idle": "2025-10-27T03:13:44.312980Z",
     "shell.execute_reply": "2025-10-27T03:13:44.311931Z",
     "shell.execute_reply.started": "2025-10-27T03:13:44.299460Z"
    },
    "trusted": true
   },
   "outputs": [],
   "source": [
    "subset_balanced = subset_balanced[['track', 'artist', 'final_emotion', 'lyrics', 'cleaned_lyrics']]\n",
    "df2 = df2[['track', 'artist', 'final_emotion', 'lyrics', 'cleaned_lyrics']]\n"
   ]
  },
  {
   "cell_type": "code",
   "execution_count": 110,
   "metadata": {
    "execution": {
     "iopub.execute_input": "2025-10-27T03:13:57.586731Z",
     "iopub.status.busy": "2025-10-27T03:13:57.585975Z",
     "iopub.status.idle": "2025-10-27T03:13:57.596339Z",
     "shell.execute_reply": "2025-10-27T03:13:57.595425Z",
     "shell.execute_reply.started": "2025-10-27T03:13:57.586705Z"
    },
    "trusted": true
   },
   "outputs": [],
   "source": [
    "merged_df = pd.concat([df_main, subset_balanced], ignore_index=True)\n"
   ]
  },
  {
   "cell_type": "code",
   "execution_count": 111,
   "metadata": {
    "execution": {
     "iopub.execute_input": "2025-10-27T03:14:09.747450Z",
     "iopub.status.busy": "2025-10-27T03:14:09.746858Z",
     "iopub.status.idle": "2025-10-27T03:14:09.812975Z",
     "shell.execute_reply": "2025-10-27T03:14:09.811984Z",
     "shell.execute_reply.started": "2025-10-27T03:14:09.747424Z"
    },
    "trusted": true
   },
   "outputs": [],
   "source": [
    "merged_df.drop_duplicates(subset=['lyrics'], inplace=True)\n",
    "merged_df.reset_index(drop=True, inplace=True)\n"
   ]
  },
  {
   "cell_type": "code",
   "execution_count": 112,
   "metadata": {
    "execution": {
     "iopub.execute_input": "2025-10-27T03:14:39.548077Z",
     "iopub.status.busy": "2025-10-27T03:14:39.547576Z",
     "iopub.status.idle": "2025-10-27T03:14:39.558636Z",
     "shell.execute_reply": "2025-10-27T03:14:39.557681Z",
     "shell.execute_reply.started": "2025-10-27T03:14:39.548051Z"
    },
    "trusted": true
   },
   "outputs": [
    {
     "data": {
      "text/plain": [
       "final_emotion\n",
       "romantic      8303\n",
       "anger         7576\n",
       "sadness       7416\n",
       "joy           7130\n",
       "reflective    6391\n",
       "fear          6251\n",
       "excitement    6131\n",
       "calm          5087\n",
       "neutral       4680\n",
       "Name: count, dtype: int64"
      ]
     },
     "execution_count": 112,
     "metadata": {},
     "output_type": "execute_result"
    }
   ],
   "source": [
    "merged_df['final_emotion'].value_counts()"
   ]
  },
  {
   "cell_type": "code",
   "execution_count": 113,
   "metadata": {
    "execution": {
     "iopub.execute_input": "2025-10-27T03:15:29.994250Z",
     "iopub.status.busy": "2025-10-27T03:15:29.993874Z",
     "iopub.status.idle": "2025-10-27T03:15:33.894789Z",
     "shell.execute_reply": "2025-10-27T03:15:33.893951Z",
     "shell.execute_reply.started": "2025-10-27T03:15:29.994213Z"
    },
    "trusted": true
   },
   "outputs": [
    {
     "name": "stdout",
     "output_type": "stream",
     "text": [
      "✅ Merged dataset saved! Shape: (58965, 5)\n",
      "final_emotion\n",
      "romantic      8303\n",
      "anger         7576\n",
      "sadness       7416\n",
      "joy           7130\n",
      "reflective    6391\n",
      "fear          6251\n",
      "excitement    6131\n",
      "calm          5087\n",
      "neutral       4680\n",
      "Name: count, dtype: int64\n"
     ]
    }
   ],
   "source": [
    "merged_df.to_csv(\"merged_music_dataset.csv\", index=False)\n",
    "print(\"✅ Merged dataset saved! Shape:\", merged_df.shape)\n",
    "print(merged_df['final_emotion'].value_counts())\n"
   ]
  },
  {
   "cell_type": "code",
   "execution_count": 2,
   "metadata": {},
   "outputs": [],
   "source": [
    "import pandas as pd\n",
    "df=pd.read_csv(\"merged_music_dataset.csv\")"
   ]
  },
  {
   "cell_type": "code",
   "execution_count": 3,
   "metadata": {},
   "outputs": [
    {
     "data": {
      "text/html": [
       "<div>\n",
       "<style scoped>\n",
       "    .dataframe tbody tr th:only-of-type {\n",
       "        vertical-align: middle;\n",
       "    }\n",
       "\n",
       "    .dataframe tbody tr th {\n",
       "        vertical-align: top;\n",
       "    }\n",
       "\n",
       "    .dataframe thead th {\n",
       "        text-align: right;\n",
       "    }\n",
       "</style>\n",
       "<table border=\"1\" class=\"dataframe\">\n",
       "  <thead>\n",
       "    <tr style=\"text-align: right;\">\n",
       "      <th></th>\n",
       "      <th>track</th>\n",
       "      <th>artist</th>\n",
       "      <th>final_emotion</th>\n",
       "      <th>lyrics</th>\n",
       "      <th>cleaned_lyrics</th>\n",
       "    </tr>\n",
       "  </thead>\n",
       "  <tbody>\n",
       "    <tr>\n",
       "      <th>0</th>\n",
       "      <td>'Till I Collapse</td>\n",
       "      <td>Eminem</td>\n",
       "      <td>anger</td>\n",
       "      <td>'Cause sometimes you just feel tired, feel wea...</td>\n",
       "      <td>cause sometimes feel tired feel weak feel weak...</td>\n",
       "    </tr>\n",
       "    <tr>\n",
       "      <th>1</th>\n",
       "      <td>St. Anger</td>\n",
       "      <td>Metallica</td>\n",
       "      <td>anger</td>\n",
       "      <td>St. Anger 'round my neck\\r\\nSt. Anger 'round m...</td>\n",
       "      <td>st anger round neck st anger round neck never ...</td>\n",
       "    </tr>\n",
       "  </tbody>\n",
       "</table>\n",
       "</div>"
      ],
      "text/plain": [
       "              track     artist final_emotion  \\\n",
       "0  'Till I Collapse     Eminem         anger   \n",
       "1         St. Anger  Metallica         anger   \n",
       "\n",
       "                                              lyrics  \\\n",
       "0  'Cause sometimes you just feel tired, feel wea...   \n",
       "1  St. Anger 'round my neck\\r\\nSt. Anger 'round m...   \n",
       "\n",
       "                                      cleaned_lyrics  \n",
       "0  cause sometimes feel tired feel weak feel weak...  \n",
       "1  st anger round neck st anger round neck never ...  "
      ]
     },
     "execution_count": 3,
     "metadata": {},
     "output_type": "execute_result"
    }
   ],
   "source": [
    "df.head(2)"
   ]
  },
  {
   "cell_type": "code",
   "execution_count": 4,
   "metadata": {
    "execution": {
     "iopub.execute_input": "2025-10-27T03:17:10.006832Z",
     "iopub.status.busy": "2025-10-27T03:17:10.006097Z",
     "iopub.status.idle": "2025-10-27T03:17:10.069490Z",
     "shell.execute_reply": "2025-10-27T03:17:10.068447Z",
     "shell.execute_reply.started": "2025-10-27T03:17:10.006806Z"
    },
    "trusted": true
   },
   "outputs": [],
   "source": [
    "import pandas as pd\n",
    "from sklearn.model_selection import train_test_split\n",
    "\n",
    "# Load dataset\n",
    " # = pd.read_csv(\"deep_cleaned_muse_with_english_lyrics_only.csv\")\n",
    "\n",
    "# Split into train/test\n",
    "X_train, X_test, y_train, y_test = train_test_split(\n",
    "    df[\"cleaned_lyrics\"], df[\"final_emotion\"], \n",
    "    test_size=0.2, random_state=42, stratify=df[\"final_emotion\"]\n",
    ")\n"
   ]
  },
  {
   "cell_type": "code",
   "execution_count": 5,
   "metadata": {
    "execution": {
     "iopub.execute_input": "2025-10-27T03:17:22.806618Z",
     "iopub.status.busy": "2025-10-27T03:17:22.805791Z",
     "iopub.status.idle": "2025-10-27T03:17:43.075776Z",
     "shell.execute_reply": "2025-10-27T03:17:43.075042Z",
     "shell.execute_reply.started": "2025-10-27T03:17:22.806589Z"
    },
    "trusted": true
   },
   "outputs": [],
   "source": [
    "from sklearn.feature_extraction.text import TfidfVectorizer\n",
    "\n",
    "tfidf = TfidfVectorizer(\n",
    "    max_features=20000,\n",
    "    ngram_range=(1,2), \n",
    "    min_df=3, \n",
    "    max_df=0.6,\n",
    "    sublinear_tf=True\n",
    ")\n",
    "X_train_tfidf = tfidf.fit_transform(X_train)\n",
    "X_test_tfidf = tfidf.transform(X_test)\n"
   ]
  },
  {
   "cell_type": "code",
   "execution_count": 6,
   "metadata": {
    "execution": {
     "iopub.execute_input": "2025-10-27T03:19:39.825882Z",
     "iopub.status.busy": "2025-10-27T03:19:39.825588Z",
     "iopub.status.idle": "2025-10-27T03:19:39.853473Z",
     "shell.execute_reply": "2025-10-27T03:19:39.852458Z",
     "shell.execute_reply.started": "2025-10-27T03:19:39.825858Z"
    },
    "trusted": true
   },
   "outputs": [
    {
     "name": "stdout",
     "output_type": "stream",
     "text": [
      "['aaah' 'aahh' 'abandon' 'abandoned' 'abc' 'abide' 'ability' 'ablaze'\n",
      " 'able' 'aboard' 'abortion' 'absence' 'absolute' 'absolutely' 'abstract'\n",
      " 'absurd' 'abuse' 'abused' 'abyss' 'ac' 'accent' 'accept' 'accepted'\n",
      " 'access' 'accident' 'according' 'account' 'ace' 'ache' 'achieve' 'aching'\n",
      " 'acid' 'acre' 'across' 'across face' 'across floor' 'across ocean'\n",
      " 'across room' 'across sea' 'across sky' 'across street' 'across world'\n",
      " 'act' 'act fool' 'act like' 'acted' 'actin' 'actin like' 'acting'\n",
      " 'acting like']\n"
     ]
    }
   ],
   "source": [
    "print(tfidf.get_feature_names_out()[:50])\n"
   ]
  },
  {
   "cell_type": "code",
   "execution_count": 7,
   "metadata": {
    "execution": {
     "iopub.execute_input": "2025-10-27T03:20:00.581325Z",
     "iopub.status.busy": "2025-10-27T03:20:00.580999Z",
     "iopub.status.idle": "2025-10-27T03:20:00.585572Z",
     "shell.execute_reply": "2025-10-27T03:20:00.584459Z",
     "shell.execute_reply.started": "2025-10-27T03:20:00.581300Z"
    },
    "trusted": true
   },
   "outputs": [],
   "source": [
    "from sklearn.svm import LinearSVC\n",
    "from sklearn.metrics import classification_report"
   ]
  },
  {
   "cell_type": "code",
   "execution_count": 8,
   "metadata": {
    "execution": {
     "iopub.execute_input": "2025-10-27T03:20:08.249556Z",
     "iopub.status.busy": "2025-10-27T03:20:08.249060Z",
     "iopub.status.idle": "2025-10-27T03:20:08.253211Z",
     "shell.execute_reply": "2025-10-27T03:20:08.252416Z",
     "shell.execute_reply.started": "2025-10-27T03:20:08.249530Z"
    },
    "trusted": true
   },
   "outputs": [],
   "source": [
    "model = LinearSVC(class_weight='balanced')"
   ]
  },
  {
   "cell_type": "code",
   "execution_count": 9,
   "metadata": {
    "execution": {
     "iopub.execute_input": "2025-10-27T03:20:16.672062Z",
     "iopub.status.busy": "2025-10-27T03:20:16.671768Z",
     "iopub.status.idle": "2025-10-27T03:20:26.763679Z",
     "shell.execute_reply": "2025-10-27T03:20:26.762736Z",
     "shell.execute_reply.started": "2025-10-27T03:20:16.672038Z"
    },
    "trusted": true
   },
   "outputs": [
    {
     "name": "stdout",
     "output_type": "stream",
     "text": [
      "              precision    recall  f1-score   support\n",
      "\n",
      "       anger       0.41      0.42      0.42      1515\n",
      "        calm       0.15      0.18      0.17      1018\n",
      "  excitement       0.14      0.14      0.14      1226\n",
      "        fear       0.31      0.32      0.31      1250\n",
      "         joy       0.21      0.20      0.20      1426\n",
      "     neutral       0.13      0.14      0.13       936\n",
      "  reflective       0.17      0.17      0.17      1278\n",
      "    romantic       0.38      0.38      0.38      1661\n",
      "     sadness       0.21      0.19      0.20      1483\n",
      "\n",
      "    accuracy                           0.25     11793\n",
      "   macro avg       0.24      0.24      0.24     11793\n",
      "weighted avg       0.25      0.25      0.25     11793\n",
      "\n"
     ]
    }
   ],
   "source": [
    "model.fit(X_train_tfidf, y_train)\n",
    "preds = model.predict(X_test_tfidf)\n",
    "print(classification_report(y_test, preds))"
   ]
  },
  {
   "cell_type": "code",
   "execution_count": 10,
   "metadata": {
    "execution": {
     "iopub.execute_input": "2025-10-27T03:20:48.200844Z",
     "iopub.status.busy": "2025-10-27T03:20:48.200581Z",
     "iopub.status.idle": "2025-10-27T03:20:58.838424Z",
     "shell.execute_reply": "2025-10-27T03:20:58.837554Z",
     "shell.execute_reply.started": "2025-10-27T03:20:48.200826Z"
    },
    "trusted": true
   },
   "outputs": [
    {
     "name": "stdout",
     "output_type": "stream",
     "text": [
      "              precision    recall  f1-score   support\n",
      "\n",
      "       anger       0.41      0.42      0.42      1515\n",
      "        calm       0.15      0.18      0.17      1018\n",
      "  excitement       0.14      0.14      0.14      1226\n",
      "        fear       0.31      0.32      0.31      1250\n",
      "         joy       0.21      0.20      0.20      1426\n",
      "     neutral       0.13      0.14      0.13       936\n",
      "  reflective       0.17      0.17      0.17      1278\n",
      "    romantic       0.38      0.38      0.38      1661\n",
      "     sadness       0.21      0.19      0.20      1483\n",
      "\n",
      "    accuracy                           0.25     11793\n",
      "   macro avg       0.24      0.24      0.24     11793\n",
      "weighted avg       0.25      0.25      0.25     11793\n",
      "\n",
      "Confusion Matrix:\n",
      " [[643  66 128 148 100 104 110 106 110]\n",
      " [ 43 181 111  77 140  71 125 143 127]\n",
      " [127 130 169 129 165 113 124 148 121]\n",
      " [161  95 107 402  96  87  98  88 116]\n",
      " [104 146 185 115 282 111 146 185 152]\n",
      " [122  78  98 107  97 128 113  92 101]\n",
      " [ 97 155 131 108 151 122 211 123 180]\n",
      " [152 150 119  99 156  94 120 633 138]\n",
      " [112 173 147 129 154 156 191 143 278]]\n"
     ]
    },
    {
     "data": {
      "text/plain": [
       "<sklearn.metrics._plot.confusion_matrix.ConfusionMatrixDisplay at 0x1ea569f1940>"
      ]
     },
     "execution_count": 10,
     "metadata": {},
     "output_type": "execute_result"
    },
    {
     "data": {
      "text/plain": [
       "<Figure size 1200x800 with 0 Axes>"
      ]
     },
     "metadata": {},
     "output_type": "display_data"
    },
    {
     "data": {
      "image/png": "[encoded data removed]",
      "text/plain": [
       "<Figure size 640x480 with 2 Axes>"
      ]
     },
     "metadata": {},
     "output_type": "display_data"
    }
   ],
   "source": [
    "import matplotlib.pyplot as plt\n",
    "\n",
    "from sklearn.metrics import classification_report, confusion_matrix, ConfusionMatrixDisplay\n",
    "plt.figure(figsize=(12, 8))  # adjust width x height in inches\n",
    "\n",
    "# Train model\n",
    "model.fit(X_train_tfidf, y_train)\n",
    "\n",
    "# Predict\n",
    "preds = model.predict(X_test_tfidf)\n",
    "\n",
    "# Classification report\n",
    "print(classification_report(y_test, preds))\n",
    "\n",
    "# Confusion matrix\n",
    "cm = confusion_matrix(y_test, preds)\n",
    "print(\"Confusion Matrix:\\n\", cm)\n",
    "# Visualize confusion matrix\n",
    "disp = ConfusionMatrixDisplay(confusion_matrix=cm, display_labels=model.classes_)\n",
    "disp.plot(cmap='Blues', values_format='d')\n"
   ]
  },
  {
   "cell_type": "code",
   "execution_count": 11,
   "metadata": {
    "execution": {
     "iopub.execute_input": "2025-10-27T03:26:14.542444Z",
     "iopub.status.busy": "2025-10-27T03:26:14.542109Z",
     "iopub.status.idle": "2025-10-27T03:26:54.770391Z",
     "shell.execute_reply": "2025-10-27T03:26:54.768963Z",
     "shell.execute_reply.started": "2025-10-27T03:26:14.542419Z"
    },
    "trusted": true
   },
   "outputs": [
    {
     "name": "stderr",
     "output_type": "stream",
     "text": [
      "c:\\Users\\LENOVO\\AppData\\Local\\Programs\\Python\\Python313\\Lib\\site-packages\\tqdm\\auto.py:21: TqdmWarning: IProgress not found. Please update jupyter and ipywidgets. See https://ipywidgets.readthedocs.io/en/stable/user_install.html\n",
      "  from .autonotebook import tqdm as notebook_tqdm\n"
     ]
    },
    {
     "ename": "KeyError",
     "evalue": "42768",
     "output_type": "error",
     "traceback": [
      "\u001b[31m---------------------------------------------------------------------------\u001b[39m",
      "\u001b[31mKeyError\u001b[39m                                  Traceback (most recent call last)",
      "\u001b[36mFile \u001b[39m\u001b[32mc:\\Users\\LENOVO\\AppData\\Local\\Programs\\Python\\Python313\\Lib\\site-packages\\pandas\\core\\indexes\\base.py:3812\u001b[39m, in \u001b[36mIndex.get_loc\u001b[39m\u001b[34m(self, key)\u001b[39m\n\u001b[32m   3811\u001b[39m \u001b[38;5;28;01mtry\u001b[39;00m:\n\u001b[32m-> \u001b[39m\u001b[32m3812\u001b[39m     \u001b[38;5;28;01mreturn\u001b[39;00m \u001b[38;5;28;43mself\u001b[39;49m\u001b[43m.\u001b[49m\u001b[43m_engine\u001b[49m\u001b[43m.\u001b[49m\u001b[43mget_loc\u001b[49m\u001b[43m(\u001b[49m\u001b[43mcasted_key\u001b[49m\u001b[43m)\u001b[49m\n\u001b[32m   3813\u001b[39m \u001b[38;5;28;01mexcept\u001b[39;00m \u001b[38;5;167;01mKeyError\u001b[39;00m \u001b[38;5;28;01mas\u001b[39;00m err:\n",
      "\u001b[36mFile \u001b[39m\u001b[32mpandas/_libs/index.pyx:167\u001b[39m, in \u001b[36mpandas._libs.index.IndexEngine.get_loc\u001b[39m\u001b[34m()\u001b[39m\n",
      "\u001b[36mFile \u001b[39m\u001b[32mpandas/_libs/index.pyx:196\u001b[39m, in \u001b[36mpandas._libs.index.IndexEngine.get_loc\u001b[39m\u001b[34m()\u001b[39m\n",
      "\u001b[36mFile \u001b[39m\u001b[32mpandas/_libs/hashtable_class_helper.pxi:2606\u001b[39m, in \u001b[36mpandas._libs.hashtable.Int64HashTable.get_item\u001b[39m\u001b[34m()\u001b[39m\n",
      "\u001b[36mFile \u001b[39m\u001b[32mpandas/_libs/hashtable_class_helper.pxi:2630\u001b[39m, in \u001b[36mpandas._libs.hashtable.Int64HashTable.get_item\u001b[39m\u001b[34m()\u001b[39m\n",
      "\u001b[31mKeyError\u001b[39m: 42768",
      "\nThe above exception was the direct cause of the following exception:\n",
      "\u001b[31mKeyError\u001b[39m                                  Traceback (most recent call last)",
      "\u001b[36mCell\u001b[39m\u001b[36m \u001b[39m\u001b[32mIn[11]\u001b[39m\u001b[32m, line 7\u001b[39m\n\u001b[32m      4\u001b[39m \u001b[38;5;28;01mfrom\u001b[39;00m\u001b[38;5;250m \u001b[39m\u001b[34;01msklearn\u001b[39;00m\u001b[34;01m.\u001b[39;00m\u001b[34;01mmetrics\u001b[39;00m\u001b[38;5;250m \u001b[39m\u001b[38;5;28;01mimport\u001b[39;00m classification_report\n\u001b[32m      6\u001b[39m model = SentenceTransformer(\u001b[33m'\u001b[39m\u001b[33mall-MiniLM-L6-v2\u001b[39m\u001b[33m'\u001b[39m)  \u001b[38;5;66;03m# lightweight & fast\u001b[39;00m\n\u001b[32m----> \u001b[39m\u001b[32m7\u001b[39m X_train_emb = \u001b[43mmodel\u001b[49m\u001b[43m.\u001b[49m\u001b[43mencode\u001b[49m\u001b[43m(\u001b[49m\u001b[43mX_train\u001b[49m\u001b[43m,\u001b[49m\u001b[43m \u001b[49m\u001b[43mshow_progress_bar\u001b[49m\u001b[43m=\u001b[49m\u001b[38;5;28;43;01mTrue\u001b[39;49;00m\u001b[43m)\u001b[49m\n\u001b[32m      8\u001b[39m X_test_emb = model.encode(X_test, show_progress_bar=\u001b[38;5;28;01mTrue\u001b[39;00m)\n\u001b[32m     10\u001b[39m svm = LinearSVC()\n",
      "\u001b[36mFile \u001b[39m\u001b[32mc:\\Users\\LENOVO\\AppData\\Local\\Programs\\Python\\Python313\\Lib\\site-packages\\torch\\utils\\_contextlib.py:120\u001b[39m, in \u001b[36mcontext_decorator.<locals>.decorate_context\u001b[39m\u001b[34m(*args, **kwargs)\u001b[39m\n\u001b[32m    117\u001b[39m \u001b[38;5;129m@functools\u001b[39m.wraps(func)\n\u001b[32m    118\u001b[39m \u001b[38;5;28;01mdef\u001b[39;00m\u001b[38;5;250m \u001b[39m\u001b[34mdecorate_context\u001b[39m(*args, **kwargs):\n\u001b[32m    119\u001b[39m     \u001b[38;5;28;01mwith\u001b[39;00m ctx_factory():\n\u001b[32m--> \u001b[39m\u001b[32m120\u001b[39m         \u001b[38;5;28;01mreturn\u001b[39;00m \u001b[43mfunc\u001b[49m\u001b[43m(\u001b[49m\u001b[43m*\u001b[49m\u001b[43margs\u001b[49m\u001b[43m,\u001b[49m\u001b[43m \u001b[49m\u001b[43m*\u001b[49m\u001b[43m*\u001b[49m\u001b[43mkwargs\u001b[49m\u001b[43m)\u001b[49m\n",
      "\u001b[36mFile \u001b[39m\u001b[32mc:\\Users\\LENOVO\\AppData\\Local\\Programs\\Python\\Python313\\Lib\\site-packages\\sentence_transformers\\SentenceTransformer.py:1058\u001b[39m, in \u001b[36mSentenceTransformer.encode\u001b[39m\u001b[34m(self, sentences, prompt_name, prompt, batch_size, show_progress_bar, output_value, precision, convert_to_numpy, convert_to_tensor, device, normalize_embeddings, truncate_dim, pool, chunk_size, **kwargs)\u001b[39m\n\u001b[32m   1056\u001b[39m all_embeddings = []\n\u001b[32m   1057\u001b[39m length_sorted_idx = np.argsort([-\u001b[38;5;28mself\u001b[39m._text_length(sen) \u001b[38;5;28;01mfor\u001b[39;00m sen \u001b[38;5;129;01min\u001b[39;00m sentences])\n\u001b[32m-> \u001b[39m\u001b[32m1058\u001b[39m sentences_sorted = [\u001b[43msentences\u001b[49m\u001b[43m[\u001b[49m\u001b[38;5;28;43mint\u001b[39;49m\u001b[43m(\u001b[49m\u001b[43midx\u001b[49m\u001b[43m)\u001b[49m\u001b[43m]\u001b[49m \u001b[38;5;28;01mfor\u001b[39;00m idx \u001b[38;5;129;01min\u001b[39;00m length_sorted_idx]\n\u001b[32m   1060\u001b[39m \u001b[38;5;28;01mfor\u001b[39;00m start_index \u001b[38;5;129;01min\u001b[39;00m trange(\u001b[32m0\u001b[39m, \u001b[38;5;28mlen\u001b[39m(sentences), batch_size, desc=\u001b[33m\"\u001b[39m\u001b[33mBatches\u001b[39m\u001b[33m\"\u001b[39m, disable=\u001b[38;5;129;01mnot\u001b[39;00m show_progress_bar):\n\u001b[32m   1061\u001b[39m     sentences_batch = sentences_sorted[start_index : start_index + batch_size]\n",
      "\u001b[36mFile \u001b[39m\u001b[32mc:\\Users\\LENOVO\\AppData\\Local\\Programs\\Python\\Python313\\Lib\\site-packages\\pandas\\core\\series.py:1130\u001b[39m, in \u001b[36mSeries.__getitem__\u001b[39m\u001b[34m(self, key)\u001b[39m\n\u001b[32m   1127\u001b[39m     \u001b[38;5;28;01mreturn\u001b[39;00m \u001b[38;5;28mself\u001b[39m._values[key]\n\u001b[32m   1129\u001b[39m \u001b[38;5;28;01melif\u001b[39;00m key_is_scalar:\n\u001b[32m-> \u001b[39m\u001b[32m1130\u001b[39m     \u001b[38;5;28;01mreturn\u001b[39;00m \u001b[38;5;28;43mself\u001b[39;49m\u001b[43m.\u001b[49m\u001b[43m_get_value\u001b[49m\u001b[43m(\u001b[49m\u001b[43mkey\u001b[49m\u001b[43m)\u001b[49m\n\u001b[32m   1132\u001b[39m \u001b[38;5;66;03m# Convert generator to list before going through hashable part\u001b[39;00m\n\u001b[32m   1133\u001b[39m \u001b[38;5;66;03m# (We will iterate through the generator there to check for slices)\u001b[39;00m\n\u001b[32m   1134\u001b[39m \u001b[38;5;28;01mif\u001b[39;00m is_iterator(key):\n",
      "\u001b[36mFile \u001b[39m\u001b[32mc:\\Users\\LENOVO\\AppData\\Local\\Programs\\Python\\Python313\\Lib\\site-packages\\pandas\\core\\series.py:1246\u001b[39m, in \u001b[36mSeries._get_value\u001b[39m\u001b[34m(self, label, takeable)\u001b[39m\n\u001b[32m   1243\u001b[39m     \u001b[38;5;28;01mreturn\u001b[39;00m \u001b[38;5;28mself\u001b[39m._values[label]\n\u001b[32m   1245\u001b[39m \u001b[38;5;66;03m# Similar to Index.get_value, but we do not fall back to positional\u001b[39;00m\n\u001b[32m-> \u001b[39m\u001b[32m1246\u001b[39m loc = \u001b[38;5;28;43mself\u001b[39;49m\u001b[43m.\u001b[49m\u001b[43mindex\u001b[49m\u001b[43m.\u001b[49m\u001b[43mget_loc\u001b[49m\u001b[43m(\u001b[49m\u001b[43mlabel\u001b[49m\u001b[43m)\u001b[49m\n\u001b[32m   1248\u001b[39m \u001b[38;5;28;01mif\u001b[39;00m is_integer(loc):\n\u001b[32m   1249\u001b[39m     \u001b[38;5;28;01mreturn\u001b[39;00m \u001b[38;5;28mself\u001b[39m._values[loc]\n",
      "\u001b[36mFile \u001b[39m\u001b[32mc:\\Users\\LENOVO\\AppData\\Local\\Programs\\Python\\Python313\\Lib\\site-packages\\pandas\\core\\indexes\\base.py:3819\u001b[39m, in \u001b[36mIndex.get_loc\u001b[39m\u001b[34m(self, key)\u001b[39m\n\u001b[32m   3814\u001b[39m     \u001b[38;5;28;01mif\u001b[39;00m \u001b[38;5;28misinstance\u001b[39m(casted_key, \u001b[38;5;28mslice\u001b[39m) \u001b[38;5;129;01mor\u001b[39;00m (\n\u001b[32m   3815\u001b[39m         \u001b[38;5;28misinstance\u001b[39m(casted_key, abc.Iterable)\n\u001b[32m   3816\u001b[39m         \u001b[38;5;129;01mand\u001b[39;00m \u001b[38;5;28many\u001b[39m(\u001b[38;5;28misinstance\u001b[39m(x, \u001b[38;5;28mslice\u001b[39m) \u001b[38;5;28;01mfor\u001b[39;00m x \u001b[38;5;129;01min\u001b[39;00m casted_key)\n\u001b[32m   3817\u001b[39m     ):\n\u001b[32m   3818\u001b[39m         \u001b[38;5;28;01mraise\u001b[39;00m InvalidIndexError(key)\n\u001b[32m-> \u001b[39m\u001b[32m3819\u001b[39m     \u001b[38;5;28;01mraise\u001b[39;00m \u001b[38;5;167;01mKeyError\u001b[39;00m(key) \u001b[38;5;28;01mfrom\u001b[39;00m\u001b[38;5;250m \u001b[39m\u001b[34;01merr\u001b[39;00m\n\u001b[32m   3820\u001b[39m \u001b[38;5;28;01mexcept\u001b[39;00m \u001b[38;5;167;01mTypeError\u001b[39;00m:\n\u001b[32m   3821\u001b[39m     \u001b[38;5;66;03m# If we have a listlike key, _check_indexing_error will raise\u001b[39;00m\n\u001b[32m   3822\u001b[39m     \u001b[38;5;66;03m#  InvalidIndexError. Otherwise we fall through and re-raise\u001b[39;00m\n\u001b[32m   3823\u001b[39m     \u001b[38;5;66;03m#  the TypeError.\u001b[39;00m\n\u001b[32m   3824\u001b[39m     \u001b[38;5;28mself\u001b[39m._check_indexing_error(key)\n",
      "\u001b[31mKeyError\u001b[39m: 42768"
     ]
    }
   ],
   "source": [
    "from sentence_transformers import SentenceTransformer\n",
    "from sklearn.svm import LinearSVC\n",
    "from sklearn.preprocessing import LabelEncoder\n",
    "from sklearn.metrics import classification_report\n",
    "\n",
    "model = SentenceTransformer('all-MiniLM-L6-v2')  # lightweight & fast\n",
    "X_train_emb = model.encode(X_train, show_progress_bar=True)\n",
    "X_test_emb = model.encode(X_test, show_progress_bar=True)\n",
    "\n",
    "svm = LinearSVC()\n",
    "svm.fit(X_train_emb, y_train)\n",
    "y_pred = svm.predict(X_test_emb)\n",
    "\n",
    "print(classification_report(y_test, y_pred))\n"
   ]
  },
  {
   "cell_type": "code",
   "execution_count": 12,
   "metadata": {},
   "outputs": [
    {
     "name": "stdout",
     "output_type": "stream",
     "text": [
      "<class 'pandas.core.series.Series'>\n",
      "52843    always held head wave paddling around pretendi...\n",
      "37108    winter came bedroom today falling row covering...\n",
      "45864    cast stone wayward daughter lay gavel robe lur...\n",
      "52555    world strange world strange game shooting rang...\n",
      "5272     underneath table shade leave living arabesque ...\n",
      "Name: cleaned_lyrics, dtype: object\n",
      "0\n"
     ]
    }
   ],
   "source": [
    "print(type(X_train))\n",
    "print(X_train.head())\n",
    "print(X_train.isnull().sum())\n"
   ]
  },
  {
   "cell_type": "code",
   "execution_count": 13,
   "metadata": {},
   "outputs": [],
   "source": [
    "X_train = X_train.dropna()\n",
    "X_test = X_test.dropna()\n"
   ]
  },
  {
   "cell_type": "code",
   "execution_count": 14,
   "metadata": {},
   "outputs": [
    {
     "name": "stderr",
     "output_type": "stream",
     "text": [
      "'(ReadTimeoutError(\"HTTPSConnectionPool(host='huggingface.co', port=443): Read timed out. (read timeout=10)\"), '(Request ID: 991c47ce-8660-44e4-a3a5-ebbcbbea1676)')' thrown while requesting HEAD https://huggingface.co/sentence-transformers/all-MiniLM-L6-v2/resolve/main/./modules.json\n",
      "Retrying in 1s [Retry 1/5].\n",
      "Batches: 100%|██████████| 1475/1475 [29:08<00:00,  1.19s/it] \n",
      "Batches: 100%|██████████| 369/369 [04:16<00:00,  1.44it/s]\n"
     ]
    },
    {
     "name": "stdout",
     "output_type": "stream",
     "text": [
      "              precision    recall  f1-score   support\n",
      "\n",
      "       anger       0.35      0.60      0.44      1515\n",
      "        calm       0.16      0.05      0.07      1018\n",
      "  excitement       0.15      0.04      0.06      1226\n",
      "        fear       0.26      0.32      0.29      1250\n",
      "         joy       0.22      0.21      0.22      1426\n",
      "     neutral       0.21      0.01      0.02       936\n",
      "  reflective       0.18      0.07      0.10      1278\n",
      "    romantic       0.30      0.55      0.39      1661\n",
      "     sadness       0.20      0.28      0.23      1483\n",
      "\n",
      "    accuracy                           0.27     11793\n",
      "   macro avg       0.23      0.24      0.20     11793\n",
      "weighted avg       0.23      0.27      0.22     11793\n",
      "\n"
     ]
    }
   ],
   "source": [
    "from sentence_transformers import SentenceTransformer\n",
    "from sklearn.svm import LinearSVC\n",
    "from sklearn.metrics import classification_report\n",
    "\n",
    "model = SentenceTransformer('all-MiniLM-L6-v2')\n",
    "\n",
    "X_train_emb = model.encode(X_train.tolist(), show_progress_bar=True)\n",
    "X_test_emb = model.encode(X_test.tolist(), show_progress_bar=True)\n",
    "\n",
    "svm = LinearSVC()\n",
    "svm.fit(X_train_emb, y_train)\n",
    "y_pred = svm.predict(X_test_emb)\n",
    "\n",
    "print(classification_report(y_test, y_pred))\n"
   ]
  },
  {
   "cell_type": "code",
   "execution_count": 15,
   "metadata": {},
   "outputs": [
    {
     "name": "stdout",
     "output_type": "stream",
     "text": [
      "Fitting 5 folds for each of 36 candidates, totalling 180 fits\n"
     ]
    },
    {
     "ename": "KeyboardInterrupt",
     "evalue": "",
     "output_type": "error",
     "traceback": [
      "\u001b[31m---------------------------------------------------------------------------\u001b[39m",
      "\u001b[31mKeyboardInterrupt\u001b[39m                         Traceback (most recent call last)",
      "\u001b[36mCell\u001b[39m\u001b[36m \u001b[39m\u001b[32mIn[15]\u001b[39m\u001b[32m, line 28\u001b[39m\n\u001b[32m     25\u001b[39m grid_search = GridSearchCV(pipeline, param_grid, cv=\u001b[32m5\u001b[39m, scoring=\u001b[33m'\u001b[39m\u001b[33mf1_weighted\u001b[39m\u001b[33m'\u001b[39m, n_jobs=-\u001b[32m1\u001b[39m, verbose=\u001b[32m1\u001b[39m)\n\u001b[32m     27\u001b[39m \u001b[38;5;66;03m# Fit the model to the training data\u001b[39;00m\n\u001b[32m---> \u001b[39m\u001b[32m28\u001b[39m \u001b[43mgrid_search\u001b[49m\u001b[43m.\u001b[49m\u001b[43mfit\u001b[49m\u001b[43m(\u001b[49m\u001b[43mX_train\u001b[49m\u001b[43m,\u001b[49m\u001b[43m \u001b[49m\u001b[43my_train\u001b[49m\u001b[43m)\u001b[49m\n\u001b[32m     30\u001b[39m \u001b[38;5;66;03m# Print the best parameters and the best score\u001b[39;00m\n\u001b[32m     31\u001b[39m \u001b[38;5;28mprint\u001b[39m(\u001b[33mf\u001b[39m\u001b[33m\"\u001b[39m\u001b[33mBest parameters: \u001b[39m\u001b[38;5;132;01m{\u001b[39;00mgrid_search.best_params_\u001b[38;5;132;01m}\u001b[39;00m\u001b[33m\"\u001b[39m)\n",
      "\u001b[36mFile \u001b[39m\u001b[32mc:\\Users\\LENOVO\\AppData\\Local\\Programs\\Python\\Python313\\Lib\\site-packages\\sklearn\\base.py:1363\u001b[39m, in \u001b[36m_fit_context.<locals>.decorator.<locals>.wrapper\u001b[39m\u001b[34m(estimator, *args, **kwargs)\u001b[39m\n\u001b[32m   1356\u001b[39m     estimator._validate_params()\n\u001b[32m   1358\u001b[39m \u001b[38;5;28;01mwith\u001b[39;00m config_context(\n\u001b[32m   1359\u001b[39m     skip_parameter_validation=(\n\u001b[32m   1360\u001b[39m         prefer_skip_nested_validation \u001b[38;5;129;01mor\u001b[39;00m global_skip_validation\n\u001b[32m   1361\u001b[39m     )\n\u001b[32m   1362\u001b[39m ):\n\u001b[32m-> \u001b[39m\u001b[32m1363\u001b[39m     \u001b[38;5;28;01mreturn\u001b[39;00m \u001b[43mfit_method\u001b[49m\u001b[43m(\u001b[49m\u001b[43mestimator\u001b[49m\u001b[43m,\u001b[49m\u001b[43m \u001b[49m\u001b[43m*\u001b[49m\u001b[43margs\u001b[49m\u001b[43m,\u001b[49m\u001b[43m \u001b[49m\u001b[43m*\u001b[49m\u001b[43m*\u001b[49m\u001b[43mkwargs\u001b[49m\u001b[43m)\u001b[49m\n",
      "\u001b[36mFile \u001b[39m\u001b[32mc:\\Users\\LENOVO\\AppData\\Local\\Programs\\Python\\Python313\\Lib\\site-packages\\sklearn\\model_selection\\_search.py:1051\u001b[39m, in \u001b[36mBaseSearchCV.fit\u001b[39m\u001b[34m(self, X, y, **params)\u001b[39m\n\u001b[32m   1045\u001b[39m     results = \u001b[38;5;28mself\u001b[39m._format_results(\n\u001b[32m   1046\u001b[39m         all_candidate_params, n_splits, all_out, all_more_results\n\u001b[32m   1047\u001b[39m     )\n\u001b[32m   1049\u001b[39m     \u001b[38;5;28;01mreturn\u001b[39;00m results\n\u001b[32m-> \u001b[39m\u001b[32m1051\u001b[39m \u001b[38;5;28;43mself\u001b[39;49m\u001b[43m.\u001b[49m\u001b[43m_run_search\u001b[49m\u001b[43m(\u001b[49m\u001b[43mevaluate_candidates\u001b[49m\u001b[43m)\u001b[49m\n\u001b[32m   1053\u001b[39m \u001b[38;5;66;03m# multimetric is determined here because in the case of a callable\u001b[39;00m\n\u001b[32m   1054\u001b[39m \u001b[38;5;66;03m# self.scoring the return type is only known after calling\u001b[39;00m\n\u001b[32m   1055\u001b[39m first_test_score = all_out[\u001b[32m0\u001b[39m][\u001b[33m\"\u001b[39m\u001b[33mtest_scores\u001b[39m\u001b[33m\"\u001b[39m]\n",
      "\u001b[36mFile \u001b[39m\u001b[32mc:\\Users\\LENOVO\\AppData\\Local\\Programs\\Python\\Python313\\Lib\\site-packages\\sklearn\\model_selection\\_search.py:1605\u001b[39m, in \u001b[36mGridSearchCV._run_search\u001b[39m\u001b[34m(self, evaluate_candidates)\u001b[39m\n\u001b[32m   1603\u001b[39m \u001b[38;5;28;01mdef\u001b[39;00m\u001b[38;5;250m \u001b[39m\u001b[34m_run_search\u001b[39m(\u001b[38;5;28mself\u001b[39m, evaluate_candidates):\n\u001b[32m   1604\u001b[39m \u001b[38;5;250m    \u001b[39m\u001b[33;03m\"\"\"Search all candidates in param_grid\"\"\"\u001b[39;00m\n\u001b[32m-> \u001b[39m\u001b[32m1605\u001b[39m     \u001b[43mevaluate_candidates\u001b[49m\u001b[43m(\u001b[49m\u001b[43mParameterGrid\u001b[49m\u001b[43m(\u001b[49m\u001b[38;5;28;43mself\u001b[39;49m\u001b[43m.\u001b[49m\u001b[43mparam_grid\u001b[49m\u001b[43m)\u001b[49m\u001b[43m)\u001b[49m\n",
      "\u001b[36mFile \u001b[39m\u001b[32mc:\\Users\\LENOVO\\AppData\\Local\\Programs\\Python\\Python313\\Lib\\site-packages\\sklearn\\model_selection\\_search.py:997\u001b[39m, in \u001b[36mBaseSearchCV.fit.<locals>.evaluate_candidates\u001b[39m\u001b[34m(candidate_params, cv, more_results)\u001b[39m\n\u001b[32m    989\u001b[39m \u001b[38;5;28;01mif\u001b[39;00m \u001b[38;5;28mself\u001b[39m.verbose > \u001b[32m0\u001b[39m:\n\u001b[32m    990\u001b[39m     \u001b[38;5;28mprint\u001b[39m(\n\u001b[32m    991\u001b[39m         \u001b[33m\"\u001b[39m\u001b[33mFitting \u001b[39m\u001b[38;5;132;01m{0}\u001b[39;00m\u001b[33m folds for each of \u001b[39m\u001b[38;5;132;01m{1}\u001b[39;00m\u001b[33m candidates,\u001b[39m\u001b[33m\"\u001b[39m\n\u001b[32m    992\u001b[39m         \u001b[33m\"\u001b[39m\u001b[33m totalling \u001b[39m\u001b[38;5;132;01m{2}\u001b[39;00m\u001b[33m fits\u001b[39m\u001b[33m\"\u001b[39m.format(\n\u001b[32m    993\u001b[39m             n_splits, n_candidates, n_candidates * n_splits\n\u001b[32m    994\u001b[39m         )\n\u001b[32m    995\u001b[39m     )\n\u001b[32m--> \u001b[39m\u001b[32m997\u001b[39m out = \u001b[43mparallel\u001b[49m\u001b[43m(\u001b[49m\n\u001b[32m    998\u001b[39m \u001b[43m    \u001b[49m\u001b[43mdelayed\u001b[49m\u001b[43m(\u001b[49m\u001b[43m_fit_and_score\u001b[49m\u001b[43m)\u001b[49m\u001b[43m(\u001b[49m\n\u001b[32m    999\u001b[39m \u001b[43m        \u001b[49m\u001b[43mclone\u001b[49m\u001b[43m(\u001b[49m\u001b[43mbase_estimator\u001b[49m\u001b[43m)\u001b[49m\u001b[43m,\u001b[49m\n\u001b[32m   1000\u001b[39m \u001b[43m        \u001b[49m\u001b[43mX\u001b[49m\u001b[43m,\u001b[49m\n\u001b[32m   1001\u001b[39m \u001b[43m        \u001b[49m\u001b[43my\u001b[49m\u001b[43m,\u001b[49m\n\u001b[32m   1002\u001b[39m \u001b[43m        \u001b[49m\u001b[43mtrain\u001b[49m\u001b[43m=\u001b[49m\u001b[43mtrain\u001b[49m\u001b[43m,\u001b[49m\n\u001b[32m   1003\u001b[39m \u001b[43m        \u001b[49m\u001b[43mtest\u001b[49m\u001b[43m=\u001b[49m\u001b[43mtest\u001b[49m\u001b[43m,\u001b[49m\n\u001b[32m   1004\u001b[39m \u001b[43m        \u001b[49m\u001b[43mparameters\u001b[49m\u001b[43m=\u001b[49m\u001b[43mparameters\u001b[49m\u001b[43m,\u001b[49m\n\u001b[32m   1005\u001b[39m \u001b[43m        \u001b[49m\u001b[43msplit_progress\u001b[49m\u001b[43m=\u001b[49m\u001b[43m(\u001b[49m\u001b[43msplit_idx\u001b[49m\u001b[43m,\u001b[49m\u001b[43m \u001b[49m\u001b[43mn_splits\u001b[49m\u001b[43m)\u001b[49m\u001b[43m,\u001b[49m\n\u001b[32m   1006\u001b[39m \u001b[43m        \u001b[49m\u001b[43mcandidate_progress\u001b[49m\u001b[43m=\u001b[49m\u001b[43m(\u001b[49m\u001b[43mcand_idx\u001b[49m\u001b[43m,\u001b[49m\u001b[43m \u001b[49m\u001b[43mn_candidates\u001b[49m\u001b[43m)\u001b[49m\u001b[43m,\u001b[49m\n\u001b[32m   1007\u001b[39m \u001b[43m        \u001b[49m\u001b[43m*\u001b[49m\u001b[43m*\u001b[49m\u001b[43mfit_and_score_kwargs\u001b[49m\u001b[43m,\u001b[49m\n\u001b[32m   1008\u001b[39m \u001b[43m    \u001b[49m\u001b[43m)\u001b[49m\n\u001b[32m   1009\u001b[39m \u001b[43m    \u001b[49m\u001b[38;5;28;43;01mfor\u001b[39;49;00m\u001b[43m \u001b[49m\u001b[43m(\u001b[49m\u001b[43mcand_idx\u001b[49m\u001b[43m,\u001b[49m\u001b[43m \u001b[49m\u001b[43mparameters\u001b[49m\u001b[43m)\u001b[49m\u001b[43m,\u001b[49m\u001b[43m \u001b[49m\u001b[43m(\u001b[49m\u001b[43msplit_idx\u001b[49m\u001b[43m,\u001b[49m\u001b[43m \u001b[49m\u001b[43m(\u001b[49m\u001b[43mtrain\u001b[49m\u001b[43m,\u001b[49m\u001b[43m \u001b[49m\u001b[43mtest\u001b[49m\u001b[43m)\u001b[49m\u001b[43m)\u001b[49m\u001b[43m \u001b[49m\u001b[38;5;129;43;01min\u001b[39;49;00m\u001b[43m \u001b[49m\u001b[43mproduct\u001b[49m\u001b[43m(\u001b[49m\n\u001b[32m   1010\u001b[39m \u001b[43m        \u001b[49m\u001b[38;5;28;43menumerate\u001b[39;49m\u001b[43m(\u001b[49m\u001b[43mcandidate_params\u001b[49m\u001b[43m)\u001b[49m\u001b[43m,\u001b[49m\n\u001b[32m   1011\u001b[39m \u001b[43m        \u001b[49m\u001b[38;5;28;43menumerate\u001b[39;49m\u001b[43m(\u001b[49m\u001b[43mcv\u001b[49m\u001b[43m.\u001b[49m\u001b[43msplit\u001b[49m\u001b[43m(\u001b[49m\u001b[43mX\u001b[49m\u001b[43m,\u001b[49m\u001b[43m \u001b[49m\u001b[43my\u001b[49m\u001b[43m,\u001b[49m\u001b[43m \u001b[49m\u001b[43m*\u001b[49m\u001b[43m*\u001b[49m\u001b[43mrouted_params\u001b[49m\u001b[43m.\u001b[49m\u001b[43msplitter\u001b[49m\u001b[43m.\u001b[49m\u001b[43msplit\u001b[49m\u001b[43m)\u001b[49m\u001b[43m)\u001b[49m\u001b[43m,\u001b[49m\n\u001b[32m   1012\u001b[39m \u001b[43m    \u001b[49m\u001b[43m)\u001b[49m\n\u001b[32m   1013\u001b[39m \u001b[43m\u001b[49m\u001b[43m)\u001b[49m\n\u001b[32m   1015\u001b[39m \u001b[38;5;28;01mif\u001b[39;00m \u001b[38;5;28mlen\u001b[39m(out) < \u001b[32m1\u001b[39m:\n\u001b[32m   1016\u001b[39m     \u001b[38;5;28;01mraise\u001b[39;00m \u001b[38;5;167;01mValueError\u001b[39;00m(\n\u001b[32m   1017\u001b[39m         \u001b[33m\"\u001b[39m\u001b[33mNo fits were performed. \u001b[39m\u001b[33m\"\u001b[39m\n\u001b[32m   1018\u001b[39m         \u001b[33m\"\u001b[39m\u001b[33mWas the CV iterator empty? \u001b[39m\u001b[33m\"\u001b[39m\n\u001b[32m   1019\u001b[39m         \u001b[33m\"\u001b[39m\u001b[33mWere there no candidates?\u001b[39m\u001b[33m\"\u001b[39m\n\u001b[32m   1020\u001b[39m     )\n",
      "\u001b[36mFile \u001b[39m\u001b[32mc:\\Users\\LENOVO\\AppData\\Local\\Programs\\Python\\Python313\\Lib\\site-packages\\sklearn\\utils\\parallel.py:82\u001b[39m, in \u001b[36mParallel.__call__\u001b[39m\u001b[34m(self, iterable)\u001b[39m\n\u001b[32m     73\u001b[39m warning_filters = warnings.filters\n\u001b[32m     74\u001b[39m iterable_with_config_and_warning_filters = (\n\u001b[32m     75\u001b[39m     (\n\u001b[32m     76\u001b[39m         _with_config_and_warning_filters(delayed_func, config, warning_filters),\n\u001b[32m   (...)\u001b[39m\u001b[32m     80\u001b[39m     \u001b[38;5;28;01mfor\u001b[39;00m delayed_func, args, kwargs \u001b[38;5;129;01min\u001b[39;00m iterable\n\u001b[32m     81\u001b[39m )\n\u001b[32m---> \u001b[39m\u001b[32m82\u001b[39m \u001b[38;5;28;01mreturn\u001b[39;00m \u001b[38;5;28;43msuper\u001b[39;49m\u001b[43m(\u001b[49m\u001b[43m)\u001b[49m\u001b[43m.\u001b[49m\u001b[34;43m__call__\u001b[39;49m\u001b[43m(\u001b[49m\u001b[43miterable_with_config_and_warning_filters\u001b[49m\u001b[43m)\u001b[49m\n",
      "\u001b[36mFile \u001b[39m\u001b[32mc:\\Users\\LENOVO\\AppData\\Local\\Programs\\Python\\Python313\\Lib\\site-packages\\joblib\\parallel.py:2072\u001b[39m, in \u001b[36mParallel.__call__\u001b[39m\u001b[34m(self, iterable)\u001b[39m\n\u001b[32m   2066\u001b[39m \u001b[38;5;66;03m# The first item from the output is blank, but it makes the interpreter\u001b[39;00m\n\u001b[32m   2067\u001b[39m \u001b[38;5;66;03m# progress until it enters the Try/Except block of the generator and\u001b[39;00m\n\u001b[32m   2068\u001b[39m \u001b[38;5;66;03m# reaches the first `yield` statement. This starts the asynchronous\u001b[39;00m\n\u001b[32m   2069\u001b[39m \u001b[38;5;66;03m# dispatch of the tasks to the workers.\u001b[39;00m\n\u001b[32m   2070\u001b[39m \u001b[38;5;28mnext\u001b[39m(output)\n\u001b[32m-> \u001b[39m\u001b[32m2072\u001b[39m \u001b[38;5;28;01mreturn\u001b[39;00m output \u001b[38;5;28;01mif\u001b[39;00m \u001b[38;5;28mself\u001b[39m.return_generator \u001b[38;5;28;01melse\u001b[39;00m \u001b[38;5;28;43mlist\u001b[39;49m\u001b[43m(\u001b[49m\u001b[43moutput\u001b[49m\u001b[43m)\u001b[49m\n",
      "\u001b[36mFile \u001b[39m\u001b[32mc:\\Users\\LENOVO\\AppData\\Local\\Programs\\Python\\Python313\\Lib\\site-packages\\joblib\\parallel.py:1682\u001b[39m, in \u001b[36mParallel._get_outputs\u001b[39m\u001b[34m(self, iterator, pre_dispatch)\u001b[39m\n\u001b[32m   1679\u001b[39m     \u001b[38;5;28;01myield\u001b[39;00m\n\u001b[32m   1681\u001b[39m     \u001b[38;5;28;01mwith\u001b[39;00m \u001b[38;5;28mself\u001b[39m._backend.retrieval_context():\n\u001b[32m-> \u001b[39m\u001b[32m1682\u001b[39m         \u001b[38;5;28;01myield from\u001b[39;00m \u001b[38;5;28mself\u001b[39m._retrieve()\n\u001b[32m   1684\u001b[39m \u001b[38;5;28;01mexcept\u001b[39;00m \u001b[38;5;167;01mGeneratorExit\u001b[39;00m:\n\u001b[32m   1685\u001b[39m     \u001b[38;5;66;03m# The generator has been garbage collected before being fully\u001b[39;00m\n\u001b[32m   1686\u001b[39m     \u001b[38;5;66;03m# consumed. This aborts the remaining tasks if possible and warn\u001b[39;00m\n\u001b[32m   1687\u001b[39m     \u001b[38;5;66;03m# the user if necessary.\u001b[39;00m\n\u001b[32m   1688\u001b[39m     \u001b[38;5;28mself\u001b[39m._exception = \u001b[38;5;28;01mTrue\u001b[39;00m\n",
      "\u001b[36mFile \u001b[39m\u001b[32mc:\\Users\\LENOVO\\AppData\\Local\\Programs\\Python\\Python313\\Lib\\site-packages\\joblib\\parallel.py:1800\u001b[39m, in \u001b[36mParallel._retrieve\u001b[39m\u001b[34m(self)\u001b[39m\n\u001b[32m   1789\u001b[39m \u001b[38;5;28;01mif\u001b[39;00m \u001b[38;5;28mself\u001b[39m.return_ordered:\n\u001b[32m   1790\u001b[39m     \u001b[38;5;66;03m# Case ordered: wait for completion (or error) of the next job\u001b[39;00m\n\u001b[32m   1791\u001b[39m     \u001b[38;5;66;03m# that have been dispatched and not retrieved yet. If no job\u001b[39;00m\n\u001b[32m   (...)\u001b[39m\u001b[32m   1795\u001b[39m     \u001b[38;5;66;03m# control only have to be done on the amount of time the next\u001b[39;00m\n\u001b[32m   1796\u001b[39m     \u001b[38;5;66;03m# dispatched job is pending.\u001b[39;00m\n\u001b[32m   1797\u001b[39m     \u001b[38;5;28;01mif\u001b[39;00m (nb_jobs == \u001b[32m0\u001b[39m) \u001b[38;5;129;01mor\u001b[39;00m (\n\u001b[32m   1798\u001b[39m         \u001b[38;5;28mself\u001b[39m._jobs[\u001b[32m0\u001b[39m].get_status(timeout=\u001b[38;5;28mself\u001b[39m.timeout) == TASK_PENDING\n\u001b[32m   1799\u001b[39m     ):\n\u001b[32m-> \u001b[39m\u001b[32m1800\u001b[39m         \u001b[43mtime\u001b[49m\u001b[43m.\u001b[49m\u001b[43msleep\u001b[49m\u001b[43m(\u001b[49m\u001b[32;43m0.01\u001b[39;49m\u001b[43m)\u001b[49m\n\u001b[32m   1801\u001b[39m         \u001b[38;5;28;01mcontinue\u001b[39;00m\n\u001b[32m   1803\u001b[39m \u001b[38;5;28;01melif\u001b[39;00m nb_jobs == \u001b[32m0\u001b[39m:\n\u001b[32m   1804\u001b[39m     \u001b[38;5;66;03m# Case unordered: jobs are added to the list of jobs to\u001b[39;00m\n\u001b[32m   1805\u001b[39m     \u001b[38;5;66;03m# retrieve `self._jobs` only once completed or in error, which\u001b[39;00m\n\u001b[32m   (...)\u001b[39m\u001b[32m   1811\u001b[39m     \u001b[38;5;66;03m# timeouts before any other dispatched job has completed and\u001b[39;00m\n\u001b[32m   1812\u001b[39m     \u001b[38;5;66;03m# been added to `self._jobs` to be retrieved.\u001b[39;00m\n",
      "\u001b[31mKeyboardInterrupt\u001b[39m: "
     ]
    }
   ],
   "source": [
    "from sklearn.feature_extraction.text import TfidfVectorizer\n",
    "from sklearn.svm import SVC\n",
    "from sklearn.model_selection import GridSearchCV\n",
    "from imblearn.pipeline import Pipeline\n",
    "from imblearn.over_sampling import SMOTE\n",
    "from sklearn.metrics import classification_report\n",
    "\n",
    "# Assume you have preprocessed X_train, y_train, X_test, y_test\n",
    "# First, create a pipeline\n",
    "pipeline = Pipeline([\n",
    "    ('tfidf', TfidfVectorizer(ngram_range=(1, 2))),  # Use TF-IDF with bigrams\n",
    "    ('smote', SMOTE(random_state=42)),             # Address class imbalance\n",
    "    ('svm', SVC(class_weight='balanced'))           # SVM with balanced class weights\n",
    "])\n",
    "\n",
    "# Define a grid of hyperparameters to search\n",
    "param_grid = {\n",
    "    'tfidf__max_df': [0.95, 1.0],\n",
    "    'svm__C': [0.1, 1, 10],\n",
    "    'svm__kernel': ['linear', 'rbf'],\n",
    "    'svm__gamma': ['scale', 0.1, 1]\n",
    "}\n",
    "\n",
    "# Set up Grid Search with cross-validation\n",
    "grid_search = GridSearchCV(pipeline, param_grid, cv=5, scoring='f1_weighted', n_jobs=-1, verbose=1)\n",
    "\n",
    "# Fit the model to the training data\n",
    "grid_search.fit(X_train, y_train)\n",
    "\n",
    "# Print the best parameters and the best score\n",
    "print(f\"Best parameters: {grid_search.best_params_}\")\n",
    "print(f\"Best cross-validation F1-score: {grid_search.best_score_:.2f}\")\n",
    "\n",
    "# Make predictions on the test set with the best model\n",
    "y_pred = grid_search.predict(X_test)\n",
    "\n",
    "# Print the final classification report\n",
    "print(classification_report(y_test, y_pred))\n"
   ]
  }
 ],
 "metadata": {
  "kaggle": {
   "accelerator": "none",
   "dataSources": [
    {
     "datasetId": 7090023,
     "sourceId": 11815953,
     "sourceType": "datasetVersion"
    },
    {
     "datasetId": 8578014,
     "sourceId": 13510450,
     "sourceType": "datasetVersion"
    }
   ],
   "dockerImageVersionId": 31153,
   "isGpuEnabled": false,
   "isInternetEnabled": true,
   "language": "python",
   "sourceType": "notebook"
  },
  "kernelspec": {
   "display_name": "Python 3",
   "language": "python",
   "name": "python3"
  },
  "language_info": {
   "codemirror_mode": {
    "name": "ipython",
    "version": 3
   },
   "file_extension": ".py",
   "mimetype": "text/x-python",
   "name": "python",
   "nbconvert_exporter": "python",
   "pygments_lexer": "ipython3",
   "version": "3.13.5"
  }
 },
 "nbformat": 4,
 "nbformat_minor": 4
}
